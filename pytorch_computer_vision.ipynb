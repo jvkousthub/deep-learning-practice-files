{
  "nbformat": 4,
  "nbformat_minor": 0,
  "metadata": {
    "colab": {
      "provenance": [],
      "authorship_tag": "ABX9TyO2aMs/M3KRFcalj54QBZPv",
      "include_colab_link": true
    },
    "kernelspec": {
      "name": "python3",
      "display_name": "Python 3"
    },
    "language_info": {
      "name": "python"
    },
    "widgets": {
      "application/vnd.jupyter.widget-state+json": {
        "9a90d5c9605145d299f0dd70e79b16c9": {
          "model_module": "@jupyter-widgets/controls",
          "model_name": "HBoxModel",
          "model_module_version": "1.5.0",
          "state": {
            "_dom_classes": [],
            "_model_module": "@jupyter-widgets/controls",
            "_model_module_version": "1.5.0",
            "_model_name": "HBoxModel",
            "_view_count": null,
            "_view_module": "@jupyter-widgets/controls",
            "_view_module_version": "1.5.0",
            "_view_name": "HBoxView",
            "box_style": "",
            "children": [
              "IPY_MODEL_1afcbcbef41c435d91b78acebdd817b4",
              "IPY_MODEL_083110707288462e9bffae4224811f73",
              "IPY_MODEL_4b700c502a464c8cbffba96faa3cfa76"
            ],
            "layout": "IPY_MODEL_2f79e4503ec645169a192d13352c5b53"
          }
        },
        "1afcbcbef41c435d91b78acebdd817b4": {
          "model_module": "@jupyter-widgets/controls",
          "model_name": "HTMLModel",
          "model_module_version": "1.5.0",
          "state": {
            "_dom_classes": [],
            "_model_module": "@jupyter-widgets/controls",
            "_model_module_version": "1.5.0",
            "_model_name": "HTMLModel",
            "_view_count": null,
            "_view_module": "@jupyter-widgets/controls",
            "_view_module_version": "1.5.0",
            "_view_name": "HTMLView",
            "description": "",
            "description_tooltip": null,
            "layout": "IPY_MODEL_288b4b1b8bce40349dbf13e53945c06b",
            "placeholder": "​",
            "style": "IPY_MODEL_180fa859159d4f34804e2f41abc33a57",
            "value": "100%"
          }
        },
        "083110707288462e9bffae4224811f73": {
          "model_module": "@jupyter-widgets/controls",
          "model_name": "FloatProgressModel",
          "model_module_version": "1.5.0",
          "state": {
            "_dom_classes": [],
            "_model_module": "@jupyter-widgets/controls",
            "_model_module_version": "1.5.0",
            "_model_name": "FloatProgressModel",
            "_view_count": null,
            "_view_module": "@jupyter-widgets/controls",
            "_view_module_version": "1.5.0",
            "_view_name": "ProgressView",
            "bar_style": "success",
            "description": "",
            "description_tooltip": null,
            "layout": "IPY_MODEL_9e9aa510fb5a495c867f181774aec2c2",
            "max": 3,
            "min": 0,
            "orientation": "horizontal",
            "style": "IPY_MODEL_099886ca7990482caf6a2c9c0f2c8b3a",
            "value": 3
          }
        },
        "4b700c502a464c8cbffba96faa3cfa76": {
          "model_module": "@jupyter-widgets/controls",
          "model_name": "HTMLModel",
          "model_module_version": "1.5.0",
          "state": {
            "_dom_classes": [],
            "_model_module": "@jupyter-widgets/controls",
            "_model_module_version": "1.5.0",
            "_model_name": "HTMLModel",
            "_view_count": null,
            "_view_module": "@jupyter-widgets/controls",
            "_view_module_version": "1.5.0",
            "_view_name": "HTMLView",
            "description": "",
            "description_tooltip": null,
            "layout": "IPY_MODEL_983e5807abe34a46b07f4f4437ea781a",
            "placeholder": "​",
            "style": "IPY_MODEL_28193591b53b4bdb85bdcf9e3abfbb10",
            "value": " 3/3 [00:24&lt;00:00,  8.27s/it]"
          }
        },
        "2f79e4503ec645169a192d13352c5b53": {
          "model_module": "@jupyter-widgets/base",
          "model_name": "LayoutModel",
          "model_module_version": "1.2.0",
          "state": {
            "_model_module": "@jupyter-widgets/base",
            "_model_module_version": "1.2.0",
            "_model_name": "LayoutModel",
            "_view_count": null,
            "_view_module": "@jupyter-widgets/base",
            "_view_module_version": "1.2.0",
            "_view_name": "LayoutView",
            "align_content": null,
            "align_items": null,
            "align_self": null,
            "border": null,
            "bottom": null,
            "display": null,
            "flex": null,
            "flex_flow": null,
            "grid_area": null,
            "grid_auto_columns": null,
            "grid_auto_flow": null,
            "grid_auto_rows": null,
            "grid_column": null,
            "grid_gap": null,
            "grid_row": null,
            "grid_template_areas": null,
            "grid_template_columns": null,
            "grid_template_rows": null,
            "height": null,
            "justify_content": null,
            "justify_items": null,
            "left": null,
            "margin": null,
            "max_height": null,
            "max_width": null,
            "min_height": null,
            "min_width": null,
            "object_fit": null,
            "object_position": null,
            "order": null,
            "overflow": null,
            "overflow_x": null,
            "overflow_y": null,
            "padding": null,
            "right": null,
            "top": null,
            "visibility": null,
            "width": null
          }
        },
        "288b4b1b8bce40349dbf13e53945c06b": {
          "model_module": "@jupyter-widgets/base",
          "model_name": "LayoutModel",
          "model_module_version": "1.2.0",
          "state": {
            "_model_module": "@jupyter-widgets/base",
            "_model_module_version": "1.2.0",
            "_model_name": "LayoutModel",
            "_view_count": null,
            "_view_module": "@jupyter-widgets/base",
            "_view_module_version": "1.2.0",
            "_view_name": "LayoutView",
            "align_content": null,
            "align_items": null,
            "align_self": null,
            "border": null,
            "bottom": null,
            "display": null,
            "flex": null,
            "flex_flow": null,
            "grid_area": null,
            "grid_auto_columns": null,
            "grid_auto_flow": null,
            "grid_auto_rows": null,
            "grid_column": null,
            "grid_gap": null,
            "grid_row": null,
            "grid_template_areas": null,
            "grid_template_columns": null,
            "grid_template_rows": null,
            "height": null,
            "justify_content": null,
            "justify_items": null,
            "left": null,
            "margin": null,
            "max_height": null,
            "max_width": null,
            "min_height": null,
            "min_width": null,
            "object_fit": null,
            "object_position": null,
            "order": null,
            "overflow": null,
            "overflow_x": null,
            "overflow_y": null,
            "padding": null,
            "right": null,
            "top": null,
            "visibility": null,
            "width": null
          }
        },
        "180fa859159d4f34804e2f41abc33a57": {
          "model_module": "@jupyter-widgets/controls",
          "model_name": "DescriptionStyleModel",
          "model_module_version": "1.5.0",
          "state": {
            "_model_module": "@jupyter-widgets/controls",
            "_model_module_version": "1.5.0",
            "_model_name": "DescriptionStyleModel",
            "_view_count": null,
            "_view_module": "@jupyter-widgets/base",
            "_view_module_version": "1.2.0",
            "_view_name": "StyleView",
            "description_width": ""
          }
        },
        "9e9aa510fb5a495c867f181774aec2c2": {
          "model_module": "@jupyter-widgets/base",
          "model_name": "LayoutModel",
          "model_module_version": "1.2.0",
          "state": {
            "_model_module": "@jupyter-widgets/base",
            "_model_module_version": "1.2.0",
            "_model_name": "LayoutModel",
            "_view_count": null,
            "_view_module": "@jupyter-widgets/base",
            "_view_module_version": "1.2.0",
            "_view_name": "LayoutView",
            "align_content": null,
            "align_items": null,
            "align_self": null,
            "border": null,
            "bottom": null,
            "display": null,
            "flex": null,
            "flex_flow": null,
            "grid_area": null,
            "grid_auto_columns": null,
            "grid_auto_flow": null,
            "grid_auto_rows": null,
            "grid_column": null,
            "grid_gap": null,
            "grid_row": null,
            "grid_template_areas": null,
            "grid_template_columns": null,
            "grid_template_rows": null,
            "height": null,
            "justify_content": null,
            "justify_items": null,
            "left": null,
            "margin": null,
            "max_height": null,
            "max_width": null,
            "min_height": null,
            "min_width": null,
            "object_fit": null,
            "object_position": null,
            "order": null,
            "overflow": null,
            "overflow_x": null,
            "overflow_y": null,
            "padding": null,
            "right": null,
            "top": null,
            "visibility": null,
            "width": null
          }
        },
        "099886ca7990482caf6a2c9c0f2c8b3a": {
          "model_module": "@jupyter-widgets/controls",
          "model_name": "ProgressStyleModel",
          "model_module_version": "1.5.0",
          "state": {
            "_model_module": "@jupyter-widgets/controls",
            "_model_module_version": "1.5.0",
            "_model_name": "ProgressStyleModel",
            "_view_count": null,
            "_view_module": "@jupyter-widgets/base",
            "_view_module_version": "1.2.0",
            "_view_name": "StyleView",
            "bar_color": null,
            "description_width": ""
          }
        },
        "983e5807abe34a46b07f4f4437ea781a": {
          "model_module": "@jupyter-widgets/base",
          "model_name": "LayoutModel",
          "model_module_version": "1.2.0",
          "state": {
            "_model_module": "@jupyter-widgets/base",
            "_model_module_version": "1.2.0",
            "_model_name": "LayoutModel",
            "_view_count": null,
            "_view_module": "@jupyter-widgets/base",
            "_view_module_version": "1.2.0",
            "_view_name": "LayoutView",
            "align_content": null,
            "align_items": null,
            "align_self": null,
            "border": null,
            "bottom": null,
            "display": null,
            "flex": null,
            "flex_flow": null,
            "grid_area": null,
            "grid_auto_columns": null,
            "grid_auto_flow": null,
            "grid_auto_rows": null,
            "grid_column": null,
            "grid_gap": null,
            "grid_row": null,
            "grid_template_areas": null,
            "grid_template_columns": null,
            "grid_template_rows": null,
            "height": null,
            "justify_content": null,
            "justify_items": null,
            "left": null,
            "margin": null,
            "max_height": null,
            "max_width": null,
            "min_height": null,
            "min_width": null,
            "object_fit": null,
            "object_position": null,
            "order": null,
            "overflow": null,
            "overflow_x": null,
            "overflow_y": null,
            "padding": null,
            "right": null,
            "top": null,
            "visibility": null,
            "width": null
          }
        },
        "28193591b53b4bdb85bdcf9e3abfbb10": {
          "model_module": "@jupyter-widgets/controls",
          "model_name": "DescriptionStyleModel",
          "model_module_version": "1.5.0",
          "state": {
            "_model_module": "@jupyter-widgets/controls",
            "_model_module_version": "1.5.0",
            "_model_name": "DescriptionStyleModel",
            "_view_count": null,
            "_view_module": "@jupyter-widgets/base",
            "_view_module_version": "1.2.0",
            "_view_name": "StyleView",
            "description_width": ""
          }
        },
        "64ea80d32d344d518344c1d9c4bde509": {
          "model_module": "@jupyter-widgets/controls",
          "model_name": "HBoxModel",
          "model_module_version": "1.5.0",
          "state": {
            "_dom_classes": [],
            "_model_module": "@jupyter-widgets/controls",
            "_model_module_version": "1.5.0",
            "_model_name": "HBoxModel",
            "_view_count": null,
            "_view_module": "@jupyter-widgets/controls",
            "_view_module_version": "1.5.0",
            "_view_name": "HBoxView",
            "box_style": "",
            "children": [
              "IPY_MODEL_75eebc702e2747959fa13151f1b80be3",
              "IPY_MODEL_5db41c826c6e4b5ab6b8ec9592ea8c23",
              "IPY_MODEL_e1e4bca1c4b24e84ac896bf7efa75192"
            ],
            "layout": "IPY_MODEL_9faa967d619f442085b99d55d534fefe"
          }
        },
        "75eebc702e2747959fa13151f1b80be3": {
          "model_module": "@jupyter-widgets/controls",
          "model_name": "HTMLModel",
          "model_module_version": "1.5.0",
          "state": {
            "_dom_classes": [],
            "_model_module": "@jupyter-widgets/controls",
            "_model_module_version": "1.5.0",
            "_model_name": "HTMLModel",
            "_view_count": null,
            "_view_module": "@jupyter-widgets/controls",
            "_view_module_version": "1.5.0",
            "_view_name": "HTMLView",
            "description": "",
            "description_tooltip": null,
            "layout": "IPY_MODEL_9b5b20c1cba54e7aa0b21d7118a6a304",
            "placeholder": "​",
            "style": "IPY_MODEL_4e7107b89cdf4cdd9326dce4518dc651",
            "value": "100%"
          }
        },
        "5db41c826c6e4b5ab6b8ec9592ea8c23": {
          "model_module": "@jupyter-widgets/controls",
          "model_name": "FloatProgressModel",
          "model_module_version": "1.5.0",
          "state": {
            "_dom_classes": [],
            "_model_module": "@jupyter-widgets/controls",
            "_model_module_version": "1.5.0",
            "_model_name": "FloatProgressModel",
            "_view_count": null,
            "_view_module": "@jupyter-widgets/controls",
            "_view_module_version": "1.5.0",
            "_view_name": "ProgressView",
            "bar_style": "success",
            "description": "",
            "description_tooltip": null,
            "layout": "IPY_MODEL_2784ca4ae62c49039eb29aecb3bf914c",
            "max": 3,
            "min": 0,
            "orientation": "horizontal",
            "style": "IPY_MODEL_daf3ead14ac24e7e84c19d32c1e2cf42",
            "value": 3
          }
        },
        "e1e4bca1c4b24e84ac896bf7efa75192": {
          "model_module": "@jupyter-widgets/controls",
          "model_name": "HTMLModel",
          "model_module_version": "1.5.0",
          "state": {
            "_dom_classes": [],
            "_model_module": "@jupyter-widgets/controls",
            "_model_module_version": "1.5.0",
            "_model_name": "HTMLModel",
            "_view_count": null,
            "_view_module": "@jupyter-widgets/controls",
            "_view_module_version": "1.5.0",
            "_view_name": "HTMLView",
            "description": "",
            "description_tooltip": null,
            "layout": "IPY_MODEL_c2ac45528f654c7abc320d7dcd0f8d7b",
            "placeholder": "​",
            "style": "IPY_MODEL_49ff48774a12421fa982f75804078ba4",
            "value": " 3/3 [00:27&lt;00:00,  9.16s/it]"
          }
        },
        "9faa967d619f442085b99d55d534fefe": {
          "model_module": "@jupyter-widgets/base",
          "model_name": "LayoutModel",
          "model_module_version": "1.2.0",
          "state": {
            "_model_module": "@jupyter-widgets/base",
            "_model_module_version": "1.2.0",
            "_model_name": "LayoutModel",
            "_view_count": null,
            "_view_module": "@jupyter-widgets/base",
            "_view_module_version": "1.2.0",
            "_view_name": "LayoutView",
            "align_content": null,
            "align_items": null,
            "align_self": null,
            "border": null,
            "bottom": null,
            "display": null,
            "flex": null,
            "flex_flow": null,
            "grid_area": null,
            "grid_auto_columns": null,
            "grid_auto_flow": null,
            "grid_auto_rows": null,
            "grid_column": null,
            "grid_gap": null,
            "grid_row": null,
            "grid_template_areas": null,
            "grid_template_columns": null,
            "grid_template_rows": null,
            "height": null,
            "justify_content": null,
            "justify_items": null,
            "left": null,
            "margin": null,
            "max_height": null,
            "max_width": null,
            "min_height": null,
            "min_width": null,
            "object_fit": null,
            "object_position": null,
            "order": null,
            "overflow": null,
            "overflow_x": null,
            "overflow_y": null,
            "padding": null,
            "right": null,
            "top": null,
            "visibility": null,
            "width": null
          }
        },
        "9b5b20c1cba54e7aa0b21d7118a6a304": {
          "model_module": "@jupyter-widgets/base",
          "model_name": "LayoutModel",
          "model_module_version": "1.2.0",
          "state": {
            "_model_module": "@jupyter-widgets/base",
            "_model_module_version": "1.2.0",
            "_model_name": "LayoutModel",
            "_view_count": null,
            "_view_module": "@jupyter-widgets/base",
            "_view_module_version": "1.2.0",
            "_view_name": "LayoutView",
            "align_content": null,
            "align_items": null,
            "align_self": null,
            "border": null,
            "bottom": null,
            "display": null,
            "flex": null,
            "flex_flow": null,
            "grid_area": null,
            "grid_auto_columns": null,
            "grid_auto_flow": null,
            "grid_auto_rows": null,
            "grid_column": null,
            "grid_gap": null,
            "grid_row": null,
            "grid_template_areas": null,
            "grid_template_columns": null,
            "grid_template_rows": null,
            "height": null,
            "justify_content": null,
            "justify_items": null,
            "left": null,
            "margin": null,
            "max_height": null,
            "max_width": null,
            "min_height": null,
            "min_width": null,
            "object_fit": null,
            "object_position": null,
            "order": null,
            "overflow": null,
            "overflow_x": null,
            "overflow_y": null,
            "padding": null,
            "right": null,
            "top": null,
            "visibility": null,
            "width": null
          }
        },
        "4e7107b89cdf4cdd9326dce4518dc651": {
          "model_module": "@jupyter-widgets/controls",
          "model_name": "DescriptionStyleModel",
          "model_module_version": "1.5.0",
          "state": {
            "_model_module": "@jupyter-widgets/controls",
            "_model_module_version": "1.5.0",
            "_model_name": "DescriptionStyleModel",
            "_view_count": null,
            "_view_module": "@jupyter-widgets/base",
            "_view_module_version": "1.2.0",
            "_view_name": "StyleView",
            "description_width": ""
          }
        },
        "2784ca4ae62c49039eb29aecb3bf914c": {
          "model_module": "@jupyter-widgets/base",
          "model_name": "LayoutModel",
          "model_module_version": "1.2.0",
          "state": {
            "_model_module": "@jupyter-widgets/base",
            "_model_module_version": "1.2.0",
            "_model_name": "LayoutModel",
            "_view_count": null,
            "_view_module": "@jupyter-widgets/base",
            "_view_module_version": "1.2.0",
            "_view_name": "LayoutView",
            "align_content": null,
            "align_items": null,
            "align_self": null,
            "border": null,
            "bottom": null,
            "display": null,
            "flex": null,
            "flex_flow": null,
            "grid_area": null,
            "grid_auto_columns": null,
            "grid_auto_flow": null,
            "grid_auto_rows": null,
            "grid_column": null,
            "grid_gap": null,
            "grid_row": null,
            "grid_template_areas": null,
            "grid_template_columns": null,
            "grid_template_rows": null,
            "height": null,
            "justify_content": null,
            "justify_items": null,
            "left": null,
            "margin": null,
            "max_height": null,
            "max_width": null,
            "min_height": null,
            "min_width": null,
            "object_fit": null,
            "object_position": null,
            "order": null,
            "overflow": null,
            "overflow_x": null,
            "overflow_y": null,
            "padding": null,
            "right": null,
            "top": null,
            "visibility": null,
            "width": null
          }
        },
        "daf3ead14ac24e7e84c19d32c1e2cf42": {
          "model_module": "@jupyter-widgets/controls",
          "model_name": "ProgressStyleModel",
          "model_module_version": "1.5.0",
          "state": {
            "_model_module": "@jupyter-widgets/controls",
            "_model_module_version": "1.5.0",
            "_model_name": "ProgressStyleModel",
            "_view_count": null,
            "_view_module": "@jupyter-widgets/base",
            "_view_module_version": "1.2.0",
            "_view_name": "StyleView",
            "bar_color": null,
            "description_width": ""
          }
        },
        "c2ac45528f654c7abc320d7dcd0f8d7b": {
          "model_module": "@jupyter-widgets/base",
          "model_name": "LayoutModel",
          "model_module_version": "1.2.0",
          "state": {
            "_model_module": "@jupyter-widgets/base",
            "_model_module_version": "1.2.0",
            "_model_name": "LayoutModel",
            "_view_count": null,
            "_view_module": "@jupyter-widgets/base",
            "_view_module_version": "1.2.0",
            "_view_name": "LayoutView",
            "align_content": null,
            "align_items": null,
            "align_self": null,
            "border": null,
            "bottom": null,
            "display": null,
            "flex": null,
            "flex_flow": null,
            "grid_area": null,
            "grid_auto_columns": null,
            "grid_auto_flow": null,
            "grid_auto_rows": null,
            "grid_column": null,
            "grid_gap": null,
            "grid_row": null,
            "grid_template_areas": null,
            "grid_template_columns": null,
            "grid_template_rows": null,
            "height": null,
            "justify_content": null,
            "justify_items": null,
            "left": null,
            "margin": null,
            "max_height": null,
            "max_width": null,
            "min_height": null,
            "min_width": null,
            "object_fit": null,
            "object_position": null,
            "order": null,
            "overflow": null,
            "overflow_x": null,
            "overflow_y": null,
            "padding": null,
            "right": null,
            "top": null,
            "visibility": null,
            "width": null
          }
        },
        "49ff48774a12421fa982f75804078ba4": {
          "model_module": "@jupyter-widgets/controls",
          "model_name": "DescriptionStyleModel",
          "model_module_version": "1.5.0",
          "state": {
            "_model_module": "@jupyter-widgets/controls",
            "_model_module_version": "1.5.0",
            "_model_name": "DescriptionStyleModel",
            "_view_count": null,
            "_view_module": "@jupyter-widgets/base",
            "_view_module_version": "1.2.0",
            "_view_name": "StyleView",
            "description_width": ""
          }
        },
        "e1cae16e8934442d82a2241ec236571b": {
          "model_module": "@jupyter-widgets/controls",
          "model_name": "HBoxModel",
          "model_module_version": "1.5.0",
          "state": {
            "_dom_classes": [],
            "_model_module": "@jupyter-widgets/controls",
            "_model_module_version": "1.5.0",
            "_model_name": "HBoxModel",
            "_view_count": null,
            "_view_module": "@jupyter-widgets/controls",
            "_view_module_version": "1.5.0",
            "_view_name": "HBoxView",
            "box_style": "",
            "children": [
              "IPY_MODEL_56a28ec9c7314460a3c5e1a042ca3a32",
              "IPY_MODEL_d659114bfa154d4b9778710578b05b26",
              "IPY_MODEL_5dcb6803b7b54943b405f30725d21de1"
            ],
            "layout": "IPY_MODEL_99822d3ba15b4599817d70055167dfc5"
          }
        },
        "56a28ec9c7314460a3c5e1a042ca3a32": {
          "model_module": "@jupyter-widgets/controls",
          "model_name": "HTMLModel",
          "model_module_version": "1.5.0",
          "state": {
            "_dom_classes": [],
            "_model_module": "@jupyter-widgets/controls",
            "_model_module_version": "1.5.0",
            "_model_name": "HTMLModel",
            "_view_count": null,
            "_view_module": "@jupyter-widgets/controls",
            "_view_module_version": "1.5.0",
            "_view_name": "HTMLView",
            "description": "",
            "description_tooltip": null,
            "layout": "IPY_MODEL_a659028914e24006a4dd995aae761a2b",
            "placeholder": "​",
            "style": "IPY_MODEL_d2fd0642b2d649f0930968568ba28bb7",
            "value": "100%"
          }
        },
        "d659114bfa154d4b9778710578b05b26": {
          "model_module": "@jupyter-widgets/controls",
          "model_name": "FloatProgressModel",
          "model_module_version": "1.5.0",
          "state": {
            "_dom_classes": [],
            "_model_module": "@jupyter-widgets/controls",
            "_model_module_version": "1.5.0",
            "_model_name": "FloatProgressModel",
            "_view_count": null,
            "_view_module": "@jupyter-widgets/controls",
            "_view_module_version": "1.5.0",
            "_view_name": "ProgressView",
            "bar_style": "success",
            "description": "",
            "description_tooltip": null,
            "layout": "IPY_MODEL_ffd135f02f5841508fb4263267116320",
            "max": 3,
            "min": 0,
            "orientation": "horizontal",
            "style": "IPY_MODEL_d3b283a695d94c7ab9dd46c0e29c808a",
            "value": 3
          }
        },
        "5dcb6803b7b54943b405f30725d21de1": {
          "model_module": "@jupyter-widgets/controls",
          "model_name": "HTMLModel",
          "model_module_version": "1.5.0",
          "state": {
            "_dom_classes": [],
            "_model_module": "@jupyter-widgets/controls",
            "_model_module_version": "1.5.0",
            "_model_name": "HTMLModel",
            "_view_count": null,
            "_view_module": "@jupyter-widgets/controls",
            "_view_module_version": "1.5.0",
            "_view_name": "HTMLView",
            "description": "",
            "description_tooltip": null,
            "layout": "IPY_MODEL_1ee7f0bb51354c8c8a0445454bda267b",
            "placeholder": "​",
            "style": "IPY_MODEL_82b20f289f6c45faa0aa778cd5696609",
            "value": " 3/3 [00:35&lt;00:00, 11.71s/it]"
          }
        },
        "99822d3ba15b4599817d70055167dfc5": {
          "model_module": "@jupyter-widgets/base",
          "model_name": "LayoutModel",
          "model_module_version": "1.2.0",
          "state": {
            "_model_module": "@jupyter-widgets/base",
            "_model_module_version": "1.2.0",
            "_model_name": "LayoutModel",
            "_view_count": null,
            "_view_module": "@jupyter-widgets/base",
            "_view_module_version": "1.2.0",
            "_view_name": "LayoutView",
            "align_content": null,
            "align_items": null,
            "align_self": null,
            "border": null,
            "bottom": null,
            "display": null,
            "flex": null,
            "flex_flow": null,
            "grid_area": null,
            "grid_auto_columns": null,
            "grid_auto_flow": null,
            "grid_auto_rows": null,
            "grid_column": null,
            "grid_gap": null,
            "grid_row": null,
            "grid_template_areas": null,
            "grid_template_columns": null,
            "grid_template_rows": null,
            "height": null,
            "justify_content": null,
            "justify_items": null,
            "left": null,
            "margin": null,
            "max_height": null,
            "max_width": null,
            "min_height": null,
            "min_width": null,
            "object_fit": null,
            "object_position": null,
            "order": null,
            "overflow": null,
            "overflow_x": null,
            "overflow_y": null,
            "padding": null,
            "right": null,
            "top": null,
            "visibility": null,
            "width": null
          }
        },
        "a659028914e24006a4dd995aae761a2b": {
          "model_module": "@jupyter-widgets/base",
          "model_name": "LayoutModel",
          "model_module_version": "1.2.0",
          "state": {
            "_model_module": "@jupyter-widgets/base",
            "_model_module_version": "1.2.0",
            "_model_name": "LayoutModel",
            "_view_count": null,
            "_view_module": "@jupyter-widgets/base",
            "_view_module_version": "1.2.0",
            "_view_name": "LayoutView",
            "align_content": null,
            "align_items": null,
            "align_self": null,
            "border": null,
            "bottom": null,
            "display": null,
            "flex": null,
            "flex_flow": null,
            "grid_area": null,
            "grid_auto_columns": null,
            "grid_auto_flow": null,
            "grid_auto_rows": null,
            "grid_column": null,
            "grid_gap": null,
            "grid_row": null,
            "grid_template_areas": null,
            "grid_template_columns": null,
            "grid_template_rows": null,
            "height": null,
            "justify_content": null,
            "justify_items": null,
            "left": null,
            "margin": null,
            "max_height": null,
            "max_width": null,
            "min_height": null,
            "min_width": null,
            "object_fit": null,
            "object_position": null,
            "order": null,
            "overflow": null,
            "overflow_x": null,
            "overflow_y": null,
            "padding": null,
            "right": null,
            "top": null,
            "visibility": null,
            "width": null
          }
        },
        "d2fd0642b2d649f0930968568ba28bb7": {
          "model_module": "@jupyter-widgets/controls",
          "model_name": "DescriptionStyleModel",
          "model_module_version": "1.5.0",
          "state": {
            "_model_module": "@jupyter-widgets/controls",
            "_model_module_version": "1.5.0",
            "_model_name": "DescriptionStyleModel",
            "_view_count": null,
            "_view_module": "@jupyter-widgets/base",
            "_view_module_version": "1.2.0",
            "_view_name": "StyleView",
            "description_width": ""
          }
        },
        "ffd135f02f5841508fb4263267116320": {
          "model_module": "@jupyter-widgets/base",
          "model_name": "LayoutModel",
          "model_module_version": "1.2.0",
          "state": {
            "_model_module": "@jupyter-widgets/base",
            "_model_module_version": "1.2.0",
            "_model_name": "LayoutModel",
            "_view_count": null,
            "_view_module": "@jupyter-widgets/base",
            "_view_module_version": "1.2.0",
            "_view_name": "LayoutView",
            "align_content": null,
            "align_items": null,
            "align_self": null,
            "border": null,
            "bottom": null,
            "display": null,
            "flex": null,
            "flex_flow": null,
            "grid_area": null,
            "grid_auto_columns": null,
            "grid_auto_flow": null,
            "grid_auto_rows": null,
            "grid_column": null,
            "grid_gap": null,
            "grid_row": null,
            "grid_template_areas": null,
            "grid_template_columns": null,
            "grid_template_rows": null,
            "height": null,
            "justify_content": null,
            "justify_items": null,
            "left": null,
            "margin": null,
            "max_height": null,
            "max_width": null,
            "min_height": null,
            "min_width": null,
            "object_fit": null,
            "object_position": null,
            "order": null,
            "overflow": null,
            "overflow_x": null,
            "overflow_y": null,
            "padding": null,
            "right": null,
            "top": null,
            "visibility": null,
            "width": null
          }
        },
        "d3b283a695d94c7ab9dd46c0e29c808a": {
          "model_module": "@jupyter-widgets/controls",
          "model_name": "ProgressStyleModel",
          "model_module_version": "1.5.0",
          "state": {
            "_model_module": "@jupyter-widgets/controls",
            "_model_module_version": "1.5.0",
            "_model_name": "ProgressStyleModel",
            "_view_count": null,
            "_view_module": "@jupyter-widgets/base",
            "_view_module_version": "1.2.0",
            "_view_name": "StyleView",
            "bar_color": null,
            "description_width": ""
          }
        },
        "1ee7f0bb51354c8c8a0445454bda267b": {
          "model_module": "@jupyter-widgets/base",
          "model_name": "LayoutModel",
          "model_module_version": "1.2.0",
          "state": {
            "_model_module": "@jupyter-widgets/base",
            "_model_module_version": "1.2.0",
            "_model_name": "LayoutModel",
            "_view_count": null,
            "_view_module": "@jupyter-widgets/base",
            "_view_module_version": "1.2.0",
            "_view_name": "LayoutView",
            "align_content": null,
            "align_items": null,
            "align_self": null,
            "border": null,
            "bottom": null,
            "display": null,
            "flex": null,
            "flex_flow": null,
            "grid_area": null,
            "grid_auto_columns": null,
            "grid_auto_flow": null,
            "grid_auto_rows": null,
            "grid_column": null,
            "grid_gap": null,
            "grid_row": null,
            "grid_template_areas": null,
            "grid_template_columns": null,
            "grid_template_rows": null,
            "height": null,
            "justify_content": null,
            "justify_items": null,
            "left": null,
            "margin": null,
            "max_height": null,
            "max_width": null,
            "min_height": null,
            "min_width": null,
            "object_fit": null,
            "object_position": null,
            "order": null,
            "overflow": null,
            "overflow_x": null,
            "overflow_y": null,
            "padding": null,
            "right": null,
            "top": null,
            "visibility": null,
            "width": null
          }
        },
        "82b20f289f6c45faa0aa778cd5696609": {
          "model_module": "@jupyter-widgets/controls",
          "model_name": "DescriptionStyleModel",
          "model_module_version": "1.5.0",
          "state": {
            "_model_module": "@jupyter-widgets/controls",
            "_model_module_version": "1.5.0",
            "_model_name": "DescriptionStyleModel",
            "_view_count": null,
            "_view_module": "@jupyter-widgets/base",
            "_view_module_version": "1.2.0",
            "_view_name": "StyleView",
            "description_width": ""
          }
        },
        "dff888b3a0094336b2f2e4d144b10768": {
          "model_module": "@jupyter-widgets/controls",
          "model_name": "HBoxModel",
          "model_module_version": "1.5.0",
          "state": {
            "_dom_classes": [],
            "_model_module": "@jupyter-widgets/controls",
            "_model_module_version": "1.5.0",
            "_model_name": "HBoxModel",
            "_view_count": null,
            "_view_module": "@jupyter-widgets/controls",
            "_view_module_version": "1.5.0",
            "_view_name": "HBoxView",
            "box_style": "",
            "children": [
              "IPY_MODEL_8539f7e01c384ebfaeabbfc9b8810cb6",
              "IPY_MODEL_f15f717ef29a45fb811a6c0a9d6b3288",
              "IPY_MODEL_88f4e84f376348deb60f62c989739f8b"
            ],
            "layout": "IPY_MODEL_ebc855fb8e88418fa016a3e36783e26c"
          }
        },
        "8539f7e01c384ebfaeabbfc9b8810cb6": {
          "model_module": "@jupyter-widgets/controls",
          "model_name": "HTMLModel",
          "model_module_version": "1.5.0",
          "state": {
            "_dom_classes": [],
            "_model_module": "@jupyter-widgets/controls",
            "_model_module_version": "1.5.0",
            "_model_name": "HTMLModel",
            "_view_count": null,
            "_view_module": "@jupyter-widgets/controls",
            "_view_module_version": "1.5.0",
            "_view_name": "HTMLView",
            "description": "",
            "description_tooltip": null,
            "layout": "IPY_MODEL_80893f297a5a4da4893a1f5ef84fed3a",
            "placeholder": "​",
            "style": "IPY_MODEL_8d69d8418461492e9fb61e9b7d938638",
            "value": "Making pred...: 100%"
          }
        },
        "f15f717ef29a45fb811a6c0a9d6b3288": {
          "model_module": "@jupyter-widgets/controls",
          "model_name": "FloatProgressModel",
          "model_module_version": "1.5.0",
          "state": {
            "_dom_classes": [],
            "_model_module": "@jupyter-widgets/controls",
            "_model_module_version": "1.5.0",
            "_model_name": "FloatProgressModel",
            "_view_count": null,
            "_view_module": "@jupyter-widgets/controls",
            "_view_module_version": "1.5.0",
            "_view_name": "ProgressView",
            "bar_style": "success",
            "description": "",
            "description_tooltip": null,
            "layout": "IPY_MODEL_9093de0472bd4c5ea53f8109a7ffe62d",
            "max": 313,
            "min": 0,
            "orientation": "horizontal",
            "style": "IPY_MODEL_cd3277cbd83c4c95a145baf58d0c8fd5",
            "value": 313
          }
        },
        "88f4e84f376348deb60f62c989739f8b": {
          "model_module": "@jupyter-widgets/controls",
          "model_name": "HTMLModel",
          "model_module_version": "1.5.0",
          "state": {
            "_dom_classes": [],
            "_model_module": "@jupyter-widgets/controls",
            "_model_module_version": "1.5.0",
            "_model_name": "HTMLModel",
            "_view_count": null,
            "_view_module": "@jupyter-widgets/controls",
            "_view_module_version": "1.5.0",
            "_view_name": "HTMLView",
            "description": "",
            "description_tooltip": null,
            "layout": "IPY_MODEL_502cb88a769a481db0db9e1d4e4f147e",
            "placeholder": "​",
            "style": "IPY_MODEL_d511729edeb04fb8b62dc8c6a639a6de",
            "value": " 313/313 [00:01&lt;00:00, 225.24it/s]"
          }
        },
        "ebc855fb8e88418fa016a3e36783e26c": {
          "model_module": "@jupyter-widgets/base",
          "model_name": "LayoutModel",
          "model_module_version": "1.2.0",
          "state": {
            "_model_module": "@jupyter-widgets/base",
            "_model_module_version": "1.2.0",
            "_model_name": "LayoutModel",
            "_view_count": null,
            "_view_module": "@jupyter-widgets/base",
            "_view_module_version": "1.2.0",
            "_view_name": "LayoutView",
            "align_content": null,
            "align_items": null,
            "align_self": null,
            "border": null,
            "bottom": null,
            "display": null,
            "flex": null,
            "flex_flow": null,
            "grid_area": null,
            "grid_auto_columns": null,
            "grid_auto_flow": null,
            "grid_auto_rows": null,
            "grid_column": null,
            "grid_gap": null,
            "grid_row": null,
            "grid_template_areas": null,
            "grid_template_columns": null,
            "grid_template_rows": null,
            "height": null,
            "justify_content": null,
            "justify_items": null,
            "left": null,
            "margin": null,
            "max_height": null,
            "max_width": null,
            "min_height": null,
            "min_width": null,
            "object_fit": null,
            "object_position": null,
            "order": null,
            "overflow": null,
            "overflow_x": null,
            "overflow_y": null,
            "padding": null,
            "right": null,
            "top": null,
            "visibility": null,
            "width": null
          }
        },
        "80893f297a5a4da4893a1f5ef84fed3a": {
          "model_module": "@jupyter-widgets/base",
          "model_name": "LayoutModel",
          "model_module_version": "1.2.0",
          "state": {
            "_model_module": "@jupyter-widgets/base",
            "_model_module_version": "1.2.0",
            "_model_name": "LayoutModel",
            "_view_count": null,
            "_view_module": "@jupyter-widgets/base",
            "_view_module_version": "1.2.0",
            "_view_name": "LayoutView",
            "align_content": null,
            "align_items": null,
            "align_self": null,
            "border": null,
            "bottom": null,
            "display": null,
            "flex": null,
            "flex_flow": null,
            "grid_area": null,
            "grid_auto_columns": null,
            "grid_auto_flow": null,
            "grid_auto_rows": null,
            "grid_column": null,
            "grid_gap": null,
            "grid_row": null,
            "grid_template_areas": null,
            "grid_template_columns": null,
            "grid_template_rows": null,
            "height": null,
            "justify_content": null,
            "justify_items": null,
            "left": null,
            "margin": null,
            "max_height": null,
            "max_width": null,
            "min_height": null,
            "min_width": null,
            "object_fit": null,
            "object_position": null,
            "order": null,
            "overflow": null,
            "overflow_x": null,
            "overflow_y": null,
            "padding": null,
            "right": null,
            "top": null,
            "visibility": null,
            "width": null
          }
        },
        "8d69d8418461492e9fb61e9b7d938638": {
          "model_module": "@jupyter-widgets/controls",
          "model_name": "DescriptionStyleModel",
          "model_module_version": "1.5.0",
          "state": {
            "_model_module": "@jupyter-widgets/controls",
            "_model_module_version": "1.5.0",
            "_model_name": "DescriptionStyleModel",
            "_view_count": null,
            "_view_module": "@jupyter-widgets/base",
            "_view_module_version": "1.2.0",
            "_view_name": "StyleView",
            "description_width": ""
          }
        },
        "9093de0472bd4c5ea53f8109a7ffe62d": {
          "model_module": "@jupyter-widgets/base",
          "model_name": "LayoutModel",
          "model_module_version": "1.2.0",
          "state": {
            "_model_module": "@jupyter-widgets/base",
            "_model_module_version": "1.2.0",
            "_model_name": "LayoutModel",
            "_view_count": null,
            "_view_module": "@jupyter-widgets/base",
            "_view_module_version": "1.2.0",
            "_view_name": "LayoutView",
            "align_content": null,
            "align_items": null,
            "align_self": null,
            "border": null,
            "bottom": null,
            "display": null,
            "flex": null,
            "flex_flow": null,
            "grid_area": null,
            "grid_auto_columns": null,
            "grid_auto_flow": null,
            "grid_auto_rows": null,
            "grid_column": null,
            "grid_gap": null,
            "grid_row": null,
            "grid_template_areas": null,
            "grid_template_columns": null,
            "grid_template_rows": null,
            "height": null,
            "justify_content": null,
            "justify_items": null,
            "left": null,
            "margin": null,
            "max_height": null,
            "max_width": null,
            "min_height": null,
            "min_width": null,
            "object_fit": null,
            "object_position": null,
            "order": null,
            "overflow": null,
            "overflow_x": null,
            "overflow_y": null,
            "padding": null,
            "right": null,
            "top": null,
            "visibility": null,
            "width": null
          }
        },
        "cd3277cbd83c4c95a145baf58d0c8fd5": {
          "model_module": "@jupyter-widgets/controls",
          "model_name": "ProgressStyleModel",
          "model_module_version": "1.5.0",
          "state": {
            "_model_module": "@jupyter-widgets/controls",
            "_model_module_version": "1.5.0",
            "_model_name": "ProgressStyleModel",
            "_view_count": null,
            "_view_module": "@jupyter-widgets/base",
            "_view_module_version": "1.2.0",
            "_view_name": "StyleView",
            "bar_color": null,
            "description_width": ""
          }
        },
        "502cb88a769a481db0db9e1d4e4f147e": {
          "model_module": "@jupyter-widgets/base",
          "model_name": "LayoutModel",
          "model_module_version": "1.2.0",
          "state": {
            "_model_module": "@jupyter-widgets/base",
            "_model_module_version": "1.2.0",
            "_model_name": "LayoutModel",
            "_view_count": null,
            "_view_module": "@jupyter-widgets/base",
            "_view_module_version": "1.2.0",
            "_view_name": "LayoutView",
            "align_content": null,
            "align_items": null,
            "align_self": null,
            "border": null,
            "bottom": null,
            "display": null,
            "flex": null,
            "flex_flow": null,
            "grid_area": null,
            "grid_auto_columns": null,
            "grid_auto_flow": null,
            "grid_auto_rows": null,
            "grid_column": null,
            "grid_gap": null,
            "grid_row": null,
            "grid_template_areas": null,
            "grid_template_columns": null,
            "grid_template_rows": null,
            "height": null,
            "justify_content": null,
            "justify_items": null,
            "left": null,
            "margin": null,
            "max_height": null,
            "max_width": null,
            "min_height": null,
            "min_width": null,
            "object_fit": null,
            "object_position": null,
            "order": null,
            "overflow": null,
            "overflow_x": null,
            "overflow_y": null,
            "padding": null,
            "right": null,
            "top": null,
            "visibility": null,
            "width": null
          }
        },
        "d511729edeb04fb8b62dc8c6a639a6de": {
          "model_module": "@jupyter-widgets/controls",
          "model_name": "DescriptionStyleModel",
          "model_module_version": "1.5.0",
          "state": {
            "_model_module": "@jupyter-widgets/controls",
            "_model_module_version": "1.5.0",
            "_model_name": "DescriptionStyleModel",
            "_view_count": null,
            "_view_module": "@jupyter-widgets/base",
            "_view_module_version": "1.2.0",
            "_view_name": "StyleView",
            "description_width": ""
          }
        }
      }
    }
  },
  "cells": [
    {
      "cell_type": "markdown",
      "metadata": {
        "id": "view-in-github",
        "colab_type": "text"
      },
      "source": [
        "<a href=\"https://colab.research.google.com/github/jvkousthub/deep-learning-practice-files/blob/main/pytorch_computer_vision.ipynb\" target=\"_parent\"><img src=\"https://colab.research.google.com/assets/colab-badge.svg\" alt=\"Open In Colab\"/></a>"
      ]
    },
    {
      "cell_type": "code",
      "execution_count": 1,
      "metadata": {
        "id": "nKJ8YgD6_yNe"
      },
      "outputs": [],
      "source": [
        "import torch\n",
        "from torch import nn\n",
        "\n",
        "import torchvision\n",
        "from torchvision import datasets\n",
        "from torchvision import transforms\n",
        "from torchvision.transforms import ToTensor\n",
        "import matplotlib.pyplot"
      ]
    },
    {
      "cell_type": "markdown",
      "source": [
        "## Getting a dataset\n",
        "\n"
      ],
      "metadata": {
        "id": "zVGN-prXHTIQ"
      }
    },
    {
      "cell_type": "code",
      "source": [
        "#setup training data\n",
        "train_data = datasets.FashionMNIST(\n",
        "    root=\"data\", #locn to download data\n",
        "    train=True, #tranining dataset?\n",
        "    download=True, #download?\n",
        "    transform=torchvision.transforms.ToTensor(), #how to transform the data\n",
        "    target_transform=None #how to transform the labels\n",
        ")\n",
        "\n",
        "test_data=datasets.FashionMNIST(\n",
        "    root=\"data\",\n",
        "    train=False,\n",
        "    download=True,\n",
        "    transform=ToTensor(),\n",
        "    target_transform=None\n",
        ")\n"
      ],
      "metadata": {
        "id": "jppWviYpJKd8"
      },
      "execution_count": 2,
      "outputs": []
    },
    {
      "cell_type": "code",
      "source": [
        "len(train_data), len(test_data)"
      ],
      "metadata": {
        "colab": {
          "base_uri": "https://localhost:8080/"
        },
        "id": "3GJmAKdFKKRB",
        "outputId": "4bd52ca7-a1b6-4f3f-bdc4-2917509b111c"
      },
      "execution_count": 3,
      "outputs": [
        {
          "output_type": "execute_result",
          "data": {
            "text/plain": [
              "(60000, 10000)"
            ]
          },
          "metadata": {},
          "execution_count": 3
        }
      ]
    },
    {
      "cell_type": "code",
      "source": [
        "image,label=train_data[0]\n",
        "image,label"
      ],
      "metadata": {
        "colab": {
          "base_uri": "https://localhost:8080/"
        },
        "id": "Rt8Q77EgtnWp",
        "outputId": "08721993-77d9-4bc5-92ae-d302289edec2"
      },
      "execution_count": 4,
      "outputs": [
        {
          "output_type": "execute_result",
          "data": {
            "text/plain": [
              "(tensor([[[0.0000, 0.0000, 0.0000, 0.0000, 0.0000, 0.0000, 0.0000, 0.0000,\n",
              "           0.0000, 0.0000, 0.0000, 0.0000, 0.0000, 0.0000, 0.0000, 0.0000,\n",
              "           0.0000, 0.0000, 0.0000, 0.0000, 0.0000, 0.0000, 0.0000, 0.0000,\n",
              "           0.0000, 0.0000, 0.0000, 0.0000],\n",
              "          [0.0000, 0.0000, 0.0000, 0.0000, 0.0000, 0.0000, 0.0000, 0.0000,\n",
              "           0.0000, 0.0000, 0.0000, 0.0000, 0.0000, 0.0000, 0.0000, 0.0000,\n",
              "           0.0000, 0.0000, 0.0000, 0.0000, 0.0000, 0.0000, 0.0000, 0.0000,\n",
              "           0.0000, 0.0000, 0.0000, 0.0000],\n",
              "          [0.0000, 0.0000, 0.0000, 0.0000, 0.0000, 0.0000, 0.0000, 0.0000,\n",
              "           0.0000, 0.0000, 0.0000, 0.0000, 0.0000, 0.0000, 0.0000, 0.0000,\n",
              "           0.0000, 0.0000, 0.0000, 0.0000, 0.0000, 0.0000, 0.0000, 0.0000,\n",
              "           0.0000, 0.0000, 0.0000, 0.0000],\n",
              "          [0.0000, 0.0000, 0.0000, 0.0000, 0.0000, 0.0000, 0.0000, 0.0000,\n",
              "           0.0000, 0.0000, 0.0000, 0.0000, 0.0039, 0.0000, 0.0000, 0.0510,\n",
              "           0.2863, 0.0000, 0.0000, 0.0039, 0.0157, 0.0000, 0.0000, 0.0000,\n",
              "           0.0000, 0.0039, 0.0039, 0.0000],\n",
              "          [0.0000, 0.0000, 0.0000, 0.0000, 0.0000, 0.0000, 0.0000, 0.0000,\n",
              "           0.0000, 0.0000, 0.0000, 0.0000, 0.0118, 0.0000, 0.1412, 0.5333,\n",
              "           0.4980, 0.2431, 0.2118, 0.0000, 0.0000, 0.0000, 0.0039, 0.0118,\n",
              "           0.0157, 0.0000, 0.0000, 0.0118],\n",
              "          [0.0000, 0.0000, 0.0000, 0.0000, 0.0000, 0.0000, 0.0000, 0.0000,\n",
              "           0.0000, 0.0000, 0.0000, 0.0000, 0.0235, 0.0000, 0.4000, 0.8000,\n",
              "           0.6902, 0.5255, 0.5647, 0.4824, 0.0902, 0.0000, 0.0000, 0.0000,\n",
              "           0.0000, 0.0471, 0.0392, 0.0000],\n",
              "          [0.0000, 0.0000, 0.0000, 0.0000, 0.0000, 0.0000, 0.0000, 0.0000,\n",
              "           0.0000, 0.0000, 0.0000, 0.0000, 0.0000, 0.0000, 0.6078, 0.9255,\n",
              "           0.8118, 0.6980, 0.4196, 0.6118, 0.6314, 0.4275, 0.2510, 0.0902,\n",
              "           0.3020, 0.5098, 0.2824, 0.0588],\n",
              "          [0.0000, 0.0000, 0.0000, 0.0000, 0.0000, 0.0000, 0.0000, 0.0000,\n",
              "           0.0000, 0.0000, 0.0000, 0.0039, 0.0000, 0.2706, 0.8118, 0.8745,\n",
              "           0.8549, 0.8471, 0.8471, 0.6392, 0.4980, 0.4745, 0.4784, 0.5725,\n",
              "           0.5529, 0.3451, 0.6745, 0.2588],\n",
              "          [0.0000, 0.0000, 0.0000, 0.0000, 0.0000, 0.0000, 0.0000, 0.0000,\n",
              "           0.0000, 0.0039, 0.0039, 0.0039, 0.0000, 0.7843, 0.9098, 0.9098,\n",
              "           0.9137, 0.8980, 0.8745, 0.8745, 0.8431, 0.8353, 0.6431, 0.4980,\n",
              "           0.4824, 0.7686, 0.8980, 0.0000],\n",
              "          [0.0000, 0.0000, 0.0000, 0.0000, 0.0000, 0.0000, 0.0000, 0.0000,\n",
              "           0.0000, 0.0000, 0.0000, 0.0000, 0.0000, 0.7176, 0.8824, 0.8471,\n",
              "           0.8745, 0.8941, 0.9216, 0.8902, 0.8784, 0.8706, 0.8784, 0.8667,\n",
              "           0.8745, 0.9608, 0.6784, 0.0000],\n",
              "          [0.0000, 0.0000, 0.0000, 0.0000, 0.0000, 0.0000, 0.0000, 0.0000,\n",
              "           0.0000, 0.0000, 0.0000, 0.0000, 0.0000, 0.7569, 0.8941, 0.8549,\n",
              "           0.8353, 0.7765, 0.7059, 0.8314, 0.8235, 0.8275, 0.8353, 0.8745,\n",
              "           0.8627, 0.9529, 0.7922, 0.0000],\n",
              "          [0.0000, 0.0000, 0.0000, 0.0000, 0.0000, 0.0000, 0.0000, 0.0000,\n",
              "           0.0000, 0.0039, 0.0118, 0.0000, 0.0471, 0.8588, 0.8627, 0.8314,\n",
              "           0.8549, 0.7529, 0.6627, 0.8902, 0.8157, 0.8549, 0.8784, 0.8314,\n",
              "           0.8863, 0.7725, 0.8196, 0.2039],\n",
              "          [0.0000, 0.0000, 0.0000, 0.0000, 0.0000, 0.0000, 0.0000, 0.0000,\n",
              "           0.0000, 0.0000, 0.0235, 0.0000, 0.3882, 0.9569, 0.8706, 0.8627,\n",
              "           0.8549, 0.7961, 0.7765, 0.8667, 0.8431, 0.8353, 0.8706, 0.8627,\n",
              "           0.9608, 0.4667, 0.6549, 0.2196],\n",
              "          [0.0000, 0.0000, 0.0000, 0.0000, 0.0000, 0.0000, 0.0000, 0.0000,\n",
              "           0.0000, 0.0157, 0.0000, 0.0000, 0.2157, 0.9255, 0.8941, 0.9020,\n",
              "           0.8941, 0.9412, 0.9098, 0.8353, 0.8549, 0.8745, 0.9176, 0.8510,\n",
              "           0.8510, 0.8196, 0.3608, 0.0000],\n",
              "          [0.0000, 0.0000, 0.0039, 0.0157, 0.0235, 0.0275, 0.0078, 0.0000,\n",
              "           0.0000, 0.0000, 0.0000, 0.0000, 0.9294, 0.8863, 0.8510, 0.8745,\n",
              "           0.8706, 0.8588, 0.8706, 0.8667, 0.8471, 0.8745, 0.8980, 0.8431,\n",
              "           0.8549, 1.0000, 0.3020, 0.0000],\n",
              "          [0.0000, 0.0118, 0.0000, 0.0000, 0.0000, 0.0000, 0.0000, 0.0000,\n",
              "           0.0000, 0.2431, 0.5686, 0.8000, 0.8941, 0.8118, 0.8353, 0.8667,\n",
              "           0.8549, 0.8157, 0.8275, 0.8549, 0.8784, 0.8745, 0.8588, 0.8431,\n",
              "           0.8784, 0.9569, 0.6235, 0.0000],\n",
              "          [0.0000, 0.0000, 0.0000, 0.0000, 0.0706, 0.1725, 0.3216, 0.4196,\n",
              "           0.7412, 0.8941, 0.8627, 0.8706, 0.8510, 0.8863, 0.7843, 0.8039,\n",
              "           0.8275, 0.9020, 0.8784, 0.9176, 0.6902, 0.7373, 0.9804, 0.9725,\n",
              "           0.9137, 0.9333, 0.8431, 0.0000],\n",
              "          [0.0000, 0.2235, 0.7333, 0.8157, 0.8784, 0.8667, 0.8784, 0.8157,\n",
              "           0.8000, 0.8392, 0.8157, 0.8196, 0.7843, 0.6235, 0.9608, 0.7569,\n",
              "           0.8078, 0.8745, 1.0000, 1.0000, 0.8667, 0.9176, 0.8667, 0.8275,\n",
              "           0.8627, 0.9098, 0.9647, 0.0000],\n",
              "          [0.0118, 0.7922, 0.8941, 0.8784, 0.8667, 0.8275, 0.8275, 0.8392,\n",
              "           0.8039, 0.8039, 0.8039, 0.8627, 0.9412, 0.3137, 0.5882, 1.0000,\n",
              "           0.8980, 0.8667, 0.7373, 0.6039, 0.7490, 0.8235, 0.8000, 0.8196,\n",
              "           0.8706, 0.8941, 0.8824, 0.0000],\n",
              "          [0.3843, 0.9137, 0.7765, 0.8235, 0.8706, 0.8980, 0.8980, 0.9176,\n",
              "           0.9765, 0.8627, 0.7608, 0.8431, 0.8510, 0.9451, 0.2549, 0.2863,\n",
              "           0.4157, 0.4588, 0.6588, 0.8588, 0.8667, 0.8431, 0.8510, 0.8745,\n",
              "           0.8745, 0.8784, 0.8980, 0.1137],\n",
              "          [0.2941, 0.8000, 0.8314, 0.8000, 0.7569, 0.8039, 0.8275, 0.8824,\n",
              "           0.8471, 0.7255, 0.7725, 0.8078, 0.7765, 0.8353, 0.9412, 0.7647,\n",
              "           0.8902, 0.9608, 0.9373, 0.8745, 0.8549, 0.8314, 0.8196, 0.8706,\n",
              "           0.8627, 0.8667, 0.9020, 0.2627],\n",
              "          [0.1882, 0.7961, 0.7176, 0.7608, 0.8353, 0.7725, 0.7255, 0.7451,\n",
              "           0.7608, 0.7529, 0.7922, 0.8392, 0.8588, 0.8667, 0.8627, 0.9255,\n",
              "           0.8824, 0.8471, 0.7804, 0.8078, 0.7294, 0.7098, 0.6941, 0.6745,\n",
              "           0.7098, 0.8039, 0.8078, 0.4510],\n",
              "          [0.0000, 0.4784, 0.8588, 0.7569, 0.7020, 0.6706, 0.7176, 0.7686,\n",
              "           0.8000, 0.8235, 0.8353, 0.8118, 0.8275, 0.8235, 0.7843, 0.7686,\n",
              "           0.7608, 0.7490, 0.7647, 0.7490, 0.7765, 0.7529, 0.6902, 0.6118,\n",
              "           0.6549, 0.6941, 0.8235, 0.3608],\n",
              "          [0.0000, 0.0000, 0.2902, 0.7412, 0.8314, 0.7490, 0.6863, 0.6745,\n",
              "           0.6863, 0.7098, 0.7255, 0.7373, 0.7412, 0.7373, 0.7569, 0.7765,\n",
              "           0.8000, 0.8196, 0.8235, 0.8235, 0.8275, 0.7373, 0.7373, 0.7608,\n",
              "           0.7529, 0.8471, 0.6667, 0.0000],\n",
              "          [0.0078, 0.0000, 0.0000, 0.0000, 0.2588, 0.7843, 0.8706, 0.9294,\n",
              "           0.9373, 0.9490, 0.9647, 0.9529, 0.9569, 0.8667, 0.8627, 0.7569,\n",
              "           0.7490, 0.7020, 0.7137, 0.7137, 0.7098, 0.6902, 0.6510, 0.6588,\n",
              "           0.3882, 0.2275, 0.0000, 0.0000],\n",
              "          [0.0000, 0.0000, 0.0000, 0.0000, 0.0000, 0.0000, 0.0000, 0.1569,\n",
              "           0.2392, 0.1725, 0.2824, 0.1608, 0.1373, 0.0000, 0.0000, 0.0000,\n",
              "           0.0000, 0.0000, 0.0000, 0.0000, 0.0000, 0.0000, 0.0000, 0.0000,\n",
              "           0.0000, 0.0000, 0.0000, 0.0000],\n",
              "          [0.0000, 0.0000, 0.0000, 0.0000, 0.0000, 0.0000, 0.0000, 0.0000,\n",
              "           0.0000, 0.0000, 0.0000, 0.0000, 0.0000, 0.0000, 0.0000, 0.0000,\n",
              "           0.0000, 0.0000, 0.0000, 0.0000, 0.0000, 0.0000, 0.0000, 0.0000,\n",
              "           0.0000, 0.0000, 0.0000, 0.0000],\n",
              "          [0.0000, 0.0000, 0.0000, 0.0000, 0.0000, 0.0000, 0.0000, 0.0000,\n",
              "           0.0000, 0.0000, 0.0000, 0.0000, 0.0000, 0.0000, 0.0000, 0.0000,\n",
              "           0.0000, 0.0000, 0.0000, 0.0000, 0.0000, 0.0000, 0.0000, 0.0000,\n",
              "           0.0000, 0.0000, 0.0000, 0.0000]]]),\n",
              " 9)"
            ]
          },
          "metadata": {},
          "execution_count": 4
        }
      ]
    },
    {
      "cell_type": "code",
      "source": [
        "class_names=train_data.classes\n",
        "class_names"
      ],
      "metadata": {
        "colab": {
          "base_uri": "https://localhost:8080/"
        },
        "id": "Ou0GKRC7t_X8",
        "outputId": "4ba386c8-587b-41a4-b282-44076566ff27"
      },
      "execution_count": 5,
      "outputs": [
        {
          "output_type": "execute_result",
          "data": {
            "text/plain": [
              "['T-shirt/top',\n",
              " 'Trouser',\n",
              " 'Pullover',\n",
              " 'Dress',\n",
              " 'Coat',\n",
              " 'Sandal',\n",
              " 'Shirt',\n",
              " 'Sneaker',\n",
              " 'Bag',\n",
              " 'Ankle boot']"
            ]
          },
          "metadata": {},
          "execution_count": 5
        }
      ]
    },
    {
      "cell_type": "code",
      "source": [
        "class_to_idx=train_data.class_to_idx\n",
        "class_to_idx"
      ],
      "metadata": {
        "colab": {
          "base_uri": "https://localhost:8080/"
        },
        "id": "1UKvt5QOuWXR",
        "outputId": "6d770768-66ee-432c-e1f3-49c7950fd359"
      },
      "execution_count": 6,
      "outputs": [
        {
          "output_type": "execute_result",
          "data": {
            "text/plain": [
              "{'T-shirt/top': 0,\n",
              " 'Trouser': 1,\n",
              " 'Pullover': 2,\n",
              " 'Dress': 3,\n",
              " 'Coat': 4,\n",
              " 'Sandal': 5,\n",
              " 'Shirt': 6,\n",
              " 'Sneaker': 7,\n",
              " 'Bag': 8,\n",
              " 'Ankle boot': 9}"
            ]
          },
          "metadata": {},
          "execution_count": 6
        }
      ]
    },
    {
      "cell_type": "code",
      "source": [
        "#shape\n",
        "image.shape,label"
      ],
      "metadata": {
        "colab": {
          "base_uri": "https://localhost:8080/"
        },
        "id": "n6I5avnnuiey",
        "outputId": "422123bc-aed1-4bcd-d478-5f8e95520f36"
      },
      "execution_count": 7,
      "outputs": [
        {
          "output_type": "execute_result",
          "data": {
            "text/plain": [
              "(torch.Size([1, 28, 28]), 9)"
            ]
          },
          "metadata": {},
          "execution_count": 7
        }
      ]
    },
    {
      "cell_type": "markdown",
      "source": [
        "### Vizualize data\n"
      ],
      "metadata": {
        "id": "3BdFfKPCurRg"
      }
    },
    {
      "cell_type": "code",
      "source": [
        "import matplotlib.pyplot as plt\n",
        "image,label=train_data[10999]\n",
        "print(f\"Image Shape: {image.shape}\")\n",
        "plt.imshow(image.squeeze())"
      ],
      "metadata": {
        "colab": {
          "base_uri": "https://localhost:8080/",
          "height": 465
        },
        "id": "1xo6Ba9pvjm0",
        "outputId": "44673ecf-487b-4ea1-ae34-30275e2658d8"
      },
      "execution_count": 8,
      "outputs": [
        {
          "output_type": "stream",
          "name": "stdout",
          "text": [
            "Image Shape: torch.Size([1, 28, 28])\n"
          ]
        },
        {
          "output_type": "execute_result",
          "data": {
            "text/plain": [
              "<matplotlib.image.AxesImage at 0x7a3c9772c850>"
            ]
          },
          "metadata": {},
          "execution_count": 8
        },
        {
          "output_type": "display_data",
          "data": {
            "text/plain": [
              "<Figure size 640x480 with 1 Axes>"
            ],
            "image/png": "[encoded data removed]"
          },
          "metadata": {}
        }
      ]
    },
    {
      "cell_type": "code",
      "source": [
        "plt.imshow(image.squeeze(),cmap='gray')"
      ],
      "metadata": {
        "colab": {
          "base_uri": "https://localhost:8080/",
          "height": 447
        },
        "id": "vr8kvKMWv3nw",
        "outputId": "84f272ce-5a03-493f-97f5-88f92447c076"
      },
      "execution_count": 9,
      "outputs": [
        {
          "output_type": "execute_result",
          "data": {
            "text/plain": [
              "<matplotlib.image.AxesImage at 0x7a3c977c4850>"
            ]
          },
          "metadata": {},
          "execution_count": 9
        },
        {
          "output_type": "display_data",
          "data": {
            "text/plain": [
              "<Figure size 640x480 with 1 Axes>"
            ],
            "image/png": "[encoded data removed]"
          },
          "metadata": {}
        }
      ]
    },
    {
      "cell_type": "code",
      "source": [
        "# torch.manual_seed(42)\n",
        "fig=plt.figure(figsize=(9,9))\n",
        "rows,cols=4,4\n",
        "for i in range(1,rows*cols+1):\n",
        "  random_idx=torch.randint(0,len(train_data),size=[1]).item()\n",
        "  img,label=train_data[random_idx]\n",
        "  fig.add_subplot(rows,cols,i)\n",
        "  plt.imshow(img.squeeze(),cmap='gray')\n",
        "  plt.title(class_names[label])\n",
        "  plt.axis(False)"
      ],
      "metadata": {
        "id": "4SVOUMDnwm9Y",
        "colab": {
          "base_uri": "https://localhost:8080/",
          "height": 752
        },
        "outputId": "979e73ea-c2a4-463e-97a6-4e55a75a4650"
      },
      "execution_count": 10,
      "outputs": [
        {
          "output_type": "display_data",
          "data": {
            "text/plain": [
              "<Figure size 900x900 with 16 Axes>"
            ],
            "image/png": "[encoded data removed]"
          },
          "metadata": {}
        }
      ]
    },
    {
      "cell_type": "markdown",
      "source": [
        "## Prepare DataLoader\n",
        "\n",
        "Pytorch Datasets to Python Iterable (more specifically batches or mini-batches)"
      ],
      "metadata": {
        "id": "mXAeq64wAym3"
      }
    },
    {
      "cell_type": "code",
      "source": [
        "train_data"
      ],
      "metadata": {
        "colab": {
          "base_uri": "https://localhost:8080/"
        },
        "id": "gcTooOp2GYyM",
        "outputId": "3bff1594-afc1-4079-87b5-87b0bf55faa3"
      },
      "execution_count": 11,
      "outputs": [
        {
          "output_type": "execute_result",
          "data": {
            "text/plain": [
              "Dataset FashionMNIST\n",
              "    Number of datapoints: 60000\n",
              "    Root location: data\n",
              "    Split: Train\n",
              "    StandardTransform\n",
              "Transform: ToTensor()"
            ]
          },
          "metadata": {},
          "execution_count": 11
        }
      ]
    },
    {
      "cell_type": "code",
      "source": [
        "from torch.utils.data import DataLoader\n",
        "BATCH_SIZE = 32\n",
        "train_dataloader=DataLoader(dataset=train_data,batch_size=BATCH_SIZE,shuffle=True)\n",
        "test_dataloader=DataLoader(dataset=test_data,batch_size=BATCH_SIZE,shuffle=False)"
      ],
      "metadata": {
        "id": "C7KqHuznJ-3p"
      },
      "execution_count": 12,
      "outputs": []
    },
    {
      "cell_type": "code",
      "source": [
        "len(train_dataloader)"
      ],
      "metadata": {
        "colab": {
          "base_uri": "https://localhost:8080/"
        },
        "id": "KMs0pAxFQDC7",
        "outputId": "2e020e72-3503-4067-dede-1c7e7ab31042"
      },
      "execution_count": 13,
      "outputs": [
        {
          "output_type": "execute_result",
          "data": {
            "text/plain": [
              "1875"
            ]
          },
          "metadata": {},
          "execution_count": 13
        }
      ]
    },
    {
      "cell_type": "code",
      "source": [
        "train_features_batch,train_labels_batch=next(iter(train_dataloader))\n",
        "train_features_batch.shape"
      ],
      "metadata": {
        "colab": {
          "base_uri": "https://localhost:8080/"
        },
        "id": "yt955apJRf98",
        "outputId": "50ac96b7-532b-49e8-dc02-999f47231679"
      },
      "execution_count": 14,
      "outputs": [
        {
          "output_type": "execute_result",
          "data": {
            "text/plain": [
              "torch.Size([32, 1, 28, 28])"
            ]
          },
          "metadata": {},
          "execution_count": 14
        }
      ]
    },
    {
      "cell_type": "code",
      "source": [
        "torch.manual_seed(42)\n",
        "random_idx=torch.randint(0,len(train_features_batch),size=[1]).item()\n",
        "img,label=train_features_batch[random_idx], train_labels_batch[random_idx]\n",
        "plt.imshow(img.squeeze(),cmap=\"gray\")\n",
        "plt.axis(False)\n"
      ],
      "metadata": {
        "colab": {
          "base_uri": "https://localhost:8080/",
          "height": 423
        },
        "id": "kGRK8Y0mQFsv",
        "outputId": "ed11a268-e11d-4870-e941-01d31b7569d5"
      },
      "execution_count": 15,
      "outputs": [
        {
          "output_type": "execute_result",
          "data": {
            "text/plain": [
              "(np.float64(-0.5), np.float64(27.5), np.float64(27.5), np.float64(-0.5))"
            ]
          },
          "metadata": {},
          "execution_count": 15
        },
        {
          "output_type": "display_data",
          "data": {
            "text/plain": [
              "<Figure size 640x480 with 1 Axes>"
            ],
            "image/png": "[encoded data removed]"
          },
          "metadata": {}
        }
      ]
    },
    {
      "cell_type": "markdown",
      "source": [
        "## Build a baseline model"
      ],
      "metadata": {
        "id": "SYUjjXHAR_en"
      }
    },
    {
      "cell_type": "code",
      "source": [
        "#create a flatten layer\n",
        "flatten_model = nn.Flatten()\n",
        "\n",
        "#get a single sample\n",
        "x=train_features_batch[0]\n",
        "\n",
        "#flatten the sample\n",
        "output = flatten_model(x)\n",
        "\n",
        "print(f\"shape before flattening: {x.shape}\")\n",
        "print(f\"shape after flattening: {output.shape}\")\n",
        "\n"
      ],
      "metadata": {
        "colab": {
          "base_uri": "https://localhost:8080/"
        },
        "id": "qlOceS8y4s_y",
        "outputId": "7759f3b3-60c1-44b2-e84f-d7235b202962"
      },
      "execution_count": 16,
      "outputs": [
        {
          "output_type": "stream",
          "name": "stdout",
          "text": [
            "shape before flattening: torch.Size([1, 28, 28])\n",
            "shape after flattening: torch.Size([1, 784])\n"
          ]
        }
      ]
    },
    {
      "cell_type": "code",
      "source": [
        "from torch import nn\n",
        "class FashionMNIST(nn.Module):\n",
        "  def __init__(self, input_shape:int, hidden_units: int, output_shape: int):\n",
        "    super().__init__()\n",
        "    self.layer_stack = nn.Sequential(\n",
        "        nn.Flatten(),\n",
        "        nn.Linear(in_features=input_shape, out_features=hidden_units),\n",
        "        nn.Linear(in_features=hidden_units, out_features=output_shape))\n",
        "  def forward(self,x):\n",
        "      return self.layer_stack(x)"
      ],
      "metadata": {
        "id": "bZlHVKUo6Uer"
      },
      "execution_count": 17,
      "outputs": []
    },
    {
      "cell_type": "code",
      "source": [
        "torch.manual_seed(42)\n",
        "model0=FashionMNIST(input_shape=784,hidden_units=10,output_shape=len(class_names))\n",
        "model0"
      ],
      "metadata": {
        "colab": {
          "base_uri": "https://localhost:8080/"
        },
        "id": "qSI5IrP28bPA",
        "outputId": "176a535c-8338-44a7-9144-014792b84e0c"
      },
      "execution_count": 18,
      "outputs": [
        {
          "output_type": "execute_result",
          "data": {
            "text/plain": [
              "FashionMNIST(\n",
              "  (layer_stack): Sequential(\n",
              "    (0): Flatten(start_dim=1, end_dim=-1)\n",
              "    (1): Linear(in_features=784, out_features=10, bias=True)\n",
              "    (2): Linear(in_features=10, out_features=10, bias=True)\n",
              "  )\n",
              ")"
            ]
          },
          "metadata": {},
          "execution_count": 18
        }
      ]
    },
    {
      "cell_type": "code",
      "source": [
        "dummy_x=torch.rand([1,1,28,28])\n",
        "model0(dummy_x).shape"
      ],
      "metadata": {
        "colab": {
          "base_uri": "https://localhost:8080/"
        },
        "id": "dQcAD-pCQ5Dc",
        "outputId": "6c44a3b4-d394-4e30-d84c-dfdffe45906d"
      },
      "execution_count": 19,
      "outputs": [
        {
          "output_type": "execute_result",
          "data": {
            "text/plain": [
              "torch.Size([1, 10])"
            ]
          },
          "metadata": {},
          "execution_count": 19
        }
      ]
    },
    {
      "cell_type": "code",
      "source": [
        "model0.state_dict()"
      ],
      "metadata": {
        "colab": {
          "base_uri": "https://localhost:8080/"
        },
        "id": "lBA8N2qmRG_B",
        "outputId": "cdc0484b-8cb4-45a6-f224-eaa7f5804bf9"
      },
      "execution_count": 20,
      "outputs": [
        {
          "output_type": "execute_result",
          "data": {
            "text/plain": [
              "OrderedDict([('layer_stack.1.weight',\n",
              "              tensor([[ 0.0273,  0.0296, -0.0084,  ..., -0.0142,  0.0093,  0.0135],\n",
              "                      [-0.0188, -0.0354,  0.0187,  ..., -0.0106, -0.0001,  0.0115],\n",
              "                      [-0.0008,  0.0017,  0.0045,  ..., -0.0127, -0.0188,  0.0059],\n",
              "                      ...,\n",
              "                      [-0.0116,  0.0273, -0.0344,  ...,  0.0176,  0.0283, -0.0011],\n",
              "                      [-0.0230,  0.0257,  0.0291,  ..., -0.0187, -0.0087,  0.0001],\n",
              "                      [ 0.0176, -0.0147,  0.0053,  ..., -0.0336, -0.0221,  0.0205]])),\n",
              "             ('layer_stack.1.bias',\n",
              "              tensor([-0.0093,  0.0283, -0.0033,  0.0255,  0.0017,  0.0037, -0.0302, -0.0123,\n",
              "                       0.0018,  0.0163])),\n",
              "             ('layer_stack.2.weight',\n",
              "              tensor([[ 0.0614, -0.0687,  0.0021,  0.2718,  0.2109,  0.1079, -0.2279, -0.1063,\n",
              "                        0.2019,  0.2847],\n",
              "                      [-0.1495,  0.1344, -0.0740,  0.2006, -0.0475, -0.2514, -0.3130, -0.0118,\n",
              "                        0.0932, -0.1864],\n",
              "                      [ 0.2488,  0.1500,  0.1907,  0.1457, -0.3050, -0.0580,  0.1643,  0.1565,\n",
              "                       -0.2877, -0.1792],\n",
              "                      [ 0.2305, -0.2618,  0.2397, -0.0610,  0.0232,  0.1542,  0.0851, -0.2027,\n",
              "                        0.1030, -0.2715],\n",
              "                      [-0.1596, -0.0555, -0.0633,  0.2302, -0.1726,  0.2654,  0.1473,  0.1029,\n",
              "                        0.2252, -0.2160],\n",
              "                      [-0.2725,  0.0118,  0.1559,  0.1596,  0.0132,  0.3024,  0.1124,  0.1366,\n",
              "                       -0.1533,  0.0965],\n",
              "                      [-0.1184, -0.2555, -0.2057, -0.1909, -0.0477, -0.1324,  0.2905,  0.1307,\n",
              "                       -0.2629,  0.0133],\n",
              "                      [ 0.2727, -0.0127,  0.0513,  0.0863, -0.1043, -0.2047, -0.1185, -0.0825,\n",
              "                        0.2488, -0.2571],\n",
              "                      [ 0.0425, -0.1209, -0.0336, -0.0281, -0.1227,  0.0730,  0.0747, -0.1816,\n",
              "                        0.1943,  0.2853],\n",
              "                      [-0.1310,  0.0645, -0.1171,  0.2168, -0.0245, -0.2820,  0.0736,  0.2621,\n",
              "                        0.0012, -0.0810]])),\n",
              "             ('layer_stack.2.bias',\n",
              "              tensor([-0.0087,  0.1791,  0.2712, -0.0791,  0.1685,  0.1762,  0.2825,  0.2266,\n",
              "                      -0.2612, -0.2613]))])"
            ]
          },
          "metadata": {},
          "execution_count": 20
        }
      ]
    },
    {
      "cell_type": "markdown",
      "source": [
        "### Loss optimizer"
      ],
      "metadata": {
        "id": "DKPnuSFvUyDs"
      }
    },
    {
      "cell_type": "code",
      "source": [
        "# nn.crossentropyloss\n",
        "# optimizer - stochastic gd\n",
        "\n",
        "import requests\n",
        "from pathlib import Path\n",
        "#Download helper function\n",
        "if Path(\"helper_functions.py\").is_file():\n",
        "  print(\"Helper function already exist\")\n",
        "else:\n",
        "  print(\"Downloading...\")\n",
        "  request=requests.get(\"https://raw.githubusercontent.com/mrdbourke/pytorch-deep-learning/main/helper_functions.py\")\n",
        "  with open(\"helper_function.py\",\"wb\") as f:\n",
        "    f.write(request.content)"
      ],
      "metadata": {
        "id": "hECrCoblVrwa",
        "colab": {
          "base_uri": "https://localhost:8080/"
        },
        "outputId": "9d9eb5a7-fdce-42bd-904c-4a9c85863e3e"
      },
      "execution_count": 21,
      "outputs": [
        {
          "output_type": "stream",
          "name": "stdout",
          "text": [
            "Downloading...\n"
          ]
        }
      ]
    },
    {
      "cell_type": "code",
      "source": [
        "#import acc function\n",
        "\n",
        "from helper_function import accuracy_fn\n",
        "\n",
        "#setup loss function and optimizer\n",
        "loss_fn = nn.CrossEntropyLoss()\n",
        "optimizer = torch.optim.SGD(params=model0.parameters(),lr=0.1)"
      ],
      "metadata": {
        "id": "ssfonU_sU0z_"
      },
      "execution_count": 22,
      "outputs": []
    },
    {
      "cell_type": "markdown",
      "source": [
        "### Creating function to time experiments"
      ],
      "metadata": {
        "id": "rmOGX_PHcRR_"
      }
    },
    {
      "cell_type": "code",
      "source": [
        "from timeit import default_timer as timer\n",
        "def print_train_time(start:float, end: float, device: torch.device=None):\n",
        "  \"\"\"Prints difference between start and end time\"\"\"\n",
        "  total_time=end-start\n",
        "  print(f\"Train time on {device}: {total_time:.3f} seconds \")\n",
        "  return total_time"
      ],
      "metadata": {
        "id": "FejfzRD8dedC"
      },
      "execution_count": 23,
      "outputs": []
    },
    {
      "cell_type": "code",
      "source": [
        "start_time=timer()\n",
        "#some code\n",
        "end_time=timer()\n",
        "print_train_time(start_time,end_time)"
      ],
      "metadata": {
        "colab": {
          "base_uri": "https://localhost:8080/"
        },
        "id": "eyMU1NoLgvUp",
        "outputId": "b36ad558-dfb0-4a57-b358-36a17ea1f1b4"
      },
      "execution_count": 24,
      "outputs": [
        {
          "output_type": "stream",
          "name": "stdout",
          "text": [
            "Train time on None: 0.000 seconds \n"
          ]
        },
        {
          "output_type": "execute_result",
          "data": {
            "text/plain": [
              "4.274699995221454e-05"
            ]
          },
          "metadata": {},
          "execution_count": 24
        }
      ]
    },
    {
      "cell_type": "markdown",
      "source": [
        "### Creating training loop and train model on batches"
      ],
      "metadata": {
        "id": "kF0u5k7Hg5hc"
      }
    },
    {
      "cell_type": "code",
      "source": [
        "from tqdm.auto import tqdm\n",
        "\n",
        "torch.manual_seed(42)\n",
        "train_time_start_on_cpu=timer()\n",
        "epochs=3\n",
        "\n",
        "for epoch in tqdm(range(epochs)):\n",
        "  print(f\"Epoch: {epoch}\\n----\")\n",
        "  train_loss=0\n",
        "  for batch,(X,y) in enumerate(train_dataloader):\n",
        "    model0.train()\n",
        "    y_pred=model0(X)\n",
        "    loss=loss_fn(y_pred,y)\n",
        "    train_loss+=loss\n",
        "    optimizer.zero_grad()\n",
        "    loss.backward()\n",
        "    optimizer.step()\n",
        "    if batch%400==0:\n",
        "      print(f\"Looked at {batch*len(X)}/{len(train_dataloader.dataset)} samples\")\n",
        "  train_loss/=len(train_dataloader)\n",
        "  test_loss,test_acc=0,0\n",
        "  model0.eval()\n",
        "  with torch.inference_mode():\n",
        "    for X_test,y_test in test_dataloader:\n",
        "      test_pred=model0(X_test)\n",
        "      test_loss+=loss_fn(test_pred,y_test)\n",
        "      test_acc+=accuracy_fn(y_test,test_pred.argmax(dim=1))\n",
        "    test_loss/=len(test_dataloader)\n",
        "    test_acc/=len(test_dataloader)\n",
        "  print(f\"Train loss: {train_loss:.4f} | Test loss: {test_loss:.4f}, Test acc: {test_acc}\")\n",
        "\n",
        "train_time_end_on_cpu = timer()\n",
        "total_train_time = print_train_time(train_time_start_on_cpu,train_time_end_on_cpu,\"cpu\")\n",
        "\n",
        "\n",
        "\n"
      ],
      "metadata": {
        "id": "Ija2OYCQjh89",
        "colab": {
          "base_uri": "https://localhost:8080/",
          "height": 483,
          "referenced_widgets": [
            "9a90d5c9605145d299f0dd70e79b16c9",
            "1afcbcbef41c435d91b78acebdd817b4",
            "083110707288462e9bffae4224811f73",
            "4b700c502a464c8cbffba96faa3cfa76",
            "2f79e4503ec645169a192d13352c5b53",
            "288b4b1b8bce40349dbf13e53945c06b",
            "180fa859159d4f34804e2f41abc33a57",
            "9e9aa510fb5a495c867f181774aec2c2",
            "099886ca7990482caf6a2c9c0f2c8b3a",
            "983e5807abe34a46b07f4f4437ea781a",
            "28193591b53b4bdb85bdcf9e3abfbb10"
          ]
        },
        "outputId": "fe7e174e-354e-4ff4-ca0f-80098ede0f58"
      },
      "execution_count": 25,
      "outputs": [
        {
          "output_type": "display_data",
          "data": {
            "text/plain": [
              "  0%|          | 0/3 [00:00<?, ?it/s]"
            ],
            "application/vnd.jupyter.widget-view+json": {
              "version_major": 2,
              "version_minor": 0,
              "model_id": "9a90d5c9605145d299f0dd70e79b16c9"
            }
          },
          "metadata": {}
        },
        {
          "output_type": "stream",
          "name": "stdout",
          "text": [
            "Epoch: 0\n",
            "----\n",
            "Looked at 0/60000 samples\n",
            "Looked at 12800/60000 samples\n",
            "Looked at 25600/60000 samples\n",
            "Looked at 38400/60000 samples\n",
            "Looked at 51200/60000 samples\n",
            "Train loss: 0.5904 | Test loss: 0.5095, Test acc: 82.03873801916933\n",
            "Epoch: 1\n",
            "----\n",
            "Looked at 0/60000 samples\n",
            "Looked at 12800/60000 samples\n",
            "Looked at 25600/60000 samples\n",
            "Looked at 38400/60000 samples\n",
            "Looked at 51200/60000 samples\n",
            "Train loss: 0.4763 | Test loss: 0.4799, Test acc: 83.19688498402556\n",
            "Epoch: 2\n",
            "----\n",
            "Looked at 0/60000 samples\n",
            "Looked at 12800/60000 samples\n",
            "Looked at 25600/60000 samples\n",
            "Looked at 38400/60000 samples\n",
            "Looked at 51200/60000 samples\n",
            "Train loss: 0.4550 | Test loss: 0.4766, Test acc: 83.42651757188499\n",
            "Train time on cpu: 24.631 seconds \n"
          ]
        }
      ]
    },
    {
      "cell_type": "markdown",
      "source": [
        "## Make Predictions"
      ],
      "metadata": {
        "id": "cuGDIl5Q8KWN"
      }
    },
    {
      "cell_type": "code",
      "source": [
        "torch.manual_seed(42)\n",
        "device = torch.device(\"cuda\" if torch.cuda.is_available() else \"cpu\")\n",
        "def eval_model(model: torch.nn.Module, data_loader: torch.utils.data.DataLoader, loss_fn: torch.nn.Module, accuracy_fn,device: torch.device):\n",
        "  \"\"\"Returns a dictionary containing the results of model predicting on data loder\"\"\"\n",
        "  loss,acc=0,0\n",
        "  with torch.inference_mode():\n",
        "    for X,y in data_loader:\n",
        "      X,y=X.to(device),y.to(device)\n",
        "      y_pred=model(X)\n",
        "      #accumulate the loss and acc values per batch\n",
        "      loss+=loss_fn(y_pred,y)\n",
        "      acc+=accuracy_fn(y,y_pred.argmax(dim=1))\n",
        "    loss/= len(data_loader)\n",
        "    acc/=len(data_loader)\n",
        "  return {\"model_name\": model.__class__.__name__,\n",
        "          \"model_loss\": loss.item(),\n",
        "          \"model_acc\": acc}\n",
        "\n",
        "model0.to(device)\n",
        "model0results = eval_model(model0,test_dataloader,loss_fn,accuracy_fn,device)\n",
        "model0results\n",
        "\n"
      ],
      "metadata": {
        "colab": {
          "base_uri": "https://localhost:8080/"
        },
        "id": "lrvJSYRYAduL",
        "outputId": "9e18817b-b6e7-4337-c823-2dc515ffcc8b"
      },
      "execution_count": 26,
      "outputs": [
        {
          "output_type": "execute_result",
          "data": {
            "text/plain": [
              "{'model_name': 'FashionMNIST',\n",
              " 'model_loss': 0.47663894295692444,\n",
              " 'model_acc': 83.42651757188499}"
            ]
          },
          "metadata": {},
          "execution_count": 26
        }
      ]
    },
    {
      "cell_type": "markdown",
      "source": [
        "## Decive Agnostic Code"
      ],
      "metadata": {
        "id": "YoM0bX4gIIJN"
      }
    },
    {
      "cell_type": "code",
      "source": [
        "torch.cuda.is_available()"
      ],
      "metadata": {
        "colab": {
          "base_uri": "https://localhost:8080/"
        },
        "id": "0tuEzMAGJAO2",
        "outputId": "fbceeb27-0a02-4857-9812-6db771568872"
      },
      "execution_count": 27,
      "outputs": [
        {
          "output_type": "execute_result",
          "data": {
            "text/plain": [
              "True"
            ]
          },
          "metadata": {},
          "execution_count": 27
        }
      ]
    },
    {
      "cell_type": "code",
      "source": [
        "import torch\n",
        "device=\"cuda\" if torch.cuda.is_available() else \"cpu\"\n",
        "device"
      ],
      "metadata": {
        "colab": {
          "base_uri": "https://localhost:8080/",
          "height": 35
        },
        "id": "zOVGXUOZJEnW",
        "outputId": "88a12d9d-213b-4a9f-d0d2-4afed391ef47"
      },
      "execution_count": 28,
      "outputs": [
        {
          "output_type": "execute_result",
          "data": {
            "text/plain": [
              "'cuda'"
            ],
            "application/vnd.google.colaboratory.intrinsic+json": {
              "type": "string"
            }
          },
          "metadata": {},
          "execution_count": 28
        }
      ]
    },
    {
      "cell_type": "markdown",
      "source": [
        "## Model with nonlinearity"
      ],
      "metadata": {
        "id": "47JvNWgcJgN-"
      }
    },
    {
      "cell_type": "code",
      "source": [
        "class FashionMNISTv1(nn.Module):\n",
        "  def __init__(self, input_shape: int,hidden_units:int, output_shape:int):\n",
        "    super().__init__()\n",
        "    self.layer_stack=nn.Sequential(\n",
        "        nn.Flatten(),\n",
        "        nn.Linear(in_features=input_shape,out_features=hidden_units),\n",
        "        nn.ReLU(),\n",
        "        nn.Linear(in_features=hidden_units,out_features=output_shape),\n",
        "        nn.ReLU()\n",
        "    )\n",
        "  def forward(self,x:torch.Tensor):\n",
        "    return self.layer_stack(x)\n"
      ],
      "metadata": {
        "id": "jqnX2WQvJpGG"
      },
      "execution_count": 29,
      "outputs": []
    },
    {
      "cell_type": "code",
      "source": [
        "#create an instance of model1\n",
        "torch.manual_seed(42)\n",
        "model1=FashionMNISTv1(input_shape=784,hidden_units=10,output_shape=len(class_names)).to(device)\n",
        "next(model1.parameters()).device\n",
        "model1.to(device)"
      ],
      "metadata": {
        "id": "5QDOtPD4X7p9",
        "colab": {
          "base_uri": "https://localhost:8080/"
        },
        "outputId": "eb47d516-a993-453f-a5c2-44bc1a6cf778"
      },
      "execution_count": 30,
      "outputs": [
        {
          "output_type": "execute_result",
          "data": {
            "text/plain": [
              "FashionMNISTv1(\n",
              "  (layer_stack): Sequential(\n",
              "    (0): Flatten(start_dim=1, end_dim=-1)\n",
              "    (1): Linear(in_features=784, out_features=10, bias=True)\n",
              "    (2): ReLU()\n",
              "    (3): Linear(in_features=10, out_features=10, bias=True)\n",
              "    (4): ReLU()\n",
              "  )\n",
              ")"
            ]
          },
          "metadata": {},
          "execution_count": 30
        }
      ]
    },
    {
      "cell_type": "code",
      "source": [
        "from helper_function import accuracy_fn\n",
        "loss_fn=nn.CrossEntropyLoss()\n",
        "optimizer=torch.optim.SGD(params=model1.parameters(),lr=0.1)"
      ],
      "metadata": {
        "id": "gewUah3yHU78"
      },
      "execution_count": 31,
      "outputs": []
    },
    {
      "cell_type": "code",
      "source": [
        "def train_step(model: torch.nn.Module,\n",
        "               data_loader: torch.utils.data.DataLoader,\n",
        "               loss_fn: torch.nn.Module,\n",
        "               optimizer: torch.optim.Optimizer,\n",
        "               accuracy_fn,\n",
        "               device: torch.device=device):\n",
        "  \"\"\"Performs a training with model trying to learn on data_loader\"\"\"\n",
        "  train_loss,train_acc = 0,0\n",
        "  model.train()\n",
        "\n",
        "  for batch,(X,y) in enumerate(data_loader):\n",
        "      X,y=X.to(device),y.to(device)\n",
        "      model.train()\n",
        "      y_pred=model(X)\n",
        "      loss=loss_fn(y_pred,y)\n",
        "      train_loss+=loss\n",
        "      train_acc+=accuracy_fn(y_true=y,y_pred=y_pred.argmax(dim=1))\n",
        "      optimizer.zero_grad()\n",
        "      loss.backward()\n",
        "      optimizer.step()\n",
        "\n",
        "  train_loss/=len(data_loader)\n",
        "  train_acc/=len(data_loader)\n",
        "  print(f\"Train Loss: {train_loss:.5f} Train acc: {train_acc:.5f}\")\n"
      ],
      "metadata": {
        "id": "Kwrz3OkeH2zD"
      },
      "execution_count": 32,
      "outputs": []
    },
    {
      "cell_type": "code",
      "source": [
        "def test_step(model: torch.nn.Module,\n",
        "              data_loader: torch.utils.data.DataLoader,\n",
        "              loss_fn: torch.nn.Module,\n",
        "              accuracy_fn,\n",
        "              device: torch.device=device):\n",
        "  test_loss,test_acc=0,0\n",
        "  model.eval()\n",
        "  with torch.inference_mode():\n",
        "    for X,y in data_loader:\n",
        "      X,y=X.to(device),y.to(device)\n",
        "      test_pred=model(X)\n",
        "      test_loss+=loss_fn(test_pred,y)\n",
        "      test_acc+=accuracy_fn(y,test_pred.argmax(dim=1))\n",
        "    test_loss/=len(data_loader)\n",
        "    test_acc/=len(data_loader)\n",
        "    print(f\"Test loss: {test_loss} Test Acc: {test_acc}%\\n\")\n"
      ],
      "metadata": {
        "id": "cpDklVsJH3KY"
      },
      "execution_count": 33,
      "outputs": []
    },
    {
      "cell_type": "code",
      "source": [
        "torch.manual_seed(42)\n",
        "\n",
        "from timeit import default_timer as timer\n",
        "train_time_start_on_gpu=timer()\n",
        "epochs=3\n",
        "for epoch in tqdm(range(epochs)):\n",
        "  print(f\"Epoch: {epoch}\")\n",
        "  train_step(model1,train_dataloader,loss_fn,optimizer,accuracy_fn,device)\n",
        "  test_step(model1,test_dataloader,loss_fn,accuracy_fn,device)\n",
        "train_time_end_on_gpu=timer()\n",
        "total_train_time=print_train_time(train_time_start_on_gpu,train_time_end_on_gpu,device)\n",
        "\n",
        "\n",
        "\n"
      ],
      "metadata": {
        "colab": {
          "base_uri": "https://localhost:8080/",
          "height": 275,
          "referenced_widgets": [
            "64ea80d32d344d518344c1d9c4bde509",
            "75eebc702e2747959fa13151f1b80be3",
            "5db41c826c6e4b5ab6b8ec9592ea8c23",
            "e1e4bca1c4b24e84ac896bf7efa75192",
            "9faa967d619f442085b99d55d534fefe",
            "9b5b20c1cba54e7aa0b21d7118a6a304",
            "4e7107b89cdf4cdd9326dce4518dc651",
            "2784ca4ae62c49039eb29aecb3bf914c",
            "daf3ead14ac24e7e84c19d32c1e2cf42",
            "c2ac45528f654c7abc320d7dcd0f8d7b",
            "49ff48774a12421fa982f75804078ba4"
          ]
        },
        "id": "o0w5uvAjLbPw",
        "outputId": "bd75f5dc-58e3-4477-851d-c0fc0b88d917"
      },
      "execution_count": 34,
      "outputs": [
        {
          "output_type": "display_data",
          "data": {
            "text/plain": [
              "  0%|          | 0/3 [00:00<?, ?it/s]"
            ],
            "application/vnd.jupyter.widget-view+json": {
              "version_major": 2,
              "version_minor": 0,
              "model_id": "64ea80d32d344d518344c1d9c4bde509"
            }
          },
          "metadata": {}
        },
        {
          "output_type": "stream",
          "name": "stdout",
          "text": [
            "Epoch: 0\n",
            "Train Loss: 1.09199 Train acc: 61.34333\n",
            "Test loss: 0.9563649296760559 Test Acc: 64.99600638977635%\n",
            "\n",
            "Epoch: 1\n",
            "Train Loss: 0.78101 Train acc: 71.92833\n",
            "Test loss: 0.7222670912742615 Test Acc: 73.91174121405751%\n",
            "\n",
            "Epoch: 2\n",
            "Train Loss: 0.67027 Train acc: 75.93667\n",
            "Test loss: 0.6850008964538574 Test Acc: 75.01996805111821%\n",
            "\n",
            "Train time on cuda: 27.537 seconds \n"
          ]
        }
      ]
    },
    {
      "cell_type": "markdown",
      "source": [],
      "metadata": {
        "id": "h6QdrykB4wgY"
      }
    },
    {
      "cell_type": "markdown",
      "source": [
        "Some times the training time in GPU>CPU because\n",
        "1. It could be due to overhead for copying the data/model to and from GPU outweighs the compute benefits offered by GPU\n",
        "\n",
        "2. The hardware using has a better CPU than GPU"
      ],
      "metadata": {
        "id": "NVpXBC-yTkia"
      }
    },
    {
      "cell_type": "code",
      "source": [
        "model1results=eval_model(model1,test_dataloader,loss_fn,accuracy_fn,device)\n",
        "model1results"
      ],
      "metadata": {
        "colab": {
          "base_uri": "https://localhost:8080/"
        },
        "id": "srQ0tFXMRze_",
        "outputId": "b308f072-806a-46a3-f8f6-9fdb5e5fd67e"
      },
      "execution_count": 35,
      "outputs": [
        {
          "output_type": "execute_result",
          "data": {
            "text/plain": [
              "{'model_name': 'FashionMNISTv1',\n",
              " 'model_loss': 0.6850008964538574,\n",
              " 'model_acc': 75.01996805111821}"
            ]
          },
          "metadata": {},
          "execution_count": 35
        }
      ]
    },
    {
      "cell_type": "markdown",
      "source": [
        "## Building a CNN"
      ],
      "metadata": {
        "id": "Ghg9bfGYUat6"
      }
    },
    {
      "cell_type": "code",
      "source": [
        "class FashionMNISTv2(nn.Module):\n",
        "  def __init__(self, input_shape: int, hidden_units: int, output_shape: int):\n",
        "    super().__init__()\n",
        "    self.conv_block_1 = nn.Sequential(\n",
        "        nn.Conv2d(input_shape, hidden_units, 3, 1, 1),\n",
        "        nn.ReLU(),\n",
        "        nn.Conv2d(hidden_units, hidden_units, 3, 1, 1),\n",
        "        nn.ReLU(),\n",
        "        nn.MaxPool2d(2)\n",
        "    )\n",
        "    self.conv_block_2 = nn.Sequential(\n",
        "        nn.Conv2d(hidden_units, hidden_units, 3, 1, 1),\n",
        "        nn.ReLU(),\n",
        "        nn.Conv2d(hidden_units, hidden_units, 3, 1, 1),\n",
        "        nn.ReLU(),\n",
        "        nn.MaxPool2d(2)\n",
        "    )\n",
        "    self.classifier = nn.Sequential(\n",
        "        nn.Flatten(),\n",
        "        nn.Linear(hidden_units * 7 * 7, output_shape)\n",
        "    )\n",
        "\n",
        "  def forward(self, x):\n",
        "    x = self.conv_block_1(x)\n",
        "    # print(x.shape)\n",
        "    x = self.conv_block_2(x)\n",
        "    # print(x.shape)\n",
        "    x = self.classifier(x)\n",
        "    return x\n"
      ],
      "metadata": {
        "id": "KGfLUY9D7TR5"
      },
      "execution_count": 36,
      "outputs": []
    },
    {
      "cell_type": "code",
      "source": [
        "image.shape"
      ],
      "metadata": {
        "colab": {
          "base_uri": "https://localhost:8080/"
        },
        "id": "iDU6k5-j5G2N",
        "outputId": "65add943-a573-4a4a-d328-b8eedbbcd234"
      },
      "execution_count": 37,
      "outputs": [
        {
          "output_type": "execute_result",
          "data": {
            "text/plain": [
              "torch.Size([1, 28, 28])"
            ]
          },
          "metadata": {},
          "execution_count": 37
        }
      ]
    },
    {
      "cell_type": "code",
      "source": [
        "\n",
        "torch.manual_seed(42)\n",
        "model2=FashionMNISTv2(1,10,len(class_names)).to(device)\n",
        "\n"
      ],
      "metadata": {
        "id": "N6Lr2jir2GkU"
      },
      "execution_count": 38,
      "outputs": []
    },
    {
      "cell_type": "markdown",
      "source": [
        "## Stepping through nn.conv2d"
      ],
      "metadata": {
        "id": "8nMfpVPz5jBe"
      }
    },
    {
      "cell_type": "code",
      "source": [
        "torch.manual_seed(42)\n",
        "images=torch.randn(size=(32,3,64,64))\n",
        "test_image=images[0]\n",
        "print(f\"Image batch shape: {images.shape}\")\n",
        "print(f\"Single image shape {test_image.shape}\")\n",
        "print(f\"Test image:\\n {test_image}\")"
      ],
      "metadata": {
        "colab": {
          "base_uri": "https://localhost:8080/"
        },
        "id": "pZ60e03IAQQw",
        "outputId": "85d70555-103f-4402-bd98-a424b8b02393"
      },
      "execution_count": 39,
      "outputs": [
        {
          "output_type": "stream",
          "name": "stdout",
          "text": [
            "Image batch shape: torch.Size([32, 3, 64, 64])\n",
            "Single image shape torch.Size([3, 64, 64])\n",
            "Test image:\n",
            " tensor([[[ 1.9269,  1.4873,  0.9007,  ...,  1.8446, -1.1845,  1.3835],\n",
            "         [ 1.4451,  0.8564,  2.2181,  ...,  0.3399,  0.7200,  0.4114],\n",
            "         [ 1.9312,  1.0119, -1.4364,  ..., -0.5558,  0.7043,  0.7099],\n",
            "         ...,\n",
            "         [-0.5610, -0.4830,  0.4770,  ..., -0.2713, -0.9537, -0.6737],\n",
            "         [ 0.3076, -0.1277,  0.0366,  ..., -2.0060,  0.2824, -0.8111],\n",
            "         [-1.5486,  0.0485, -0.7712,  ..., -0.1403,  0.9416, -0.0118]],\n",
            "\n",
            "        [[-0.5197,  1.8524,  1.8365,  ...,  0.8935, -1.5114, -0.8515],\n",
            "         [ 2.0818,  1.0677, -1.4277,  ...,  1.6612, -2.6223, -0.4319],\n",
            "         [-0.1010, -0.4388, -1.9775,  ...,  0.2106,  0.2536, -0.7318],\n",
            "         ...,\n",
            "         [ 0.2779,  0.7342, -0.3736,  ..., -0.4601,  0.1815,  0.1850],\n",
            "         [ 0.7205, -0.2833,  0.0937,  ..., -0.1002, -2.3609,  2.2465],\n",
            "         [-1.3242, -0.1973,  0.2920,  ...,  0.5409,  0.6940,  1.8563]],\n",
            "\n",
            "        [[-0.7978,  1.0261,  1.1465,  ...,  1.2134,  0.9354, -0.0780],\n",
            "         [-1.4647, -1.9571,  0.1017,  ..., -1.9986, -0.7409,  0.7011],\n",
            "         [-1.3938,  0.8466, -1.7191,  ..., -1.1867,  0.1320,  0.3407],\n",
            "         ...,\n",
            "         [ 0.8206, -0.3745,  1.2499,  ..., -0.0676,  0.0385,  0.6335],\n",
            "         [-0.5589, -0.3393,  0.2347,  ...,  2.1181,  2.4569,  1.3083],\n",
            "         [-0.4092,  1.5199,  0.2401,  ..., -0.2558,  0.7870,  0.9924]]])\n"
          ]
        }
      ]
    },
    {
      "cell_type": "code",
      "source": [
        "conv_layer=nn.Conv2d(in_channels=3,\n",
        "                     out_channels=10,\n",
        "                     kernel_size=3,\n",
        "                     stride=1,\n",
        "                     padding=0\n",
        "                    )\n",
        "conv_output=conv_layer(test_image)\n",
        "conv_output"
      ],
      "metadata": {
        "colab": {
          "base_uri": "https://localhost:8080/"
        },
        "id": "NX5HXz5JCKKF",
        "outputId": "cb8e37fc-8b95-4e52-ba59-93f64550b6cb"
      },
      "execution_count": 40,
      "outputs": [
        {
          "output_type": "execute_result",
          "data": {
            "text/plain": [
              "tensor([[[-2.8778e-01, -6.0596e-02, -5.6306e-02,  ...,  2.8654e-01,\n",
              "           6.6224e-01, -2.3216e-01],\n",
              "         [-9.8911e-01, -4.0099e-01,  4.1832e-01,  ...,  4.7459e-01,\n",
              "          -1.8552e-01, -5.7622e-01],\n",
              "         [-4.1340e-02, -2.3277e-01,  3.7418e-01,  ...,  2.8255e-02,\n",
              "           1.4923e-01,  1.4236e-01],\n",
              "         ...,\n",
              "         [-8.0374e-01, -7.6687e-01, -5.9457e-02,  ...,  1.7452e-01,\n",
              "           4.2594e-01, -4.8341e-01],\n",
              "         [-1.4512e-01, -1.1566e-01,  6.1783e-01,  ...,  2.4126e-01,\n",
              "          -3.6626e-01,  3.5645e-01],\n",
              "         [ 3.6096e-02,  1.5214e-01,  2.3123e-01,  ...,  3.0904e-01,\n",
              "          -4.9680e-01, -7.2258e-01]],\n",
              "\n",
              "        [[-1.0853e+00, -1.6079e+00,  1.3346e-01,  ...,  2.1698e-01,\n",
              "          -1.7643e+00,  2.5263e-01],\n",
              "         [-8.2507e-01,  6.3866e-01,  1.8845e-01,  ..., -1.0936e-01,\n",
              "           4.8068e-01,  8.4869e-01],\n",
              "         [ 6.4927e-01, -4.2061e-03, -4.9991e-01,  ...,  5.8356e-01,\n",
              "           2.4611e-01,  6.6233e-01],\n",
              "         ...,\n",
              "         [ 9.8860e-02,  1.1661e+00,  3.1532e-01,  ..., -6.5450e-01,\n",
              "          -1.9585e-02,  2.4397e-01],\n",
              "         [-5.9820e-01,  3.7339e-01, -7.2705e-01,  ..., -3.1185e-02,\n",
              "          -8.9892e-01,  2.9192e-01],\n",
              "         [-1.8412e-01,  2.2085e-01,  1.6990e-01,  ...,  4.7418e-01,\n",
              "          -9.0971e-01,  7.9518e-01]],\n",
              "\n",
              "        [[ 3.9605e-02,  6.7841e-01, -9.6515e-01,  ..., -2.8578e-01,\n",
              "          -2.9320e-01, -1.8889e-01],\n",
              "         [-1.5027e+00, -1.1401e+00, -2.0217e-01,  ...,  2.5681e-01,\n",
              "          -9.3105e-01,  6.8724e-02],\n",
              "         [-4.1801e-01,  2.6299e-01,  3.3114e-02,  ...,  2.7162e-01,\n",
              "          -6.0643e-01, -7.4065e-01],\n",
              "         ...,\n",
              "         [ 5.3659e-02, -1.6118e-01, -2.2006e-01,  ...,  4.0253e-01,\n",
              "           2.1769e-01,  2.0759e-01],\n",
              "         [ 8.3423e-02,  2.5296e-01, -4.3232e-01,  ...,  1.1411e+00,\n",
              "           9.1973e-01,  3.2513e-02],\n",
              "         [ 2.0770e-01,  6.7494e-01,  1.7256e-01,  ..., -4.1328e-01,\n",
              "          -1.6368e-01, -1.3886e-01]],\n",
              "\n",
              "        ...,\n",
              "\n",
              "        [[-6.5893e-01, -1.0476e+00,  1.0067e+00,  ..., -1.7439e-01,\n",
              "           3.5072e-01,  2.5077e-01],\n",
              "         [ 1.3226e+00,  1.9803e+00, -6.4183e-01,  ...,  3.2681e-01,\n",
              "           1.5939e+00, -1.0821e-01],\n",
              "         [ 8.7122e-01, -1.0276e+00,  4.5702e-01,  ...,  5.1113e-01,\n",
              "           1.0244e+00,  8.7522e-01],\n",
              "         ...,\n",
              "         [ 1.3555e+00,  1.3009e+00,  4.9802e-01,  ..., -1.0216e-01,\n",
              "          -5.6769e-01,  8.4543e-02],\n",
              "         [ 1.5033e-01, -3.4481e-01,  1.0851e+00,  ..., -1.6738e-01,\n",
              "          -5.1884e-01,  1.9113e-01],\n",
              "         [-2.3805e-02, -4.3101e-01,  6.8124e-02,  ...,  1.0441e+00,\n",
              "           4.1791e-01,  6.0961e-01]],\n",
              "\n",
              "        [[-5.7891e-02,  6.3499e-02, -3.7689e-01,  ..., -7.3454e-01,\n",
              "           7.6985e-01, -6.7518e-01],\n",
              "         [ 2.9175e-01,  1.1631e-04, -6.0476e-01,  ..., -1.1983e+00,\n",
              "           6.5636e-01, -5.4662e-01],\n",
              "         [ 2.1523e-01, -1.9851e-01, -1.3285e-01,  ...,  7.5264e-01,\n",
              "          -1.5505e+00,  4.5457e-01],\n",
              "         ...,\n",
              "         [-2.0348e-01, -4.8311e-01, -3.0158e-02,  ..., -5.2867e-01,\n",
              "          -8.0491e-01,  7.7403e-01],\n",
              "         [ 7.5117e-01, -1.5956e-01,  2.5034e-01,  ..., -4.0541e-01,\n",
              "           2.8248e-01, -4.3361e-01],\n",
              "         [-2.1132e-01, -4.4753e-01, -1.0997e-01,  ..., -7.6029e-02,\n",
              "           7.9822e-01, -6.3137e-01]],\n",
              "\n",
              "        [[ 8.6642e-01,  1.6339e+00,  5.4498e-02,  ...,  2.3448e-01,\n",
              "           5.0939e-01,  8.1898e-01],\n",
              "         [ 1.0650e-01,  3.0274e-01, -7.4020e-01,  ...,  8.3167e-01,\n",
              "          -4.6203e-01,  3.4506e-01],\n",
              "         [ 1.1760e-02, -6.1708e-02, -7.6054e-01,  ..., -8.1317e-01,\n",
              "           1.0693e+00, -9.6907e-01],\n",
              "         ...,\n",
              "         [-1.1468e+00, -1.3791e-01, -3.6390e-01,  ...,  5.5073e-01,\n",
              "           2.0598e-01,  1.0710e-01],\n",
              "         [-3.4261e-01, -1.6038e-02, -6.6151e-01,  ..., -4.2419e-01,\n",
              "           4.4527e-01, -1.0111e-01],\n",
              "         [ 4.4487e-02,  9.7506e-02, -3.1829e-01,  ...,  6.0565e-02,\n",
              "           5.3990e-01, -4.2942e-01]]], grad_fn=<SqueezeBackward1>)"
            ]
          },
          "metadata": {},
          "execution_count": 40
        }
      ]
    },
    {
      "cell_type": "markdown",
      "source": [
        "### Setting up loss function and optimizer"
      ],
      "metadata": {
        "id": "i63lglEdGOi7"
      }
    },
    {
      "cell_type": "code",
      "source": [
        "from helper_function import accuracy_fn\n",
        "loss_fn=nn.CrossEntropyLoss()\n",
        "optimizer=torch.optim.SGD(params=model2.parameters(),\n",
        "                          lr=0.1)"
      ],
      "metadata": {
        "id": "rp2t2rkXySi_"
      },
      "execution_count": 41,
      "outputs": []
    },
    {
      "cell_type": "code",
      "source": [
        "#training and testing model2 using functions\n"
      ],
      "metadata": {
        "id": "995y8X-n0TJb"
      },
      "execution_count": 42,
      "outputs": []
    },
    {
      "cell_type": "code",
      "source": [
        "torch.manual_seed(42)\n",
        "torch.cuda.manual_seed(42)\n",
        "\n",
        "from timeit import default_timer as timer\n",
        "train_time_start_model2=timer()\n",
        "for epoch in tqdm(range(epochs)):\n",
        "  print(f\"Epoch {epoch}\\n------\")\n",
        "  train_step(model2,\n",
        "             train_dataloader,\n",
        "             loss_fn,\n",
        "             optimizer,\n",
        "             accuracy_fn,\n",
        "             device)\n",
        "  test_step(model2,\n",
        "            test_dataloader,\n",
        "            loss_fn,\n",
        "            accuracy_fn,\n",
        "            device)\n",
        "train_time_end_model2=timer()\n",
        "total_train_time_model2=print_train_time(train_time_start_model2,train_time_end_model2,device)\n",
        "\n"
      ],
      "metadata": {
        "colab": {
          "base_uri": "https://localhost:8080/",
          "height": 327,
          "referenced_widgets": [
            "e1cae16e8934442d82a2241ec236571b",
            "56a28ec9c7314460a3c5e1a042ca3a32",
            "d659114bfa154d4b9778710578b05b26",
            "5dcb6803b7b54943b405f30725d21de1",
            "99822d3ba15b4599817d70055167dfc5",
            "a659028914e24006a4dd995aae761a2b",
            "d2fd0642b2d649f0930968568ba28bb7",
            "ffd135f02f5841508fb4263267116320",
            "d3b283a695d94c7ab9dd46c0e29c808a",
            "1ee7f0bb51354c8c8a0445454bda267b",
            "82b20f289f6c45faa0aa778cd5696609"
          ]
        },
        "id": "GI76euzy0VAJ",
        "outputId": "6a8fb701-7bd3-4a35-be31-0c5b91fc1d58"
      },
      "execution_count": 43,
      "outputs": [
        {
          "output_type": "display_data",
          "data": {
            "text/plain": [
              "  0%|          | 0/3 [00:00<?, ?it/s]"
            ],
            "application/vnd.jupyter.widget-view+json": {
              "version_major": 2,
              "version_minor": 0,
              "model_id": "e1cae16e8934442d82a2241ec236571b"
            }
          },
          "metadata": {}
        },
        {
          "output_type": "stream",
          "name": "stdout",
          "text": [
            "Epoch 0\n",
            "------\n",
            "Train Loss: 0.59229 Train acc: 78.35833\n",
            "Test loss: 0.3905181884765625 Test Acc: 86.0523162939297%\n",
            "\n",
            "Epoch 1\n",
            "------\n",
            "Train Loss: 0.35383 Train acc: 87.21667\n",
            "Test loss: 0.3419201970100403 Test Acc: 87.60982428115015%\n",
            "\n",
            "Epoch 2\n",
            "------\n",
            "Train Loss: 0.31599 Train acc: 88.56667\n",
            "Test loss: 0.32248175144195557 Test Acc: 88.17891373801918%\n",
            "\n",
            "Train time on cuda: 35.541 seconds \n"
          ]
        }
      ]
    },
    {
      "cell_type": "code",
      "source": [
        "model2_results=eval_model(\n",
        "    model2,\n",
        "    test_dataloader,\n",
        "    loss_fn,\n",
        "    accuracy_fn,\n",
        "    device\n",
        ")\n",
        "model2_results"
      ],
      "metadata": {
        "colab": {
          "base_uri": "https://localhost:8080/"
        },
        "id": "DeNwbZ_j4iha",
        "outputId": "a4689b97-69a2-47c1-a3a1-daf988441510"
      },
      "execution_count": 44,
      "outputs": [
        {
          "output_type": "execute_result",
          "data": {
            "text/plain": [
              "{'model_name': 'FashionMNISTv2',\n",
              " 'model_loss': 0.32248175144195557,\n",
              " 'model_acc': 88.17891373801918}"
            ]
          },
          "metadata": {},
          "execution_count": 44
        }
      ]
    },
    {
      "cell_type": "code",
      "source": [
        "import pandas as pd\n",
        "compare_results = pd.DataFrame([model0results,model1results,model2_results])\n",
        "compare_results"
      ],
      "metadata": {
        "colab": {
          "base_uri": "https://localhost:8080/",
          "height": 143
        },
        "id": "cUIHqKJlA0B0",
        "outputId": "35e4b1b1-8ffe-445f-ad54-daef336ad025"
      },
      "execution_count": 45,
      "outputs": [
        {
          "output_type": "execute_result",
          "data": {
            "text/plain": [
              "       model_name  model_loss  model_acc\n",
              "0    FashionMNIST    0.476639  83.426518\n",
              "1  FashionMNISTv1    0.685001  75.019968\n",
              "2  FashionMNISTv2    0.322482  88.178914"
            ],
            "text/html": [
              "\n",
              "  <div id=\"df-7b501e8c-d6a4-4eca-9026-0362082f22df\" class=\"colab-df-container\">\n",
              "    <div>\n",
              "<style scoped>\n",
              "    .dataframe tbody tr th:only-of-type {\n",
              "        vertical-align: middle;\n",
              "    }\n",
              "\n",
              "    .dataframe tbody tr th {\n",
              "        vertical-align: top;\n",
              "    }\n",
              "\n",
              "    .dataframe thead th {\n",
              "        text-align: right;\n",
              "    }\n",
              "</style>\n",
              "<table border=\"1\" class=\"dataframe\">\n",
              "  <thead>\n",
              "    <tr style=\"text-align: right;\">\n",
              "      <th></th>\n",
              "      <th>model_name</th>\n",
              "      <th>model_loss</th>\n",
              "      <th>model_acc</th>\n",
              "    </tr>\n",
              "  </thead>\n",
              "  <tbody>\n",
              "    <tr>\n",
              "      <th>0</th>\n",
              "      <td>FashionMNIST</td>\n",
              "      <td>0.476639</td>\n",
              "      <td>83.426518</td>\n",
              "    </tr>\n",
              "    <tr>\n",
              "      <th>1</th>\n",
              "      <td>FashionMNISTv1</td>\n",
              "      <td>0.685001</td>\n",
              "      <td>75.019968</td>\n",
              "    </tr>\n",
              "    <tr>\n",
              "      <th>2</th>\n",
              "      <td>FashionMNISTv2</td>\n",
              "      <td>0.322482</td>\n",
              "      <td>88.178914</td>\n",
              "    </tr>\n",
              "  </tbody>\n",
              "</table>\n",
              "</div>\n",
              "    <div class=\"colab-df-buttons\">\n",
              "\n",
              "  <div class=\"colab-df-container\">\n",
              "    <button class=\"colab-df-convert\" onclick=\"convertToInteractive('df-7b501e8c-d6a4-4eca-9026-0362082f22df')\"\n",
              "            title=\"Convert this dataframe to an interactive table.\"\n",
              "            style=\"display:none;\">\n",
              "\n",
              "  <svg xmlns=\"http://www.w3.org/2000/svg\" height=\"24px\" viewBox=\"0 -960 960 960\">\n",
              "    <path d=\"M120-120v-720h720v720H120Zm60-500h600v-160H180v160Zm220 220h160v-160H400v160Zm0 220h160v-160H400v160ZM180-400h160v-160H180v160Zm440 0h160v-160H620v160ZM180-180h160v-160H180v160Zm440 0h160v-160H620v160Z\"/>\n",
              "  </svg>\n",
              "    </button>\n",
              "\n",
              "  <style>\n",
              "    .colab-df-container {\n",
              "      display:flex;\n",
              "      gap: 12px;\n",
              "    }\n",
              "\n",
              "    .colab-df-convert {\n",
              "      background-color: #E8F0FE;\n",
              "      border: none;\n",
              "      border-radius: 50%;\n",
              "      cursor: pointer;\n",
              "      display: none;\n",
              "      fill: #1967D2;\n",
              "      height: 32px;\n",
              "      padding: 0 0 0 0;\n",
              "      width: 32px;\n",
              "    }\n",
              "\n",
              "    .colab-df-convert:hover {\n",
              "      background-color: #E2EBFA;\n",
              "      box-shadow: 0px 1px 2px rgba(60, 64, 67, 0.3), 0px 1px 3px 1px rgba(60, 64, 67, 0.15);\n",
              "      fill: #174EA6;\n",
              "    }\n",
              "\n",
              "    .colab-df-buttons div {\n",
              "      margin-bottom: 4px;\n",
              "    }\n",
              "\n",
              "    [theme=dark] .colab-df-convert {\n",
              "      background-color: #3B4455;\n",
              "      fill: #D2E3FC;\n",
              "    }\n",
              "\n",
              "    [theme=dark] .colab-df-convert:hover {\n",
              "      background-color: #434B5C;\n",
              "      box-shadow: 0px 1px 3px 1px rgba(0, 0, 0, 0.15);\n",
              "      filter: drop-shadow(0px 1px 2px rgba(0, 0, 0, 0.3));\n",
              "      fill: #FFFFFF;\n",
              "    }\n",
              "  </style>\n",
              "\n",
              "    <script>\n",
              "      const buttonEl =\n",
              "        document.querySelector('#df-7b501e8c-d6a4-4eca-9026-0362082f22df button.colab-df-convert');\n",
              "      buttonEl.style.display =\n",
              "        google.colab.kernel.accessAllowed ? 'block' : 'none';\n",
              "\n",
              "      async function convertToInteractive(key) {\n",
              "        const element = document.querySelector('#df-7b501e8c-d6a4-4eca-9026-0362082f22df');\n",
              "        const dataTable =\n",
              "          await google.colab.kernel.invokeFunction('convertToInteractive',\n",
              "                                                    [key], {});\n",
              "        if (!dataTable) return;\n",
              "\n",
              "        const docLinkHtml = 'Like what you see? Visit the ' +\n",
              "          '<a target=\"_blank\" href=https://colab.research.google.com/notebooks/data_table.ipynb>data table notebook</a>'\n",
              "          + ' to learn more about interactive tables.';\n",
              "        element.innerHTML = '';\n",
              "        dataTable['output_type'] = 'display_data';\n",
              "        await google.colab.output.renderOutput(dataTable, element);\n",
              "        const docLink = document.createElement('div');\n",
              "        docLink.innerHTML = docLinkHtml;\n",
              "        element.appendChild(docLink);\n",
              "      }\n",
              "    </script>\n",
              "  </div>\n",
              "\n",
              "\n",
              "    <div id=\"df-b327267e-4b5f-4ebd-a044-bd88c7de5c83\">\n",
              "      <button class=\"colab-df-quickchart\" onclick=\"quickchart('df-b327267e-4b5f-4ebd-a044-bd88c7de5c83')\"\n",
              "                title=\"Suggest charts\"\n",
              "                style=\"display:none;\">\n",
              "\n",
              "<svg xmlns=\"http://www.w3.org/2000/svg\" height=\"24px\"viewBox=\"0 0 24 24\"\n",
              "     width=\"24px\">\n",
              "    <g>\n",
              "        <path d=\"M19 3H5c-1.1 0-2 .9-2 2v14c0 1.1.9 2 2 2h14c1.1 0 2-.9 2-2V5c0-1.1-.9-2-2-2zM9 17H7v-7h2v7zm4 0h-2V7h2v10zm4 0h-2v-4h2v4z\"/>\n",
              "    </g>\n",
              "</svg>\n",
              "      </button>\n",
              "\n",
              "<style>\n",
              "  .colab-df-quickchart {\n",
              "      --bg-color: #E8F0FE;\n",
              "      --fill-color: #1967D2;\n",
              "      --hover-bg-color: #E2EBFA;\n",
              "      --hover-fill-color: #174EA6;\n",
              "      --disabled-fill-color: #AAA;\n",
              "      --disabled-bg-color: #DDD;\n",
              "  }\n",
              "\n",
              "  [theme=dark] .colab-df-quickchart {\n",
              "      --bg-color: #3B4455;\n",
              "      --fill-color: #D2E3FC;\n",
              "      --hover-bg-color: #434B5C;\n",
              "      --hover-fill-color: #FFFFFF;\n",
              "      --disabled-bg-color: #3B4455;\n",
              "      --disabled-fill-color: #666;\n",
              "  }\n",
              "\n",
              "  .colab-df-quickchart {\n",
              "    background-color: var(--bg-color);\n",
              "    border: none;\n",
              "    border-radius: 50%;\n",
              "    cursor: pointer;\n",
              "    display: none;\n",
              "    fill: var(--fill-color);\n",
              "    height: 32px;\n",
              "    padding: 0;\n",
              "    width: 32px;\n",
              "  }\n",
              "\n",
              "  .colab-df-quickchart:hover {\n",
              "    background-color: var(--hover-bg-color);\n",
              "    box-shadow: 0 1px 2px rgba(60, 64, 67, 0.3), 0 1px 3px 1px rgba(60, 64, 67, 0.15);\n",
              "    fill: var(--button-hover-fill-color);\n",
              "  }\n",
              "\n",
              "  .colab-df-quickchart-complete:disabled,\n",
              "  .colab-df-quickchart-complete:disabled:hover {\n",
              "    background-color: var(--disabled-bg-color);\n",
              "    fill: var(--disabled-fill-color);\n",
              "    box-shadow: none;\n",
              "  }\n",
              "\n",
              "  .colab-df-spinner {\n",
              "    border: 2px solid var(--fill-color);\n",
              "    border-color: transparent;\n",
              "    border-bottom-color: var(--fill-color);\n",
              "    animation:\n",
              "      spin 1s steps(1) infinite;\n",
              "  }\n",
              "\n",
              "  @keyframes spin {\n",
              "    0% {\n",
              "      border-color: transparent;\n",
              "      border-bottom-color: var(--fill-color);\n",
              "      border-left-color: var(--fill-color);\n",
              "    }\n",
              "    20% {\n",
              "      border-color: transparent;\n",
              "      border-left-color: var(--fill-color);\n",
              "      border-top-color: var(--fill-color);\n",
              "    }\n",
              "    30% {\n",
              "      border-color: transparent;\n",
              "      border-left-color: var(--fill-color);\n",
              "      border-top-color: var(--fill-color);\n",
              "      border-right-color: var(--fill-color);\n",
              "    }\n",
              "    40% {\n",
              "      border-color: transparent;\n",
              "      border-right-color: var(--fill-color);\n",
              "      border-top-color: var(--fill-color);\n",
              "    }\n",
              "    60% {\n",
              "      border-color: transparent;\n",
              "      border-right-color: var(--fill-color);\n",
              "    }\n",
              "    80% {\n",
              "      border-color: transparent;\n",
              "      border-right-color: var(--fill-color);\n",
              "      border-bottom-color: var(--fill-color);\n",
              "    }\n",
              "    90% {\n",
              "      border-color: transparent;\n",
              "      border-bottom-color: var(--fill-color);\n",
              "    }\n",
              "  }\n",
              "</style>\n",
              "\n",
              "      <script>\n",
              "        async function quickchart(key) {\n",
              "          const quickchartButtonEl =\n",
              "            document.querySelector('#' + key + ' button');\n",
              "          quickchartButtonEl.disabled = true;  // To prevent multiple clicks.\n",
              "          quickchartButtonEl.classList.add('colab-df-spinner');\n",
              "          try {\n",
              "            const charts = await google.colab.kernel.invokeFunction(\n",
              "                'suggestCharts', [key], {});\n",
              "          } catch (error) {\n",
              "            console.error('Error during call to suggestCharts:', error);\n",
              "          }\n",
              "          quickchartButtonEl.classList.remove('colab-df-spinner');\n",
              "          quickchartButtonEl.classList.add('colab-df-quickchart-complete');\n",
              "        }\n",
              "        (() => {\n",
              "          let quickchartButtonEl =\n",
              "            document.querySelector('#df-b327267e-4b5f-4ebd-a044-bd88c7de5c83 button');\n",
              "          quickchartButtonEl.style.display =\n",
              "            google.colab.kernel.accessAllowed ? 'block' : 'none';\n",
              "        })();\n",
              "      </script>\n",
              "    </div>\n",
              "\n",
              "  <div id=\"id_f345587d-2116-48da-bd84-17170765b324\">\n",
              "    <style>\n",
              "      .colab-df-generate {\n",
              "        background-color: #E8F0FE;\n",
              "        border: none;\n",
              "        border-radius: 50%;\n",
              "        cursor: pointer;\n",
              "        display: none;\n",
              "        fill: #1967D2;\n",
              "        height: 32px;\n",
              "        padding: 0 0 0 0;\n",
              "        width: 32px;\n",
              "      }\n",
              "\n",
              "      .colab-df-generate:hover {\n",
              "        background-color: #E2EBFA;\n",
              "        box-shadow: 0px 1px 2px rgba(60, 64, 67, 0.3), 0px 1px 3px 1px rgba(60, 64, 67, 0.15);\n",
              "        fill: #174EA6;\n",
              "      }\n",
              "\n",
              "      [theme=dark] .colab-df-generate {\n",
              "        background-color: #3B4455;\n",
              "        fill: #D2E3FC;\n",
              "      }\n",
              "\n",
              "      [theme=dark] .colab-df-generate:hover {\n",
              "        background-color: #434B5C;\n",
              "        box-shadow: 0px 1px 3px 1px rgba(0, 0, 0, 0.15);\n",
              "        filter: drop-shadow(0px 1px 2px rgba(0, 0, 0, 0.3));\n",
              "        fill: #FFFFFF;\n",
              "      }\n",
              "    </style>\n",
              "    <button class=\"colab-df-generate\" onclick=\"generateWithVariable('compare_results')\"\n",
              "            title=\"Generate code using this dataframe.\"\n",
              "            style=\"display:none;\">\n",
              "\n",
              "  <svg xmlns=\"http://www.w3.org/2000/svg\" height=\"24px\"viewBox=\"0 0 24 24\"\n",
              "       width=\"24px\">\n",
              "    <path d=\"M7,19H8.4L18.45,9,17,7.55,7,17.6ZM5,21V16.75L18.45,3.32a2,2,0,0,1,2.83,0l1.4,1.43a1.91,1.91,0,0,1,.58,1.4,1.91,1.91,0,0,1-.58,1.4L9.25,21ZM18.45,9,17,7.55Zm-12,3A5.31,5.31,0,0,0,4.9,8.1,5.31,5.31,0,0,0,1,6.5,5.31,5.31,0,0,0,4.9,4.9,5.31,5.31,0,0,0,6.5,1,5.31,5.31,0,0,0,8.1,4.9,5.31,5.31,0,0,0,12,6.5,5.46,5.46,0,0,0,6.5,12Z\"/>\n",
              "  </svg>\n",
              "    </button>\n",
              "    <script>\n",
              "      (() => {\n",
              "      const buttonEl =\n",
              "        document.querySelector('#id_f345587d-2116-48da-bd84-17170765b324 button.colab-df-generate');\n",
              "      buttonEl.style.display =\n",
              "        google.colab.kernel.accessAllowed ? 'block' : 'none';\n",
              "\n",
              "      buttonEl.onclick = () => {\n",
              "        google.colab.notebook.generateWithVariable('compare_results');\n",
              "      }\n",
              "      })();\n",
              "    </script>\n",
              "  </div>\n",
              "\n",
              "    </div>\n",
              "  </div>\n"
            ],
            "application/vnd.google.colaboratory.intrinsic+json": {
              "type": "dataframe",
              "variable_name": "compare_results",
              "summary": "{\n  \"name\": \"compare_results\",\n  \"rows\": 3,\n  \"fields\": [\n    {\n      \"column\": \"model_name\",\n      \"properties\": {\n        \"dtype\": \"string\",\n        \"num_unique_values\": 3,\n        \"samples\": [\n          \"FashionMNIST\",\n          \"FashionMNISTv1\",\n          \"FashionMNISTv2\"\n        ],\n        \"semantic_type\": \"\",\n        \"description\": \"\"\n      }\n    },\n    {\n      \"column\": \"model_loss\",\n      \"properties\": {\n        \"dtype\": \"number\",\n        \"std\": 0.18193372138455677,\n        \"min\": 0.32248175144195557,\n        \"max\": 0.6850008964538574,\n        \"num_unique_values\": 3,\n        \"samples\": [\n          0.47663894295692444,\n          0.6850008964538574,\n          0.32248175144195557\n        ],\n        \"semantic_type\": \"\",\n        \"description\": \"\"\n      }\n    },\n    {\n      \"column\": \"model_acc\",\n      \"properties\": {\n        \"dtype\": \"number\",\n        \"std\": 6.663497527022383,\n        \"min\": 75.01996805111821,\n        \"max\": 88.17891373801918,\n        \"num_unique_values\": 3,\n        \"samples\": [\n          83.42651757188499,\n          75.01996805111821,\n          88.17891373801918\n        ],\n        \"semantic_type\": \"\",\n        \"description\": \"\"\n      }\n    }\n  ]\n}"
            }
          },
          "metadata": {},
          "execution_count": 45
        }
      ]
    },
    {
      "cell_type": "code",
      "source": [
        "def makepred(model: torch.nn.Module,\n",
        "             data,\n",
        "             device: torch.device):\n",
        "    pred_probs = []\n",
        "    model.to(device)\n",
        "    model.eval()\n",
        "\n",
        "    with torch.inference_mode():\n",
        "        # Convert list of tensors to a single batch tensor\n",
        "        if isinstance(data, list):\n",
        "            data = torch.stack(data)\n",
        "\n",
        "        sample = data.to(device)  # already batched, no need to unsqueeze\n",
        "        pred_logits = model(sample)\n",
        "        pred_probs = torch.softmax(pred_logits, dim=1).cpu()\n",
        "\n",
        "    return pred_probs\n"
      ],
      "metadata": {
        "id": "XILg8mb-GXqG"
      },
      "execution_count": 46,
      "outputs": []
    },
    {
      "cell_type": "code",
      "source": [
        "import random\n",
        "random.seed(42)\n",
        "test_samples=[]\n",
        "test_labels=[]\n",
        "for sample,label in random.sample(list(test_data),k=9):\n",
        "  test_samples.append(sample)\n",
        "  test_labels.append(label)\n",
        "\n",
        "test_samples[0].shape"
      ],
      "metadata": {
        "colab": {
          "base_uri": "https://localhost:8080/"
        },
        "id": "j231WTbOHTtd",
        "outputId": "163fe44e-a178-4daf-b92b-f1972f29e80d"
      },
      "execution_count": 47,
      "outputs": [
        {
          "output_type": "execute_result",
          "data": {
            "text/plain": [
              "torch.Size([1, 28, 28])"
            ]
          },
          "metadata": {},
          "execution_count": 47
        }
      ]
    },
    {
      "cell_type": "code",
      "source": [
        "plt.imshow(test_samples[0].squeeze(),cmap='gray')\n",
        "plt.title(class_names[test_labels[0]])"
      ],
      "metadata": {
        "colab": {
          "base_uri": "https://localhost:8080/",
          "height": 469
        },
        "id": "EFKS5JZwJnOA",
        "outputId": "3896294b-db50-4548-b140-05e84f501ee3"
      },
      "execution_count": 48,
      "outputs": [
        {
          "output_type": "execute_result",
          "data": {
            "text/plain": [
              "Text(0.5, 1.0, 'Sandal')"
            ]
          },
          "metadata": {},
          "execution_count": 48
        },
        {
          "output_type": "display_data",
          "data": {
            "text/plain": [
              "<Figure size 640x480 with 1 Axes>"
            ],
            "image/png": "[encoded data removed]"
          },
          "metadata": {}
        }
      ]
    },
    {
      "cell_type": "code",
      "source": [
        "pred_probs=makepred(model2,test_samples,device)\n",
        "pred_probs[:2]"
      ],
      "metadata": {
        "colab": {
          "base_uri": "https://localhost:8080/"
        },
        "id": "oRtn3mTIKqq2",
        "outputId": "145842a2-3672-4e7d-9969-9b31d8e0a432"
      },
      "execution_count": 49,
      "outputs": [
        {
          "output_type": "execute_result",
          "data": {
            "text/plain": [
              "tensor([[9.8153e-07, 5.3358e-08, 6.0661e-08, 5.6245e-08, 1.9719e-08, 9.9989e-01,\n",
              "         7.7054e-07, 6.3922e-06, 4.3568e-05, 5.9796e-05],\n",
              "        [1.9203e-01, 4.7432e-01, 5.4581e-03, 1.9517e-01, 1.1312e-01, 5.3355e-05,\n",
              "         1.9236e-02, 1.5584e-04, 8.7290e-05, 3.6922e-04]])"
            ]
          },
          "metadata": {},
          "execution_count": 49
        }
      ]
    },
    {
      "cell_type": "code",
      "source": [
        "pred_classes=pred_probs.argmax(dim=1)\n",
        "pred_classes"
      ],
      "metadata": {
        "colab": {
          "base_uri": "https://localhost:8080/"
        },
        "id": "c4H8Rd0FNEtT",
        "outputId": "68997e12-e695-483a-8b80-feb34134dc21"
      },
      "execution_count": 50,
      "outputs": [
        {
          "output_type": "execute_result",
          "data": {
            "text/plain": [
              "tensor([5, 1, 7, 4, 3, 0, 4, 7, 1])"
            ]
          },
          "metadata": {},
          "execution_count": 50
        }
      ]
    },
    {
      "cell_type": "code",
      "source": [
        "plt.figure(figsize=(9,9))\n",
        "nrows=3\n",
        "ncols=3\n",
        "for i, sample in enumerate(test_samples):\n",
        "  plt.subplot(nrows,ncols,i+1)\n",
        "  plt.imshow(sample.squeeze(),cmap='gray')\n",
        "  pred_label = class_names[pred_classes[i]]\n",
        "  truth_label=class_names[test_labels[i]]\n",
        "  title_text=f\"Pred: {pred_label} | Truth: {truth_label}\"\n",
        "  if pred_label==truth_label:\n",
        "    plt.title(title_text,fontsize=10,c='g')\n",
        "  else:\n",
        "    plt.title(title_text,fontsize=10,c='r')\n"
      ],
      "metadata": {
        "colab": {
          "base_uri": "https://localhost:8080/",
          "height": 773
        },
        "id": "JxM87yDdPfOC",
        "outputId": "015b71ec-f098-4bb8-b3e3-c441b76936d6"
      },
      "execution_count": 51,
      "outputs": [
        {
          "output_type": "display_data",
          "data": {
            "text/plain": [
              "<Figure size 900x900 with 9 Axes>"
            ],
            "image/png": "[encoded data removed]"
          },
          "metadata": {}
        }
      ]
    },
    {
      "cell_type": "markdown",
      "source": [
        "## Making confusion matrix"
      ],
      "metadata": {
        "id": "Ca4_KqCYQ3UQ"
      }
    },
    {
      "cell_type": "code",
      "source": [
        "import mlxtend"
      ],
      "metadata": {
        "id": "rsYpIjcwRfoM"
      },
      "execution_count": 52,
      "outputs": []
    },
    {
      "cell_type": "code",
      "source": [
        "from tqdm.auto import tqdm\n",
        "ypreds=[]\n",
        "model2.eval()\n",
        "with torch.inference_mode():\n",
        "  for X,y in tqdm(test_dataloader,desc=\"Making pred...\"):\n",
        "    X,y=X.to(device),y.to(device)\n",
        "    y_logits=model2(X)\n",
        "    y_pred=torch.softmax(y_logits.squeeze(),dim=0).argmax(dim=1)\n",
        "    ypreds.append(y_pred.cpu())\n",
        "ypreds\n",
        "\n"
      ],
      "metadata": {
        "colab": {
          "base_uri": "https://localhost:8080/",
          "height": 1000,
          "referenced_widgets": [
            "dff888b3a0094336b2f2e4d144b10768",
            "8539f7e01c384ebfaeabbfc9b8810cb6",
            "f15f717ef29a45fb811a6c0a9d6b3288",
            "88f4e84f376348deb60f62c989739f8b",
            "ebc855fb8e88418fa016a3e36783e26c",
            "80893f297a5a4da4893a1f5ef84fed3a",
            "8d69d8418461492e9fb61e9b7d938638",
            "9093de0472bd4c5ea53f8109a7ffe62d",
            "cd3277cbd83c4c95a145baf58d0c8fd5",
            "502cb88a769a481db0db9e1d4e4f147e",
            "d511729edeb04fb8b62dc8c6a639a6de"
          ]
        },
        "id": "w2GPB4e7RrXE",
        "outputId": "781f1e32-86b0-4487-87e1-0e06effef1d3"
      },
      "execution_count": 53,
      "outputs": [
        {
          "output_type": "display_data",
          "data": {
            "text/plain": [
              "Making pred...:   0%|          | 0/313 [00:00<?, ?it/s]"
            ],
            "application/vnd.jupyter.widget-view+json": {
              "version_major": 2,
              "version_minor": 0,
              "model_id": "dff888b3a0094336b2f2e4d144b10768"
            }
          },
          "metadata": {}
        },
        {
          "output_type": "execute_result",
          "data": {
            "text/plain": [
              "[tensor([9, 2, 1, 3, 6, 1, 4, 6, 5, 7, 4, 5, 3, 3, 4, 3, 2, 6, 8, 0, 2, 5, 7, 5,\n",
              "         1, 6, 6, 0, 9, 3, 8, 8]),\n",
              " tensor([3, 3, 8, 0, 7, 5, 7, 9, 6, 1, 3, 9, 6, 7, 2, 1, 2, 6, 4, 2, 5, 8, 2, 2,\n",
              "         8, 4, 8, 0, 7, 7, 8, 5]),\n",
              " tensor([1, 3, 3, 3, 7, 8, 7, 0, 2, 6, 2, 3, 1, 2, 8, 4, 4, 8, 5, 9, 5, 0, 3, 2,\n",
              "         0, 6, 5, 3, 6, 7, 1, 8]),\n",
              " tensor([0, 1, 6, 2, 3, 6, 7, 6, 7, 8, 5, 7, 9, 4, 2, 5, 7, 0, 5, 2, 8, 6, 7, 8,\n",
              "         0, 0, 9, 9, 3, 0, 8, 2]),\n",
              " tensor([1, 5, 4, 1, 9, 1, 8, 6, 2, 1, 2, 5, 1, 6, 0, 0, 1, 6, 1, 3, 2, 2, 2, 4,\n",
              "         1, 4, 5, 6, 4, 7, 9, 3]),\n",
              " tensor([5, 2, 3, 8, 0, 9, 4, 7, 8, 2, 6, 5, 6, 1, 2, 1, 3, 6, 8, 1, 0, 9, 3, 6,\n",
              "         7, 9, 5, 4, 4, 7, 1, 2]),\n",
              " tensor([3, 6, 3, 2, 8, 3, 6, 1, 1, 0, 2, 9, 2, 4, 0, 7, 9, 8, 4, 1, 8, 4, 1, 3,\n",
              "         1, 6, 7, 2, 8, 5, 3, 0]),\n",
              " tensor([7, 7, 6, 6, 7, 0, 7, 8, 9, 2, 9, 0, 5, 1, 4, 4, 5, 6, 9, 2, 2, 8, 6, 4,\n",
              "         3, 2, 9, 7, 3, 5, 5, 4]),\n",
              " tensor([8, 5, 2, 3, 0, 4, 8, 6, 0, 6, 3, 8, 9, 6, 1, 3, 6, 2, 3, 0, 8, 3, 7, 4,\n",
              "         6, 3, 6, 3, 6, 6, 6, 7]),\n",
              " tensor([8, 3, 8, 9, 5, 6, 5, 5, 1, 9, 8, 3, 3, 3, 6, 8, 0, 0, 2, 9, 7, 7, 1, 3,\n",
              "         8, 6, 6, 4, 7, 1, 6, 4]),\n",
              " tensor([8, 2, 6, 5, 6, 2, 7, 7, 7, 3, 3, 7, 0, 7, 1, 3, 7, 2, 2, 3, 4, 0, 0, 1,\n",
              "         0, 1, 9, 4, 9, 9, 1, 7]),\n",
              " tensor([8, 3, 6, 0, 2, 4, 8, 6, 1, 6, 2, 4, 4, 7, 3, 2, 2, 5, 0, 7, 9, 4, 0, 9,\n",
              "         3, 9, 8, 2, 5, 6, 0, 3]),\n",
              " tensor([5, 8, 1, 6, 2, 2, 6, 4, 9, 5, 2, 0, 6, 6, 3, 2, 0, 9, 7, 3, 3, 4, 3, 6,\n",
              "         2, 3, 3, 6, 7, 3, 9, 4]),\n",
              " tensor([2, 1, 5, 4, 5, 3, 8, 5, 8, 4, 4, 8, 9, 8, 6, 2, 4, 4, 2, 4, 1, 6, 1, 3,\n",
              "         0, 7, 8, 8, 6, 5, 3, 1]),\n",
              " tensor([9, 5, 3, 3, 6, 1, 6, 2, 9, 4, 0, 6, 3, 4, 2, 0, 0, 3, 3, 8, 2, 8, 9, 4,\n",
              "         0, 7, 6, 4, 6, 9, 2, 9]),\n",
              " tensor([7, 9, 3, 7, 5, 7, 8, 1, 6, 0, 6, 4, 8, 9, 7, 9, 1, 2, 7, 3, 6, 0, 5, 7,\n",
              "         1, 8, 2, 2, 2, 2, 4, 6]),\n",
              " tensor([6, 0, 9, 6, 5, 1, 9, 0, 6, 8, 3, 8, 7, 2, 6, 6, 8, 0, 2, 0, 5, 8, 8, 5,\n",
              "         0, 9, 4, 3, 4, 2, 5, 1]),\n",
              " tensor([0, 1, 2, 6, 4, 9, 6, 3, 5, 3, 3, 1, 9, 3, 3, 5, 3, 6, 6, 6, 4, 6, 0, 5,\n",
              "         8, 3, 3, 4, 6, 7, 7, 8]),\n",
              " tensor([9, 6, 3, 8, 7, 6, 7, 9, 3, 2, 6, 3, 8, 4, 1, 1, 5, 9, 4, 2, 5, 7, 8, 1,\n",
              "         2, 9, 7, 7, 1, 0, 9, 3]),\n",
              " tensor([6, 9, 0, 5, 6, 8, 2, 7, 1, 2, 3, 8, 2, 2, 6, 9, 3, 0, 7, 8, 8, 2, 9, 4,\n",
              "         1, 6, 4, 1, 0, 1, 4, 1]),\n",
              " tensor([7, 5, 8, 3, 9, 1, 0, 5, 4, 4, 4, 6, 0, 2, 5, 6, 6, 3, 5, 2, 1, 3, 1, 3,\n",
              "         6, 6, 3, 8, 2, 8, 6, 7]),\n",
              " tensor([0, 4, 1, 8, 5, 0, 8, 2, 7, 2, 8, 7, 6, 4, 2, 9, 6, 4, 5, 0, 9, 5, 3, 6,\n",
              "         6, 8, 1, 3, 8, 1, 4, 0]),\n",
              " tensor([9, 7, 7, 4, 8, 9, 1, 3, 7, 8, 0, 2, 6, 7, 1, 0, 6, 8, 7, 2, 6, 4, 6, 4,\n",
              "         1, 5, 9, 3, 0, 1, 6, 5]),\n",
              " tensor([6, 3, 4, 3, 3, 8, 1, 1, 8, 5, 7, 9, 8, 7, 2, 0, 7, 3, 8, 0, 9, 7, 6, 1,\n",
              "         6, 6, 4, 8, 6, 6, 3, 6]),\n",
              " tensor([8, 6, 0, 8, 9, 2, 4, 5, 9, 1, 4, 4, 9, 2, 3, 7, 9, 5, 8, 3, 7, 7, 3, 1,\n",
              "         1, 6, 9, 5, 3, 8, 4, 2]),\n",
              " tensor([9, 0, 8, 3, 2, 2, 0, 7, 1, 4, 9, 0, 5, 8, 5, 4, 7, 2, 8, 5, 9, 3, 3, 6,\n",
              "         7, 1, 7, 0, 7, 4, 6, 5]),\n",
              " tensor([8, 3, 9, 1, 2, 0, 3, 9, 8, 6, 7, 1, 3, 7, 5, 9, 9, 1, 8, 4, 5, 7, 1, 9,\n",
              "         8, 1, 0, 0, 6, 1, 7, 3]),\n",
              " tensor([1, 5, 7, 1, 5, 2, 6, 3, 3, 1, 1, 4, 9, 4, 3, 7, 7, 6, 8, 9, 9, 6, 1, 3,\n",
              "         3, 0, 3, 5, 9, 2, 0, 5]),\n",
              " tensor([5, 1, 5, 7, 8, 7, 9, 3, 6, 4, 0, 4, 0, 2, 0, 2, 5, 5, 1, 2, 0, 9, 3, 7,\n",
              "         8, 4, 8, 3, 4, 7, 6, 7]),\n",
              " tensor([4, 8, 8, 3, 4, 4, 3, 6, 9, 6, 2, 3, 9, 1, 8, 1, 7, 5, 5, 6, 0, 2, 1, 6,\n",
              "         5, 4, 0, 0, 6, 7, 5, 0]),\n",
              " tensor([2, 5, 9, 4, 8, 6, 3, 4, 6, 2, 9, 0, 7, 7, 1, 4, 4, 0, 5, 0, 9, 9, 8, 8,\n",
              "         2, 0, 2, 4, 6, 6, 3, 2]),\n",
              " tensor([3, 7, 4, 9, 3, 4, 7, 7, 0, 3, 5, 5, 6, 4, 5, 9, 6, 3, 7, 5, 1, 9, 8, 8,\n",
              "         9, 9, 2, 7, 2, 2, 3, 8]),\n",
              " tensor([7, 2, 4, 5, 4, 8, 6, 1, 4, 9, 3, 1, 6, 5, 0, 5, 7, 8, 2, 3, 3, 9, 8, 3,\n",
              "         6, 0, 4, 8, 0, 2, 8, 2]),\n",
              " tensor([6, 3, 4, 7, 0, 2, 1, 1, 3, 6, 6, 5, 9, 0, 1, 6, 5, 1, 4, 4, 8, 4, 7, 7,\n",
              "         3, 8, 3, 1, 9, 8, 1, 3]),\n",
              " tensor([3, 7, 5, 0, 5, 7, 8, 9, 0, 0, 5, 8, 4, 6, 3, 8, 6, 0, 5, 2, 7, 1, 0, 3,\n",
              "         5, 4, 8, 6, 2, 1, 1, 7]),\n",
              " tensor([9, 6, 2, 5, 0, 4, 8, 2, 2, 0, 1, 4, 4, 9, 6, 8, 4, 5, 9, 0, 3, 9, 6, 9,\n",
              "         8, 7, 4, 2, 2, 5, 1, 7]),\n",
              " tensor([0, 7, 2, 9, 3, 7, 0, 9, 3, 8, 4, 4, 7, 2, 3, 6, 2, 0, 7, 8, 4, 2, 4, 8,\n",
              "         5, 6, 4, 5, 5, 8, 1, 3]),\n",
              " tensor([7, 4, 3, 9, 6, 8, 7, 2, 2, 1, 2, 7, 7, 4, 9, 8, 5, 1, 3, 3, 2, 3, 3, 3,\n",
              "         1, 9, 3, 5, 5, 2, 0, 7]),\n",
              " tensor([0, 2, 3, 1, 3, 1, 3, 6, 7, 2, 4, 9, 5, 2, 9, 6, 3, 4, 4, 0, 6, 8, 2, 2,\n",
              "         8, 6, 1, 8, 2, 7, 8, 4]),\n",
              " tensor([8, 3, 2, 4, 0, 6, 3, 6, 8, 3, 8, 6, 0, 3, 3, 8, 8, 4, 5, 2, 2, 3, 0, 1,\n",
              "         7, 0, 9, 1, 7, 3, 5, 2]),\n",
              " tensor([2, 7, 3, 8, 5, 6, 8, 0, 7, 5, 8, 9, 5, 0, 6, 0, 3, 2, 4, 4, 2, 7, 1, 3,\n",
              "         4, 6, 2, 5, 1, 6, 7, 3]),\n",
              " tensor([2, 8, 3, 2, 8, 7, 4, 1, 6, 5, 2, 7, 8, 5, 6, 8, 5, 2, 2, 8, 9, 8, 3, 3,\n",
              "         3, 8, 8, 3, 0, 7, 4, 4]),\n",
              " tensor([8, 1, 3, 6, 1, 9, 2, 1, 2, 2, 7, 9, 2, 6, 3, 4, 4, 2, 4, 5, 0, 2, 8, 3,\n",
              "         7, 4, 4, 0, 0, 5, 4, 8]),\n",
              " tensor([2, 4, 2, 0, 2, 1, 7, 9, 5, 4, 7, 2, 6, 7, 3, 3, 1, 3, 6, 6, 6, 1, 9, 2,\n",
              "         4, 7, 1, 0, 6, 5, 8, 4]),\n",
              " tensor([2, 7, 9, 8, 0, 7, 9, 5, 1, 2, 9, 5, 5, 3, 9, 9, 1, 6, 7, 8, 0, 1, 7, 2,\n",
              "         7, 1, 1, 5, 5, 6, 4, 5]),\n",
              " tensor([9, 5, 5, 2, 3, 9, 3, 8, 5, 4, 6, 3, 6, 5, 7, 4, 5, 2, 6, 4, 4, 7, 6, 0,\n",
              "         5, 1, 7, 2, 3, 2, 8, 9]),\n",
              " tensor([8, 7, 1, 2, 3, 2, 9, 7, 5, 6, 0, 0, 7, 3, 2, 4, 9, 3, 6, 4, 4, 3, 0, 0,\n",
              "         6, 3, 6, 1, 3, 7, 4, 5]),\n",
              " tensor([3, 9, 1, 1, 8, 2, 9, 5, 0, 7, 4, 6, 7, 1, 1, 5, 3, 8, 7, 8, 3, 8, 9, 2,\n",
              "         2, 1, 1, 3, 5, 6, 7, 1]),\n",
              " tensor([9, 9, 2, 4, 7, 0, 1, 3, 9, 6, 3, 7, 2, 8, 1, 8, 0, 7, 9, 8, 5, 3, 2, 6,\n",
              "         4, 6, 6, 5, 8, 3, 8, 5]),\n",
              " tensor([8, 7, 3, 7, 6, 7, 0, 4, 2, 5, 3, 5, 1, 1, 7, 7, 6, 6, 6, 4, 6, 8, 6, 3,\n",
              "         8, 4, 9, 9, 4, 5, 2, 2]),\n",
              " tensor([7, 8, 6, 7, 9, 1, 2, 9, 4, 5, 3, 2, 3, 3, 1, 8, 8, 5, 3, 8, 0, 2, 6, 3,\n",
              "         6, 0, 2, 7, 3, 6, 8, 3]),\n",
              " tensor([7, 7, 3, 1, 7, 5, 8, 8, 6, 0, 0, 4, 4, 6, 5, 7, 0, 6, 6, 7, 7, 3, 9, 4,\n",
              "         5, 9, 7, 3, 7, 2, 4, 5]),\n",
              " tensor([1, 4, 5, 4, 5, 0, 4, 2, 1, 4, 4, 8, 4, 7, 9, 4, 1, 1, 7, 2, 3, 5, 6, 3,\n",
              "         9, 7, 5, 3, 8, 8, 8, 7]),\n",
              " tensor([1, 1, 6, 3, 1, 4, 3, 4, 9, 9, 0, 0, 6, 7, 4, 9, 6, 6, 3, 8, 9, 2, 5, 4,\n",
              "         8, 0, 7, 2, 3, 6, 2, 5]),\n",
              " tensor([6, 1, 9, 3, 2, 2, 5, 9, 0, 8, 3, 6, 6, 6, 0, 4, 2, 6, 6, 5, 0, 2, 7, 8,\n",
              "         7, 4, 3, 6, 6, 5, 2, 4]),\n",
              " tensor([2, 9, 5, 6, 6, 7, 0, 1, 9, 8, 5, 0, 7, 7, 5, 0, 5, 3, 3, 4, 7, 9, 8, 2,\n",
              "         6, 7, 3, 3, 7, 7, 7, 8]),\n",
              " tensor([4, 9, 5, 7, 6, 8, 7, 5, 1, 3, 0, 2, 9, 9, 8, 3, 7, 2, 4, 4, 9, 3, 3, 1,\n",
              "         9, 9, 1, 3, 7, 2, 7, 6]),\n",
              " tensor([5, 7, 3, 7, 5, 5, 4, 0, 7, 3, 3, 2, 6, 2, 9, 9, 0, 6, 6, 8, 3, 8, 0, 4,\n",
              "         4, 1, 8, 2, 6, 5, 0, 4]),\n",
              " tensor([4, 3, 0, 6, 1, 6, 8, 4, 9, 0, 7, 6, 7, 7, 1, 5, 8, 7, 2, 9, 9, 1, 2, 2,\n",
              "         1, 1, 1, 8, 8, 1, 4, 7]),\n",
              " tensor([5, 2, 0, 8, 4, 8, 9, 4, 1, 3, 4, 9, 8, 3, 3, 3, 8, 0, 9, 9, 7, 6, 3, 4,\n",
              "         2, 3, 1, 7, 9, 4, 2, 0]),\n",
              " tensor([3, 4, 4, 8, 1, 9, 2, 4, 2, 2, 3, 8, 7, 1, 8, 7, 5, 9, 9, 4, 6, 4, 9, 0,\n",
              "         6, 3, 5, 5, 0, 6, 1, 0]),\n",
              " tensor([3, 7, 7, 3, 7, 4, 5, 7, 9, 8, 9, 1, 4, 8, 3, 2, 6, 6, 6, 8, 3, 8, 6, 8,\n",
              "         6, 0, 8, 8, 3, 2, 9, 3]),\n",
              " tensor([2, 0, 8, 5, 9, 6, 3, 1, 1, 9, 5, 1, 3, 3, 6, 0, 8, 4, 1, 3, 8, 8, 6, 7,\n",
              "         5, 6, 6, 7, 3, 3, 2, 4]),\n",
              " tensor([6, 5, 5, 6, 6, 3, 9, 1, 1, 7, 3, 8, 7, 2, 2, 9, 3, 9, 9, 0, 1, 7, 1, 3,\n",
              "         8, 1, 6, 9, 3, 4, 0, 0]),\n",
              " tensor([5, 6, 9, 9, 5, 5, 7, 0, 9, 3, 3, 6, 9, 8, 4, 2, 6, 3, 9, 4, 3, 6, 7, 4,\n",
              "         0, 3, 8, 1, 8, 7, 4, 4]),\n",
              " tensor([5, 2, 2, 9, 3, 7, 4, 9, 1, 3, 2, 8, 8, 7, 7, 7, 7, 2, 6, 0, 7, 5, 8, 5,\n",
              "         3, 0, 4, 4, 9, 2, 4, 3]),\n",
              " tensor([1, 9, 3, 3, 2, 2, 2, 3, 7, 8, 7, 6, 4, 8, 1, 2, 8, 5, 4, 2, 8, 1, 8, 9,\n",
              "         3, 6, 6, 8, 0, 1, 8, 7]),\n",
              " tensor([6, 6, 7, 7, 3, 6, 4, 3, 4, 7, 8, 7, 2, 8, 0, 8, 7, 4, 6, 6, 7, 0, 9, 9,\n",
              "         3, 1, 5, 9, 3, 1, 0, 3]),\n",
              " tensor([3, 8, 8, 7, 9, 8, 3, 8, 9, 3, 8, 9, 3, 6, 6, 0, 5, 7, 7, 2, 4, 8, 3, 1,\n",
              "         1, 9, 4, 3, 9, 5, 8, 7]),\n",
              " tensor([2, 4, 9, 0, 2, 1, 9, 7, 1, 5, 0, 5, 5, 3, 3, 0, 0, 3, 3, 7, 4, 2, 6, 8,\n",
              "         7, 9, 2, 1, 3, 5, 5, 8]),\n",
              " tensor([5, 3, 7, 4, 4, 6, 9, 6, 0, 6, 9, 1, 4, 3, 1, 5, 3, 8, 5, 1, 1, 2, 9, 4,\n",
              "         6, 5, 2, 8, 6, 2, 9, 8]),\n",
              " tensor([2, 4, 8, 3, 8, 0, 4, 2, 6, 4, 8, 5, 4, 9, 0, 9, 5, 8, 0, 9, 1, 2, 7, 2,\n",
              "         1, 6, 3, 6, 2, 5, 2, 4]),\n",
              " tensor([8, 7, 5, 2, 6, 3, 8, 3, 3, 1, 9, 2, 7, 7, 2, 6, 4, 8, 3, 4, 8, 5, 6, 8,\n",
              "         3, 3, 1, 4, 4, 0, 4, 9]),\n",
              " tensor([6, 4, 1, 9, 9, 8, 1, 4, 8, 3, 3, 3, 8, 5, 9, 2, 2, 8, 7, 2, 3, 6, 6, 4,\n",
              "         5, 7, 5, 0, 7, 9, 1, 2]),\n",
              " tensor([4, 8, 9, 3, 5, 2, 6, 2, 6, 7, 8, 9, 1, 8, 2, 5, 5, 3, 1, 1, 8, 8, 3, 6,\n",
              "         7, 0, 1, 8, 2, 6, 2, 9]),\n",
              " tensor([8, 8, 8, 8, 6, 9, 1, 8, 2, 2, 7, 7, 6, 5, 1, 1, 0, 6, 4, 3, 0, 2, 3, 5,\n",
              "         1, 2, 3, 3, 4, 2, 5, 6]),\n",
              " tensor([9, 8, 3, 4, 1, 0, 2, 1, 2, 4, 4, 8, 4, 7, 0, 9, 7, 5, 2, 6, 0, 7, 0, 3,\n",
              "         9, 7, 3, 6, 1, 9, 6, 1]),\n",
              " tensor([0, 4, 5, 4, 1, 2, 8, 5, 7, 4, 5, 3, 3, 8, 3, 6, 6, 8, 9, 0, 5, 6, 2, 6,\n",
              "         7, 3, 2, 2, 8, 5, 7, 2]),\n",
              " tensor([3, 1, 6, 3, 6, 2, 7, 4, 1, 2, 4, 4, 4, 4, 8, 5, 6, 8, 5, 2, 7, 8, 1, 5,\n",
              "         9, 8, 6, 9, 0, 9, 3, 7]),\n",
              " tensor([5, 7, 9, 6, 0, 7, 1, 5, 5, 9, 5, 4, 4, 2, 4, 5, 9, 7, 4, 2, 6, 9, 9, 3,\n",
              "         2, 1, 3, 7, 1, 8, 7, 7]),\n",
              " tensor([1, 8, 9, 3, 7, 7, 7, 1, 7, 3, 4, 6, 2, 3, 5, 2, 8, 9, 6, 8, 0, 0, 7, 7,\n",
              "         5, 0, 1, 9, 3, 0, 4, 9]),\n",
              " tensor([2, 2, 6, 9, 1, 0, 5, 8, 9, 2, 8, 2, 3, 6, 0, 7, 4, 8, 7, 4, 1, 7, 8, 0,\n",
              "         4, 6, 4, 4, 1, 8, 6, 9]),\n",
              " tensor([2, 9, 6, 5, 2, 3, 3, 8, 8, 2, 0, 7, 2, 4, 0, 3, 1, 3, 8, 1, 7, 7, 2, 6,\n",
              "         3, 1, 2, 7, 6, 6, 0, 6]),\n",
              " tensor([2, 7, 2, 6, 3, 6, 3, 0, 9, 7, 3, 5, 4, 9, 6, 4, 5, 0, 6, 8, 4, 0, 4, 4,\n",
              "         6, 4, 1, 6, 6, 6, 7, 1]),\n",
              " tensor([3, 6, 3, 1, 1, 5, 6, 3, 8, 3, 3, 1, 7, 4, 9, 8, 8, 4, 5, 5, 6, 7, 2, 9,\n",
              "         1, 0, 5, 3, 7, 2, 1, 1]),\n",
              " tensor([8, 6, 2, 0, 5, 9, 6, 3, 8, 1, 3, 4, 6, 4, 4, 8, 3, 4, 2, 3, 9, 3, 7, 9,\n",
              "         5, 7, 2, 1, 5, 8, 8, 2]),\n",
              " tensor([2, 2, 6, 3, 1, 2, 3, 0, 3, 9, 8, 2, 0, 3, 2, 3, 9, 7, 1, 1, 7, 5, 1, 9,\n",
              "         2, 4, 2, 3, 8, 6, 7, 1]),\n",
              " tensor([3, 0, 7, 3, 5, 8, 1, 4, 2, 3, 4, 8, 8, 8, 4, 6, 1, 8, 7, 3, 0, 6, 6, 4,\n",
              "         9, 7, 3, 7, 0, 1, 2, 5]),\n",
              " tensor([9, 6, 0, 5, 0, 5, 8, 7, 4, 6, 2, 8, 6, 4, 9, 3, 3, 5, 8, 1, 1, 2, 4, 0,\n",
              "         0, 7, 4, 2, 3, 3, 9, 7]),\n",
              " tensor([4, 3, 3, 1, 8, 1, 5, 4, 0, 6, 7, 9, 3, 2, 7, 1, 7, 4, 1, 6, 2, 6, 6, 7,\n",
              "         6, 4, 9, 3, 2, 5, 6, 8]),\n",
              " tensor([6, 2, 6, 7, 4, 4, 1, 1, 0, 3, 5, 5, 2, 6, 4, 1, 8, 8, 4, 4, 3, 4, 2, 9,\n",
              "         6, 3, 7, 6, 2, 6, 8, 4]),\n",
              " tensor([5, 4, 9, 8, 3, 6, 3, 2, 2, 9, 4, 3, 5, 1, 2, 6, 0, 1, 1, 0, 2, 6, 9, 5,\n",
              "         6, 1, 2, 4, 3, 7, 2, 1]),\n",
              " tensor([1, 7, 7, 8, 7, 6, 5, 3, 7, 2, 0, 9, 6, 1, 4, 2, 2, 5, 8, 5, 2, 7, 8, 4,\n",
              "         6, 9, 0, 8, 1, 3, 8, 2]),\n",
              " tensor([8, 2, 0, 6, 3, 8, 7, 8, 2, 2, 3, 6, 0, 4, 5, 3, 4, 3, 1, 9, 7, 3, 4, 6,\n",
              "         1, 4, 2, 7, 7, 1, 8, 3]),\n",
              " tensor([3, 7, 9, 8, 7, 2, 7, 9, 7, 2, 2, 6, 6, 3, 3, 9, 1, 1, 4, 8, 0, 9, 5, 5,\n",
              "         4, 8, 8, 3, 6, 3, 6, 8]),\n",
              " tensor([2, 2, 5, 9, 2, 3, 8, 3, 2, 8, 3, 3, 1, 1, 3, 6, 1, 8, 4, 1, 5, 8, 1, 5,\n",
              "         8, 0, 7, 7, 7, 5, 6, 5]),\n",
              " tensor([5, 3, 6, 7, 8, 4, 5, 1, 6, 6, 2, 4, 3, 7, 7, 9, 7, 2, 5, 8, 5, 8, 5, 3,\n",
              "         0, 9, 7, 2, 0, 6, 8, 3]),\n",
              " tensor([6, 5, 3, 7, 6, 8, 2, 9, 0, 6, 4, 0, 2, 7, 8, 1, 3, 8, 1, 5, 3, 6, 1, 1,\n",
              "         6, 6, 9, 8, 2, 8, 2, 7]),\n",
              " tensor([7, 1, 3, 0, 3, 0, 7, 8, 7, 6, 5, 2, 6, 7, 5, 5, 8, 9, 7, 3, 2, 4, 8, 3,\n",
              "         9, 5, 7, 6, 2, 6, 7, 3]),\n",
              " tensor([8, 5, 1, 8, 9, 2, 2, 1, 3, 2, 7, 4, 6, 4, 4, 8, 5, 7, 9, 2, 2, 8, 2, 6,\n",
              "         0, 6, 3, 3, 1, 5, 2, 7]),\n",
              " tensor([5, 3, 7, 6, 2, 3, 5, 1, 1, 2, 7, 3, 8, 8, 7, 5, 9, 9, 5, 5, 4, 0, 7, 1,\n",
              "         6, 6, 0, 9, 9, 6, 6, 8]),\n",
              " tensor([0, 5, 9, 8, 8, 2, 9, 6, 6, 6, 8, 1, 6, 4, 8, 0, 7, 5, 8, 9, 7, 7, 5, 2,\n",
              "         7, 6, 3, 2, 6, 3, 4, 2]),\n",
              " tensor([0, 8, 9, 4, 5, 6, 4, 1, 2, 8, 9, 0, 5, 6, 2, 5, 6, 3, 8, 6, 8, 7, 2, 7,\n",
              "         2, 3, 4, 8, 1, 2, 3, 4]),\n",
              " tensor([2, 4, 3, 9, 9, 6, 8, 0, 4, 0, 6, 1, 9, 3, 9, 6, 8, 6, 9, 4, 7, 9, 1, 5,\n",
              "         8, 1, 3, 6, 2, 4, 8, 6]),\n",
              " tensor([3, 3, 0, 3, 4, 3, 3, 1, 4, 8, 4, 9, 3, 0, 2, 5, 8, 8, 8, 6, 1, 2, 8, 9,\n",
              "         8, 5, 8, 9, 6, 7, 2, 7]),\n",
              " tensor([3, 5, 5, 8, 3, 3, 8, 5, 9, 9, 2, 0, 4, 7, 1, 8, 8, 8, 7, 2, 0, 9, 7, 9,\n",
              "         6, 9, 4, 1, 4, 7, 2, 5]),\n",
              " tensor([2, 6, 2, 9, 0, 7, 1, 9, 7, 2, 5, 3, 8, 4, 9, 3, 9, 5, 7, 5, 1, 3, 3, 2,\n",
              "         0, 7, 5, 3, 5, 5, 8, 7]),\n",
              " tensor([9, 4, 6, 5, 5, 3, 4, 8, 3, 0, 9, 2, 3, 2, 6, 9, 4, 0, 9, 1, 4, 8, 1, 4,\n",
              "         9, 8, 2, 6, 7, 6, 6, 2]),\n",
              " tensor([6, 3, 6, 3, 0, 5, 2, 3, 6, 8, 5, 0, 7, 4, 6, 4, 8, 3, 5, 1, 3, 9, 1, 4,\n",
              "         9, 3, 7, 4, 6, 0, 2, 5]),\n",
              " tensor([6, 3, 6, 6, 3, 1, 7, 9, 4, 6, 7, 3, 0, 2, 8, 3, 0, 9, 9, 7, 8, 4, 6, 9,\n",
              "         7, 7, 5, 8, 6, 7, 5, 3]),\n",
              " tensor([5, 5, 0, 8, 9, 7, 2, 1, 4, 7, 1, 3, 6, 3, 2, 2, 9, 4, 7, 7, 6, 5, 0, 8,\n",
              "         8, 6, 8, 5, 6, 0, 7, 3]),\n",
              " tensor([6, 6, 4, 5, 2, 0, 7, 7, 7, 1, 8, 2, 4, 8, 5, 4, 4, 8, 7, 7, 6, 7, 1, 6,\n",
              "         9, 5, 3, 9, 3, 5, 0, 7]),\n",
              " tensor([4, 6, 3, 1, 6, 5, 9, 3, 2, 8, 5, 7, 3, 1, 2, 6, 8, 1, 8, 5, 6, 9, 3, 3,\n",
              "         8, 6, 4, 2, 0, 6, 6, 2]),\n",
              " tensor([3, 6, 5, 9, 3, 1, 9, 4, 7, 0, 3, 1, 6, 0, 7, 7, 0, 7, 8, 0, 5, 6, 4, 3,\n",
              "         8, 9, 7, 2, 9, 5, 3, 7]),\n",
              " tensor([2, 4, 1, 9, 7, 8, 1, 3, 7, 3, 6, 7, 8, 6, 5, 6, 7, 9, 9, 7, 0, 4, 2, 3,\n",
              "         4, 0, 7, 5, 3, 9, 2, 8]),\n",
              " tensor([8, 0, 0, 4, 1, 9, 3, 3, 5, 3, 7, 5, 9, 0, 8, 5, 5, 9, 5, 6, 0, 7, 3, 5,\n",
              "         4, 2, 0, 7, 6, 8, 1, 9]),\n",
              " tensor([2, 6, 6, 4, 6, 8, 7, 7, 3, 9, 3, 9, 6, 8, 2, 6, 9, 0, 3, 2, 5, 7, 0, 2,\n",
              "         6, 4, 1, 3, 1, 8, 7, 8]),\n",
              " tensor([8, 9, 7, 6, 5, 7, 3, 6, 0, 4, 6, 3, 6, 8, 8, 8, 0, 2, 3, 2, 8, 6, 1, 4,\n",
              "         1, 1, 6, 3, 2, 2, 8, 0]),\n",
              " tensor([0, 2, 1, 3, 2, 5, 0, 6, 7, 9, 9, 2, 5, 0, 9, 9, 8, 4, 8, 3, 2, 0, 9, 2,\n",
              "         2, 4, 3, 8, 2, 3, 6, 5]),\n",
              " tensor([6, 2, 7, 3, 7, 8, 8, 2, 4, 8, 8, 6, 1, 5, 8, 9, 8, 7, 1, 0, 3, 0, 3, 0,\n",
              "         7, 3, 9, 9, 1, 5, 9, 4]),\n",
              " tensor([1, 7, 0, 1, 0, 5, 3, 8, 6, 4, 1, 7, 0, 5, 0, 4, 1, 7, 1, 7, 9, 6, 3, 9,\n",
              "         2, 2, 9, 3, 5, 8, 8, 4]),\n",
              " tensor([4, 7, 7, 2, 2, 0, 5, 5, 3, 6, 2, 5, 6, 8, 5, 6, 9, 1, 3, 1, 6, 5, 9, 3,\n",
              "         7, 0, 3, 5, 6, 1, 5, 8]),\n",
              " tensor([5, 4, 6, 9, 1, 7, 1, 7, 3, 8, 0, 4, 4, 0, 2, 0, 3, 3, 8, 8, 0, 3, 4, 8,\n",
              "         1, 1, 3, 3, 2, 2, 1, 8]),\n",
              " tensor([0, 2, 6, 6, 6, 0, 0, 9, 2, 3, 0, 4, 5, 7, 1, 6, 1, 0, 0, 0, 8, 5, 1, 6,\n",
              "         5, 2, 8, 1, 7, 1, 6, 4]),\n",
              " tensor([7, 4, 6, 1, 5, 3, 3, 5, 8, 7, 7, 7, 2, 7, 5, 4, 6, 2, 0, 6, 6, 9, 9, 5,\n",
              "         8, 0, 4, 4, 1, 3, 7, 3]),\n",
              " tensor([6, 0, 9, 8, 5, 3, 0, 7, 1, 9, 7, 8, 2, 6, 9, 9, 1, 2, 6, 3, 2, 4, 5, 1,\n",
              "         0, 6, 8, 3, 4, 8, 3, 4]),\n",
              " tensor([0, 0, 3, 6, 7, 4, 4, 1, 7, 3, 6, 7, 9, 9, 1, 8, 8, 9, 1, 4, 6, 1, 2, 8,\n",
              "         2, 5, 7, 8, 0, 6, 2, 7]),\n",
              " tensor([2, 1, 5, 6, 8, 7, 8, 1, 4, 9, 1, 5, 5, 9, 9, 4, 4, 2, 1, 6, 6, 8, 7, 6,\n",
              "         2, 7, 5, 2, 7, 0, 3, 4]),\n",
              " tensor([4, 8, 4, 0, 6, 7, 3, 7, 3, 6, 3, 8, 6, 3, 2, 3, 2, 8, 5, 8, 0, 7, 0, 8,\n",
              "         9, 0, 2, 1, 2, 5, 1, 3]),\n",
              " tensor([4, 7, 6, 4, 9, 9, 3, 4, 3, 1, 6, 8, 0, 3, 0, 6, 2, 0, 2, 3, 6, 7, 2, 3,\n",
              "         6, 0, 8, 5, 4, 0, 1, 0]),\n",
              " tensor([2, 2, 6, 7, 9, 6, 2, 4, 3, 6, 8, 5, 4, 6, 0, 3, 3, 5, 2, 5, 1, 5, 5, 1,\n",
              "         7, 7, 2, 1, 8, 8, 0, 9]),\n",
              " tensor([6, 6, 0, 3, 2, 1, 8, 3, 4, 2, 1, 2, 3, 3, 0, 8, 5, 1, 5, 0, 2, 6, 3, 9,\n",
              "         8, 2, 8, 1, 0, 2, 6, 2]),\n",
              " tensor([0, 3, 7, 5, 0, 6, 2, 0, 8, 4, 2, 1, 8, 4, 8, 2, 9, 2, 4, 8, 5, 2, 7, 3,\n",
              "         2, 2, 0, 0, 4, 8, 5, 4]),\n",
              " tensor([1, 5, 2, 8, 2, 9, 3, 6, 3, 6, 4, 2, 7, 7, 9, 6, 4, 9, 8, 3, 5, 8, 7, 7,\n",
              "         0, 7, 7, 0, 7, 7, 4, 9]),\n",
              " tensor([5, 4, 2, 2, 3, 8, 0, 1, 9, 8, 0, 2, 2, 2, 3, 8, 0, 7, 6, 4, 3, 8, 1, 3,\n",
              "         8, 7, 3, 6, 3, 4, 8, 8]),\n",
              " tensor([9, 1, 3, 2, 1, 4, 8, 3, 4, 6, 7, 3, 9, 2, 9, 0, 4, 6, 5, 7, 0, 8, 3, 7,\n",
              "         5, 4, 9, 5, 7, 3, 2, 0]),\n",
              " tensor([9, 8, 7, 3, 7, 7, 4, 7, 5, 8, 8, 2, 4, 6, 2, 3, 8, 9, 7, 1, 3, 4, 2, 9,\n",
              "         7, 1, 2, 2, 6, 0, 5, 5]),\n",
              " tensor([4, 5, 2, 8, 9, 2, 9, 9, 0, 4, 0, 1, 5, 5, 5, 6, 8, 1, 5, 5, 7, 7, 9, 8,\n",
              "         0, 1, 3, 4, 6, 0, 9, 3]),\n",
              " tensor([2, 4, 4, 8, 2, 5, 4, 9, 0, 2, 8, 4, 8, 6, 3, 6, 1, 4, 3, 3, 8, 2, 9, 9,\n",
              "         0, 7, 9, 5, 3, 1, 7, 2]),\n",
              " tensor([8, 4, 7, 3, 1, 6, 0, 7, 8, 1, 9, 3, 6, 8, 3, 8, 4, 2, 5, 6, 9, 2, 1, 2,\n",
              "         0, 7, 9, 0, 1, 3, 7, 5]),\n",
              " tensor([1, 2, 1, 1, 3, 8, 3, 9, 5, 4, 6, 3, 7, 7, 7, 2, 3, 9, 1, 9, 2, 6, 0, 5,\n",
              "         6, 6, 7, 8, 0, 3, 4, 7]),\n",
              " tensor([6, 4, 0, 2, 7, 9, 6, 3, 3, 2, 0, 8, 8, 7, 3, 2, 7, 5, 7, 6, 1, 8, 3, 4,\n",
              "         9, 8, 9, 3, 3, 0, 3, 0]),\n",
              " tensor([3, 0, 6, 4, 1, 7, 7, 1, 2, 6, 5, 3, 4, 1, 7, 6, 7, 6, 2, 8, 8, 1, 4, 9,\n",
              "         7, 6, 3, 4, 9, 3, 9, 8]),\n",
              " tensor([5, 3, 8, 4, 7, 1, 4, 1, 9, 6, 8, 3, 2, 4, 8, 1, 1, 5, 8, 6, 1, 6, 2, 9,\n",
              "         0, 9, 5, 3, 5, 6, 6, 5]),\n",
              " tensor([6, 8, 3, 8, 0, 2, 9, 9, 1, 5, 3, 2, 6, 5, 3, 3, 3, 6, 7, 4, 0, 4, 1, 9,\n",
              "         9, 1, 7, 5, 5, 5, 9, 3]),\n",
              " tensor([8, 4, 6, 6, 4, 6, 2, 1, 1, 2, 2, 8, 4, 9, 0, 5, 8, 1, 3, 2, 3, 2, 4, 8,\n",
              "         6, 6, 9, 3, 2, 7, 7, 2]),\n",
              " tensor([2, 2, 6, 8, 9, 6, 3, 4, 7, 7, 9, 7, 3, 6, 7, 6, 7, 3, 0, 2, 0, 9, 4, 3,\n",
              "         3, 1, 9, 5, 8, 2, 3, 5]),\n",
              " tensor([0, 6, 4, 5, 2, 3, 5, 2, 7, 7, 6, 6, 9, 7, 1, 2, 2, 5, 3, 0, 2, 1, 3, 0,\n",
              "         5, 4, 8, 5, 7, 3, 0, 8]),\n",
              " tensor([3, 5, 2, 6, 9, 8, 9, 9, 8, 1, 7, 5, 0, 1, 5, 3, 3, 3, 3, 4, 3, 3, 6, 7,\n",
              "         8, 0, 9, 6, 3, 0, 4, 2]),\n",
              " tensor([9, 3, 5, 7, 3, 9, 8, 6, 6, 2, 2, 3, 1, 0, 9, 5, 6, 6, 4, 1, 1, 4, 7, 2,\n",
              "         3, 5, 9, 0, 4, 4, 3, 9]),\n",
              " tensor([9, 9, 4, 6, 9, 8, 3, 5, 3, 1, 4, 5, 0, 1, 8, 5, 8, 4, 6, 7, 8, 9, 2, 4,\n",
              "         6, 4, 2, 6, 4, 7, 9, 1]),\n",
              " tensor([9, 7, 4, 5, 6, 3, 2, 4, 1, 6, 1, 5, 8, 6, 4, 2, 9, 4, 7, 1, 3, 0, 2, 7,\n",
              "         7, 5, 9, 5, 7, 3, 8, 7]),\n",
              " tensor([5, 9, 7, 8, 6, 1, 0, 8, 6, 2, 6, 7, 9, 2, 2, 5, 2, 3, 2, 1, 1, 7, 0, 5,\n",
              "         5, 4, 7, 8, 9, 6, 5, 4]),\n",
              " tensor([6, 2, 5, 5, 8, 4, 8, 8, 7, 4, 9, 6, 9, 2, 9, 7, 3, 5, 7, 3, 2, 6, 2, 8,\n",
              "         7, 9, 2, 0, 2, 4, 1, 0]),\n",
              " tensor([3, 8, 4, 8, 6, 4, 6, 3, 5, 7, 7, 8, 5, 6, 3, 2, 1, 8, 3, 6, 5, 4, 2, 3,\n",
              "         6, 8, 3, 3, 2, 9, 0, 9]),\n",
              " tensor([7, 0, 1, 8, 3, 6, 3, 8, 6, 8, 5, 4, 3, 6, 1, 9, 3, 5, 0, 4, 2, 3, 1, 5,\n",
              "         3, 6, 8, 5, 7, 8, 6, 1]),\n",
              " tensor([1, 0, 6, 6, 7, 9, 6, 7, 2, 3, 6, 4, 6, 3, 3, 9, 4, 7, 0, 8, 6, 5, 6, 2,\n",
              "         0, 1, 3, 9, 4, 2, 5, 6]),\n",
              " tensor([5, 3, 6, 5, 6, 0, 6, 0, 6, 9, 1, 3, 3, 2, 5, 8, 6, 6, 1, 4, 9, 7, 2, 4,\n",
              "         7, 5, 7, 1, 2, 8, 7, 9]),\n",
              " tensor([7, 7, 0, 2, 9, 2, 5, 6, 7, 6, 4, 5, 2, 7, 4, 1, 4, 5, 9, 6, 5, 7, 7, 3,\n",
              "         8, 3, 9, 4, 5, 3, 6, 7]),\n",
              " tensor([6, 9, 5, 1, 3, 6, 5, 3, 4, 4, 5, 3, 4, 9, 9, 1, 2, 2, 2, 4, 3, 8, 7, 9,\n",
              "         9, 4, 8, 8, 9, 0, 5, 6]),\n",
              " tensor([4, 3, 8, 0, 4, 2, 0, 1, 4, 0, 2, 1, 5, 4, 6, 0, 0, 3, 4, 5, 6, 0, 7, 6,\n",
              "         0, 3, 1, 8, 4, 8, 9, 9]),\n",
              " tensor([5, 5, 8, 2, 5, 4, 4, 2, 5, 4, 9, 2, 7, 1, 0, 2, 4, 6, 7, 8, 3, 4, 9, 1,\n",
              "         9, 2, 7, 3, 5, 2, 3, 4]),\n",
              " tensor([2, 1, 6, 2, 4, 3, 7, 8, 3, 9, 5, 9, 0, 4, 3, 4, 5, 5, 5, 7, 6, 1, 3, 3,\n",
              "         7, 0, 9, 7, 6, 8, 3, 5]),\n",
              " tensor([5, 8, 1, 9, 4, 2, 2, 2, 3, 6, 3, 3, 6, 5, 3, 8, 1, 1, 7, 8, 2, 5, 9, 0,\n",
              "         8, 3, 6, 4, 2, 7, 0, 7]),\n",
              " tensor([3, 3, 2, 3, 7, 1, 6, 2, 3, 3, 0, 6, 6, 4, 8, 5, 0, 3, 3, 4, 7, 3, 3, 6,\n",
              "         0, 2, 4, 4, 1, 8, 1, 9]),\n",
              " tensor([3, 2, 2, 4, 2, 3, 3, 3, 5, 3, 5, 8, 3, 9, 7, 3, 0, 6, 1, 6, 1, 6, 7, 7,\n",
              "         2, 8, 9, 6, 1, 5, 4, 9]),\n",
              " tensor([4, 7, 9, 9, 9, 0, 1, 0, 9, 9, 5, 1, 7, 2, 9, 3, 0, 6, 8, 3, 7, 3, 3, 8,\n",
              "         4, 7, 8, 8, 9, 8, 4, 4]),\n",
              " tensor([5, 6, 4, 5, 9, 0, 0, 5, 3, 7, 7, 4, 4, 7, 1, 5, 8, 3, 7, 2, 7, 1, 8, 8,\n",
              "         8, 7, 8, 6, 0, 5, 7, 9]),\n",
              " tensor([8, 5, 6, 0, 6, 2, 3, 2, 3, 9, 9, 1, 9, 5, 8, 4, 6, 2, 4, 6, 7, 2, 8, 3,\n",
              "         0, 7, 8, 8, 3, 9, 9, 5]),\n",
              " tensor([9, 2, 6, 9, 7, 8, 7, 4, 7, 9, 2, 3, 9, 8, 3, 8, 3, 1, 4, 9, 1, 2, 8, 5,\n",
              "         1, 7, 9, 0, 3, 3, 6, 9]),\n",
              " tensor([3, 4, 6, 0, 0, 2, 9, 7, 3, 9, 6, 5, 6, 8, 5, 9, 5, 6, 4, 2, 5, 4, 2, 5,\n",
              "         4, 2, 7, 1, 6, 6, 3, 6]),\n",
              " tensor([5, 6, 4, 6, 7, 8, 5, 1, 5, 2, 3, 4, 6, 4, 1, 9, 0, 7, 2, 7, 3, 2, 9, 7,\n",
              "         4, 6, 6, 1, 7, 1, 4, 7]),\n",
              " tensor([6, 1, 7, 3, 6, 3, 8, 6, 6, 0, 4, 1, 7, 9, 6, 2, 9, 2, 6, 7, 1, 7, 5, 2,\n",
              "         9, 8, 6, 4, 0, 3, 3, 2]),\n",
              " tensor([2, 8, 3, 6, 8, 1, 8, 1, 0, 1, 6, 7, 3, 7, 7, 3, 3, 9, 9, 6, 4, 2, 5, 8,\n",
              "         9, 3, 3, 5, 4, 1, 6, 9]),\n",
              " tensor([4, 4, 2, 6, 1, 8, 3, 3, 4, 0, 2, 1, 9, 0, 5, 4, 5, 3, 6, 2, 1, 2, 0, 7,\n",
              "         3, 6, 2, 3, 4, 4, 5, 2]),\n",
              " tensor([9, 6, 8, 0, 6, 6, 0, 1, 7, 5, 2, 3, 3, 2, 0, 3, 8, 2, 6, 2, 5, 1, 4, 2,\n",
              "         2, 1, 7, 3, 8, 6, 9, 8]),\n",
              " tensor([8, 0, 6, 3, 4, 0, 8, 1, 2, 3, 3, 1, 9, 5, 3, 2, 6, 7, 1, 9, 2, 3, 0, 4,\n",
              "         2, 4, 8, 6, 9, 4, 7, 0]),\n",
              " tensor([3, 1, 3, 8, 3, 4, 1, 2, 6, 3, 6, 7, 7, 8, 3, 2, 9, 5, 6, 2, 9, 5, 2, 3,\n",
              "         8, 5, 3, 8, 3, 7, 9, 0]),\n",
              " tensor([2, 5, 1, 0, 5, 6, 3, 5, 7, 9, 6, 6, 7, 1, 6, 0, 8, 6, 2, 2, 7, 8, 6, 6,\n",
              "         4, 6, 9, 7, 3, 2, 5, 4]),\n",
              " tensor([5, 3, 9, 5, 0, 5, 6, 4, 1, 7, 9, 3, 3, 3, 4, 9, 1, 3, 3, 9, 5, 6, 8, 2,\n",
              "         4, 3, 4, 0, 6, 7, 9, 0]),\n",
              " tensor([0, 0, 4, 0, 0, 9, 8, 1, 3, 7, 3, 9, 9, 5, 4, 2, 3, 6, 8, 8, 5, 5, 1, 8,\n",
              "         8, 5, 7, 9, 9, 3, 4, 6]),\n",
              " tensor([2, 7, 9, 4, 6, 7, 5, 4, 7, 6, 1, 4, 6, 2, 0, 9, 6, 6, 5, 1, 1, 7, 8, 3,\n",
              "         2, 6, 2, 0, 6, 4, 9, 5]),\n",
              " tensor([2, 2, 4, 4, 6, 1, 5, 2, 7, 8, 6, 7, 7, 0, 8, 2, 3, 6, 9, 1, 2, 1, 7, 4,\n",
              "         3, 2, 9, 9, 2, 6, 4, 3]),\n",
              " tensor([3, 3, 7, 5, 2, 7, 8, 9, 9, 2, 7, 6, 7, 7, 3, 4, 7, 4, 4, 9, 0, 1, 8, 7,\n",
              "         5, 4, 5, 3, 7, 4, 6, 5]),\n",
              " tensor([5, 6, 7, 9, 0, 9, 5, 9, 4, 0, 1, 7, 8, 3, 5, 1, 0, 6, 5, 0, 2, 3, 7, 1,\n",
              "         1, 1, 8, 7, 7, 6, 0, 4]),\n",
              " tensor([7, 0, 0, 5, 3, 4, 8, 1, 5, 4, 7, 3, 2, 3, 4, 7, 8, 0, 7, 6, 9, 5, 8, 0,\n",
              "         7, 3, 5, 0, 9, 7, 1, 0]),\n",
              " tensor([6, 5, 7, 8, 4, 3, 1, 9, 0, 2, 9, 1, 3, 4, 4, 3, 3, 6, 2, 3, 8, 6, 4, 9,\n",
              "         5, 6, 1, 8, 2, 4, 3, 4]),\n",
              " tensor([2, 9, 4, 3, 7, 9, 6, 3, 5, 4, 5, 9, 8, 8, 3, 0, 1, 2, 4, 6, 1, 9, 6, 4,\n",
              "         6, 5, 5, 4, 6, 2, 0, 1]),\n",
              " tensor([4, 9, 9, 7, 6, 1, 2, 6, 0, 2, 6, 2, 5, 9, 4, 8, 4, 6, 1, 5, 9, 2, 1, 2,\n",
              "         9, 3, 1, 7, 1, 3, 3, 9]),\n",
              " tensor([1, 3, 8, 9, 9, 1, 9, 6, 0, 7, 8, 5, 5, 5, 3, 8, 9, 4, 7, 4, 4, 9, 2, 6,\n",
              "         1, 5, 0, 7, 3, 4, 0, 7]),\n",
              " tensor([1, 1, 8, 2, 8, 7, 2, 6, 7, 2, 0, 0, 5, 1, 6, 8, 2, 3, 7, 2, 3, 9, 7, 6,\n",
              "         1, 3, 9, 2, 4, 6, 3, 7]),\n",
              " tensor([8, 1, 1, 9, 8, 3, 8, 4, 6, 6, 1, 5, 2, 3, 6, 2, 5, 9, 9, 4, 3, 4, 1, 7,\n",
              "         9, 0, 8, 7, 3, 3, 8, 2]),\n",
              " tensor([3, 8, 2, 7, 6, 6, 8, 9, 2, 9, 3, 2, 6, 1, 1, 0, 4, 1, 6, 9, 0, 5, 9, 1,\n",
              "         5, 0, 9, 3, 2, 1, 7, 6]),\n",
              " tensor([9, 8, 8, 9, 5, 5, 3, 8, 2, 0, 3, 6, 1, 1, 9, 6, 9, 7, 5, 3, 2, 9, 5, 5,\n",
              "         4, 2, 9, 9, 3, 0, 6, 4]),\n",
              " tensor([1, 7, 4, 7, 2, 8, 5, 8, 6, 0, 1, 3, 2, 2, 3, 6, 6, 6, 2, 8, 3, 2, 4, 6,\n",
              "         1, 8, 4, 5, 4, 2, 3, 9]),\n",
              " tensor([0, 6, 3, 2, 5, 4, 2, 7, 3, 7, 3, 3, 6, 9, 6, 8, 5, 6, 0, 3, 6, 7, 4, 8,\n",
              "         3, 1, 1, 9, 7, 5, 4, 2]),\n",
              " tensor([1, 6, 4, 8, 9, 2, 5, 8, 3, 3, 0, 9, 6, 4, 6, 3, 2, 4, 7, 4, 3, 6, 6, 2,\n",
              "         8, 4, 1, 3, 7, 2, 6, 2]),\n",
              " tensor([2, 3, 2, 3, 0, 8, 4, 5, 1, 2, 3, 8, 4, 1, 2, 1, 4, 9, 6, 5, 9, 6, 8, 0,\n",
              "         3, 4, 3, 2, 3, 7, 5, 4]),\n",
              " tensor([1, 3, 2, 6, 5, 8, 0, 1, 6, 5, 2, 8, 9, 7, 9, 1, 1, 3, 3, 5, 6, 7, 9, 9,\n",
              "         4, 9, 3, 6, 6, 2, 8, 7]),\n",
              " tensor([2, 5, 9, 8, 3, 8, 1, 3, 1, 4, 5, 4, 5, 2, 4, 9, 2, 7, 1, 4, 8, 3, 7, 7,\n",
              "         6, 7, 9, 2, 7, 7, 0, 1]),\n",
              " tensor([2, 1, 2, 8, 2, 4, 7, 6, 7, 1, 8, 7, 5, 1, 3, 1, 0, 3, 6, 5, 3, 8, 6, 3,\n",
              "         4, 9, 3, 1, 5, 3, 0, 7]),\n",
              " tensor([6, 3, 4, 5, 1, 6, 6, 2, 8, 3, 9, 8, 6, 7, 2, 6, 2, 5, 1, 9, 4, 3, 8, 7,\n",
              "         1, 8, 1, 2, 0, 9, 2, 4]),\n",
              " tensor([3, 4, 6, 1, 3, 5, 2, 9, 7, 5, 3, 9, 5, 5, 6, 4, 8, 0, 7, 6, 8, 6, 2, 1,\n",
              "         9, 7, 7, 3, 8, 6, 3, 0]),\n",
              " tensor([9, 8, 5, 6, 4, 8, 1, 5, 5, 7, 0, 3, 6, 1, 3, 2, 4, 4, 6, 1, 7, 6, 2, 2,\n",
              "         6, 3, 8, 2, 4, 6, 3, 0]),\n",
              " tensor([8, 8, 4, 6, 2, 0, 7, 0, 8, 9, 1, 4, 6, 7, 6, 8, 1, 8, 2, 3, 6, 7, 5, 7,\n",
              "         9, 9, 3, 9, 4, 4, 2, 6]),\n",
              " tensor([1, 4, 8, 4, 4, 5, 2, 2, 2, 9, 1, 8, 0, 6, 2, 2, 0, 3, 6, 6, 1, 3, 6, 3,\n",
              "         4, 1, 7, 8, 1, 0, 7, 2]),\n",
              " tensor([5, 0, 3, 2, 8, 5, 8, 7, 8, 4, 5, 9, 7, 5, 1, 2, 4, 7, 2, 9, 7, 8, 3, 7,\n",
              "         4, 6, 3, 8, 8, 4, 5, 3]),\n",
              " tensor([8, 2, 4, 2, 2, 7, 8, 9, 0, 2, 7, 9, 1, 5, 7, 8, 4, 3, 9, 5, 9, 1, 0, 8,\n",
              "         4, 3, 6, 3, 5, 8, 0, 0]),\n",
              " tensor([1, 8, 6, 9, 0, 6, 7, 6, 6, 6, 7, 4, 8, 8, 2, 6, 3, 6, 7, 1, 3, 7, 4, 3,\n",
              "         7, 1, 6, 5, 2, 3, 7, 9]),\n",
              " tensor([6, 3, 8, 2, 1, 1, 8, 8, 3, 5, 7, 7, 6, 9, 4, 3, 7, 3, 8, 9, 6, 2, 2, 4,\n",
              "         5, 7, 0, 2, 3, 9, 7, 7]),\n",
              " tensor([2, 6, 5, 8, 3, 1, 3, 7, 2, 9, 4, 3, 9, 7, 2, 6, 8, 6, 9, 1, 9, 9, 6, 7,\n",
              "         1, 4, 5, 0, 3, 8, 7, 2]),\n",
              " tensor([8, 5, 9, 3, 2, 0, 6, 8, 4, 5, 6, 1, 3, 7, 9, 1, 8, 8, 4, 0, 8, 7, 6, 8,\n",
              "         2, 1, 2, 7, 5, 4, 6, 8]),\n",
              " tensor([3, 4, 7, 2, 4, 6, 8, 5, 7, 9, 5, 7, 4, 2, 3, 7, 3, 4, 1, 5, 6, 9, 7, 4,\n",
              "         2, 2, 5, 8, 0, 7, 7, 2]),\n",
              " tensor([2, 6, 4, 8, 2, 0, 6, 9, 8, 9, 6, 5, 0, 6, 0, 2, 3, 3, 1, 8, 7, 2, 3, 9,\n",
              "         1, 2, 6, 5, 2, 3, 2, 0]),\n",
              " tensor([2, 6, 0, 7, 2, 1, 8, 2, 8, 7, 9, 2, 1, 3, 5, 7, 7, 3, 2, 5, 9, 0, 4, 7,\n",
              "         3, 2, 0, 9, 6, 7, 3, 9]),\n",
              " tensor([1, 2, 1, 9, 7, 2, 3, 4, 8, 1, 8, 3, 5, 0, 5, 3, 8, 5, 7, 4, 9, 0, 6, 8,\n",
              "         4, 2, 4, 4, 4, 3, 7, 8]),\n",
              " tensor([7, 1, 3, 7, 6, 9, 5, 5, 2, 2, 4, 5, 0, 8, 6, 3, 4, 6, 8, 8, 9, 6, 9, 1,\n",
              "         5, 1, 2, 1, 3, 2, 2, 2]),\n",
              " tensor([4, 8, 7, 9, 9, 2, 0, 5, 7, 0, 5, 6, 8, 3, 3, 4, 6, 7, 1, 8, 2, 9, 8, 1,\n",
              "         7, 6, 2, 6, 3, 7, 1, 8]),\n",
              " tensor([5, 7, 8, 0, 5, 3, 8, 3, 7, 7, 7, 6, 5, 2, 6, 3, 2, 3, 4, 1, 0, 3, 9, 1,\n",
              "         8, 2, 3, 7, 4, 9, 5, 7]),\n",
              " tensor([4, 3, 9, 5, 6, 8, 2, 7, 3, 8, 3, 0, 8, 9, 0, 9, 4, 6, 2, 5, 7, 1, 4, 8,\n",
              "         4, 0, 2, 3, 3, 1, 1, 7]),\n",
              " tensor([6, 2, 6, 5, 9, 8, 9, 9, 3, 4, 7, 9, 2, 0, 1, 1, 3, 4, 8, 6, 8, 0, 5, 5,\n",
              "         6, 7, 3, 8, 2, 4, 4, 2]),\n",
              " tensor([2, 2, 5, 7, 2, 9, 8, 6, 2, 4, 0, 7, 4, 5, 6, 3, 6, 1, 9, 8, 1, 8, 6, 6,\n",
              "         3, 9, 1, 9, 7, 6, 9, 3]),\n",
              " tensor([9, 3, 0, 2, 2, 3, 4, 6, 6, 9, 2, 1, 1, 6, 5, 6, 7, 0, 4, 1, 1, 7, 0, 3,\n",
              "         1, 9, 8, 7, 3, 5, 4, 1]),\n",
              " tensor([2, 6, 4, 0, 3, 6, 2, 3, 5, 9, 5, 8, 9, 3, 3, 7, 8, 9, 4, 1, 1, 7, 0, 7,\n",
              "         0, 0, 9, 6, 0, 2, 9, 2]),\n",
              " tensor([8, 5, 5, 9, 3, 3, 5, 7, 1, 2, 3, 3, 5, 6, 6, 4, 1, 1, 9, 1, 4, 0, 6, 2,\n",
              "         2, 6, 6, 0, 3, 5, 0, 3]),\n",
              " tensor([0, 5, 1, 1, 8, 4, 5, 3, 5, 1, 6, 6, 3, 6, 2, 7, 9, 6, 3, 8, 7, 6, 4, 9,\n",
              "         1, 9, 7, 7, 6, 2, 2, 7]),\n",
              " tensor([5, 6, 1, 5, 7, 7, 8, 2, 8, 3, 7, 6, 6, 2, 9, 9, 0, 2, 7, 3, 1, 0, 8, 2,\n",
              "         4, 4, 4, 7, 1, 8, 2, 0]),\n",
              " tensor([3, 4, 4, 6, 9, 8, 0, 3, 8, 3, 9, 6, 1, 5, 6, 5, 6, 8, 4, 2, 5, 9, 3, 6,\n",
              "         4, 7, 8, 5, 9, 5, 0, 0]),\n",
              " tensor([6, 9, 7, 2, 9, 2, 2, 6, 4, 8, 1, 4, 3, 9, 4, 0, 3, 8, 6, 6, 7, 2, 7, 6,\n",
              "         5, 6, 3, 6, 5, 7, 6, 2]),\n",
              " tensor([1, 1, 8, 7, 3, 2, 0, 5, 4, 3, 8, 8, 8, 9, 3, 6, 9, 6, 3, 3, 6, 2, 2, 8,\n",
              "         8, 5, 9, 6, 7, 1, 9, 0]),\n",
              " tensor([3, 3, 0, 2, 3, 9, 9, 7, 3, 0, 4, 2, 4, 6, 6, 5, 3, 4, 9, 8, 5, 8, 0, 4,\n",
              "         1, 6, 8, 7, 2, 6, 2, 3]),\n",
              " tensor([5, 6, 3, 5, 2, 5, 3, 7, 1, 2, 9, 8, 7, 2, 8, 8, 5, 5, 8, 4, 4, 0, 8, 3,\n",
              "         6, 4, 9, 6, 1, 0, 5, 1]),\n",
              " tensor([4, 0, 9, 2, 6, 3, 6, 7, 6, 6, 4, 3, 8, 5, 1, 8, 3, 4, 4, 5, 0, 0, 5, 8,\n",
              "         7, 4, 4, 2, 2, 9, 3, 5]),\n",
              " tensor([0, 9, 9, 0, 1, 3, 7, 1, 9, 6, 5, 2, 6, 9, 5, 7, 7, 4, 2, 8, 3, 1, 7, 8,\n",
              "         8, 4, 8, 0, 5, 5, 7, 3]),\n",
              " tensor([7, 6, 2, 1, 7, 1, 9, 0, 1, 0, 3, 2, 7, 3, 9, 3, 5, 4, 0, 0, 7, 7, 4, 2,\n",
              "         3, 8, 7, 8, 3, 0, 4, 1]),\n",
              " tensor([4, 9, 5, 8, 9, 7, 3, 2, 9, 5, 9, 3, 1, 3, 8, 0, 1, 4, 6, 9, 9, 8, 0, 7,\n",
              "         2, 0, 1, 9, 9, 1, 9, 3]),\n",
              " tensor([2, 3, 7, 3, 1, 3, 6, 8, 3, 4, 3, 3, 8, 3, 7, 4, 6, 3, 8, 4, 7, 9, 6, 6,\n",
              "         3, 0, 4, 5, 7, 6, 7, 2]),\n",
              " tensor([9, 0, 2, 6, 3, 3, 0, 6, 4, 4, 4, 4, 6, 9, 7, 6, 7, 4, 0, 2, 6, 1, 9, 5,\n",
              "         9, 9, 0, 5, 8, 2, 7, 3]),\n",
              " tensor([9, 5, 2, 8, 9, 5, 8, 0, 0, 3, 0, 6, 3, 7, 8, 0, 1, 2, 2, 6, 1, 1, 3, 2,\n",
              "         2, 5, 4, 3, 9, 3, 3, 2]),\n",
              " tensor([3, 7, 6, 9, 2, 1, 4, 7, 5, 5, 9, 4, 6, 9, 7, 9, 7, 4, 1, 8, 3, 3, 8, 0,\n",
              "         8, 7, 6, 7, 7, 9, 4, 4]),\n",
              " tensor([3, 3, 7, 2, 1, 5, 2, 0, 5, 8, 6, 7, 0, 1, 6, 5, 6, 2, 1, 4, 1, 8, 7, 9,\n",
              "         9, 7, 3, 2, 2, 4, 7, 6]),\n",
              " tensor([3, 9, 6, 3, 9, 5, 1, 0, 9, 0, 7, 4, 3, 5, 7, 2, 7, 2, 8, 7, 5, 4, 5, 9,\n",
              "         4, 3, 5, 0, 2, 7, 5, 3]),\n",
              " tensor([1, 9, 3, 7, 1, 6, 3, 4, 4, 2, 5, 9, 2, 1, 1, 9, 7, 9, 0, 1, 4, 8, 9, 2,\n",
              "         8, 3, 7, 8, 7, 7, 0, 8]),\n",
              " tensor([5, 6, 6, 9, 5, 2, 7, 7, 9, 7, 1, 0, 0, 8, 6, 4, 0, 2, 4, 5, 5, 0, 5, 3,\n",
              "         3, 4, 5, 6, 7, 1, 8, 7]),\n",
              " tensor([1, 6, 2, 0, 6, 7, 3, 7, 4, 8, 6, 3, 9, 4, 6, 6, 0, 8, 7, 3, 3, 6, 5, 6,\n",
              "         1, 5, 0, 9, 9, 1, 3, 0]),\n",
              " tensor([6, 1, 6, 6, 5, 5, 2, 6, 0, 9, 2, 6, 8, 2, 8, 3, 7, 7, 3, 3, 9, 5, 7, 3,\n",
              "         0, 9, 4, 5, 6, 7, 2, 9]),\n",
              " tensor([5, 5, 8, 8, 4, 9, 5, 6, 3, 6, 3, 0, 2, 7, 2, 4, 2, 8, 4, 1, 5, 7, 9, 7,\n",
              "         3, 9, 8, 2, 5, 1, 9, 6]),\n",
              " tensor([1, 0, 4, 8, 0, 5, 6, 9, 8, 8, 4, 4, 4, 1, 7, 5, 1, 4, 6, 7, 0, 3, 2, 8,\n",
              "         5, 8, 5, 9, 1, 1, 3, 8]),\n",
              " tensor([9, 5, 9, 1, 3, 6, 3, 6, 3, 3, 7, 1, 3, 0, 1, 5, 3, 4, 9, 2, 4, 2, 2, 3,\n",
              "         7, 9, 6, 7, 1, 4, 0, 8]),\n",
              " tensor([3, 3, 5, 6, 0, 8, 3, 3, 3, 0, 1, 8, 2, 3, 2, 9, 5, 4, 3, 5, 2, 1, 6, 4,\n",
              "         4, 5, 8, 6, 7, 3, 6, 6]),\n",
              " tensor([7, 4, 2, 3, 4, 8, 2, 6, 3, 4, 8, 1, 7, 5, 4, 8, 7, 9, 9, 9, 9, 2, 0, 9,\n",
              "         4, 0, 8, 8, 8, 6, 5, 6]),\n",
              " tensor([6, 6, 6, 2, 9, 9, 2, 3, 5, 4, 0, 1, 0, 8, 9, 5, 7, 3, 3, 2, 4, 1, 2, 8,\n",
              "         1, 8, 2, 6, 6, 9, 8, 5]),\n",
              " tensor([1, 2, 4, 0, 9, 2, 5, 8, 0, 7, 1, 6, 5, 8, 9, 7, 4, 9, 6, 3, 1, 2, 5, 0,\n",
              "         8, 0, 4, 6, 3, 6, 0, 0]),\n",
              " tensor([3, 3, 5, 9, 4, 7, 1, 5, 0, 1, 6, 1, 7, 9, 4, 0, 2, 5, 2, 9, 4, 9, 8, 8,\n",
              "         7, 6, 2, 3, 9, 3, 6, 7]),\n",
              " tensor([3, 4, 7, 6, 6, 1, 0, 5, 7, 3, 5, 9, 2, 3, 4, 8, 5, 8, 1, 9, 6, 7, 6, 7,\n",
              "         3, 6, 2, 5, 6, 8, 8, 6]),\n",
              " tensor([7, 4, 0, 5, 1, 5, 9, 6, 0, 9, 5, 8, 5, 7, 3, 9, 8, 3, 2, 6, 5, 7, 5, 1,\n",
              "         1, 7, 4, 1, 8, 5, 8, 2]),\n",
              " tensor([9, 6, 3, 3, 4, 6, 2, 4, 1, 1, 4, 7, 2, 7, 0, 2, 8, 8, 8, 8, 7, 7, 1, 2,\n",
              "         6, 4, 1, 6, 6, 2, 5, 8]),\n",
              " tensor([2, 4, 8, 3, 1, 8, 8, 4, 4, 0, 8, 6, 8, 0, 3, 2, 5, 8, 7, 5, 7, 0, 1, 1,\n",
              "         9, 7, 8, 6, 1, 9, 6, 3]),\n",
              " tensor([6, 9, 4, 0, 4, 5, 9, 6, 2, 2, 0, 5, 6, 6, 3, 7, 8, 6, 2, 6, 1, 1, 9, 9,\n",
              "         4, 5, 3, 6, 8, 5, 8, 6]),\n",
              " tensor([6, 1, 2, 3, 7, 6, 9, 0, 4, 8, 2, 3, 4, 9, 5, 8, 8, 6, 0, 4, 1, 1, 8, 9,\n",
              "         6, 4, 2, 3, 8, 0, 7, 1]),\n",
              " tensor([8, 8, 5, 3, 2, 7, 7, 1, 0, 1, 4, 1, 9, 0, 4, 1, 1, 6, 7, 3, 7, 3, 9, 0,\n",
              "         1, 8, 9, 2, 2, 6, 0, 9]),\n",
              " tensor([3, 6, 1, 2, 7, 6, 0, 5, 6, 8, 2, 5, 5, 3, 5, 9, 1, 8, 5, 3, 1, 2, 4, 3,\n",
              "         7, 3, 5, 4, 8, 6, 7, 1]),\n",
              " tensor([2, 3, 9, 8, 3, 8, 7, 7, 9, 7, 0, 9, 4, 0, 9, 6, 1, 9, 8, 6, 3, 7, 2, 9,\n",
              "         5, 4, 7, 1, 2, 1, 2, 3]),\n",
              " tensor([9, 2, 0, 5, 2, 0, 5, 5, 4, 6, 9, 9, 1, 6, 7, 7, 7, 4, 5, 1, 2, 0, 6, 3,\n",
              "         8, 9, 8, 4, 1, 0, 8, 3]),\n",
              " tensor([9, 8, 8, 7, 8, 3, 0, 0, 7, 4, 8, 6, 9, 9, 4, 7, 7, 2, 2, 1, 5, 3, 4, 3,\n",
              "         5, 5, 0, 8, 2, 7, 8, 9]),\n",
              " tensor([4, 2, 1, 7, 4, 6, 4, 7, 4, 3, 6, 0, 7, 7, 8, 0, 9, 1, 2, 6, 2, 9, 7, 1,\n",
              "         9, 9, 3, 3, 1, 4, 3, 5]),\n",
              " tensor([3, 3, 9, 4, 1, 4, 4, 2, 7, 5, 4, 6, 9, 9, 8, 3, 8, 1, 2, 2, 9, 5, 6, 1,\n",
              "         2, 6, 0, 1, 2, 0, 7, 6]),\n",
              " tensor([8, 8, 2, 8, 4, 5, 0, 6, 1, 7, 9, 7, 3, 9, 4, 6, 2, 8, 7, 1, 3, 8, 7, 6,\n",
              "         6, 4, 8, 2, 8, 0, 1, 5]),\n",
              " tensor([3, 8, 1, 7, 4, 9, 3, 7, 9, 3, 1, 8, 3, 0, 9, 3, 6, 2, 4, 2, 7, 6, 0, 9,\n",
              "         8, 8, 1, 5, 7, 7, 1, 7]),\n",
              " tensor([9, 4, 0, 0, 9, 8, 7, 3, 7, 3, 6, 5, 5, 2, 6, 9, 2, 6, 3, 2, 0, 4, 7, 8,\n",
              "         6, 4, 3, 1, 9, 3, 8, 3]),\n",
              " tensor([9, 7, 1, 7, 1, 3, 3, 8, 5, 0, 0, 6, 4, 1, 1, 2, 9, 0, 3, 2, 1, 3, 2, 7,\n",
              "         6, 1, 8, 5, 7, 3, 0, 5]),\n",
              " tensor([0, 4, 6, 2, 6, 5, 4, 3, 8, 2, 1, 7, 3, 8, 8, 9, 5, 0, 1, 6, 1, 2, 9, 0,\n",
              "         3, 1, 1, 4, 7, 8, 3, 6]),\n",
              " tensor([9, 3, 2, 8, 3, 8, 4, 9, 4, 7, 7, 3, 3, 6, 2, 5, 7, 3, 7, 4, 6, 6, 9, 3,\n",
              "         0, 8, 4, 1, 2, 1, 8, 1]),\n",
              " tensor([9, 4, 8, 9, 9, 3, 3, 7, 0, 6, 6, 1, 6, 4, 6, 4, 2, 2, 7, 3, 6, 3, 4, 0,\n",
              "         0, 1, 3, 8, 3, 5, 7, 9]),\n",
              " tensor([6, 6, 3, 7, 5, 3, 2, 7, 7, 5, 8, 0, 9, 1, 2, 4, 4, 9, 1, 6, 5, 3, 3, 0,\n",
              "         7, 1, 2, 7, 9, 3, 7, 4]),\n",
              " tensor([4, 6, 6, 7, 2, 7, 3, 3, 7, 8, 8, 7, 0, 1, 6, 0, 9, 7, 7, 9, 1, 2, 3, 4,\n",
              "         7, 4, 3, 3, 1, 7, 5, 7]),\n",
              " tensor([2, 5, 2, 0, 3, 1, 4, 7, 5, 3, 2, 5, 8, 4, 7, 4, 0, 8, 3, 0, 1, 7, 9, 2,\n",
              "         9, 1, 2, 6, 5, 1, 0, 2]),\n",
              " tensor([3, 7, 3, 1, 8, 2, 5, 9, 5, 8, 1, 0, 9, 6, 6, 6, 1, 1, 4, 7, 3, 3, 7, 9,\n",
              "         6, 9, 5, 2, 6, 4, 7, 2]),\n",
              " tensor([3, 8, 3, 8, 1, 1, 2, 4, 8, 1, 0, 8, 1, 8, 5, 3, 2, 7, 0, 2, 4, 9, 4, 2,\n",
              "         4, 5, 5, 6, 9, 5, 6, 7]),\n",
              " tensor([3, 2, 3, 3, 9, 2, 7, 7, 8, 1, 1, 0, 6, 5, 7, 9, 4, 7, 4, 7, 0, 2, 2, 9,\n",
              "         9, 7, 7, 5, 0, 1, 6, 3]),\n",
              " tensor([4, 6, 2, 0, 9, 2, 7, 8, 6, 2, 8, 9, 7, 1, 6, 7, 9, 9, 0, 1, 5, 3, 1, 3,\n",
              "         6, 7, 9, 8, 3, 3, 8, 5]),\n",
              " tensor([2, 4, 3, 6, 8, 0, 9, 2, 6, 9, 0, 1, 2, 5, 1, 8, 2, 3, 8, 1, 7, 1, 9, 1,\n",
              "         8, 3, 5, 4, 1, 0, 8, 6]),\n",
              " tensor([6, 6, 8, 2, 2, 8, 5, 0, 2, 4, 9, 8, 6, 1, 0, 0, 6, 8, 3, 4, 7, 7, 8, 9,\n",
              "         2, 5, 3, 4, 9, 9, 4, 8]),\n",
              " tensor([5, 6, 9, 3, 4, 0, 2, 8, 3, 3, 9, 2, 3, 6, 7, 3, 8, 5, 0, 4, 6, 4, 1, 3,\n",
              "         9, 8, 8, 9, 3, 2, 6, 0]),\n",
              " tensor([5, 4, 5, 6, 8, 3, 2, 4, 8, 4, 1, 5, 6, 3, 3, 1, 9, 2, 8, 7, 8, 2, 3, 6,\n",
              "         2, 5, 6, 9, 0, 7, 1, 1]),\n",
              " tensor([7, 9, 6, 1, 6, 7, 7, 4, 6, 3, 3, 6, 1, 0, 3, 9, 9, 8, 4, 9, 6, 2, 5, 4,\n",
              "         7, 2, 6, 5, 2, 6, 9, 3]),\n",
              " tensor([7, 0, 6, 3, 5, 3, 4, 3, 4, 6, 9, 8, 8, 3, 2, 0, 6, 3, 9, 4, 2, 8, 1, 7,\n",
              "         2, 4, 9, 3, 6, 2, 0, 6]),\n",
              " tensor([7, 3, 5, 0, 6, 3, 1, 3, 0, 9, 5, 4, 3, 7, 6, 6, 2, 9, 0, 7, 6, 5, 6, 8,\n",
              "         2, 1, 3, 6, 6, 5, 9, 4]),\n",
              " tensor([5, 0, 2, 0, 7, 4, 6, 8, 3, 3, 8, 6, 3, 8, 9, 4, 2, 2, 8, 4, 8, 2, 5, 7,\n",
              "         0, 3, 6, 8, 1, 5, 9, 2]),\n",
              " tensor([2, 8, 9, 6, 1, 0, 5, 8, 4, 2, 8, 2, 2, 6, 7, 6, 7, 3, 7, 4, 5, 8, 8, 3,\n",
              "         9, 7, 0, 6, 2, 6, 3, 6]),\n",
              " tensor([4, 9, 2, 5, 6, 5, 6, 3, 1, 7, 8, 6, 4, 7, 3, 3, 8, 0, 0, 9, 2, 8, 5, 4,\n",
              "         9, 6, 2, 2, 2, 0, 1, 1]),\n",
              " tensor([7, 3, 8, 2, 1, 7, 5, 8, 4, 8, 2, 3, 7, 3, 6, 4, 9, 6, 6, 2, 9, 8, 0, 5,\n",
              "         7, 2, 6, 5, 2, 3, 0, 7]),\n",
              " tensor([2, 4, 2, 7, 2, 6, 3, 3, 1, 5, 4, 0, 3, 7, 7, 5, 6, 5, 3, 7, 2, 6, 3, 5,\n",
              "         4, 8, 9, 0, 9, 7, 5, 7]),\n",
              " tensor([7, 9, 3, 3, 8, 4, 3, 9, 3, 1, 0, 2, 5, 6, 8, 7, 9, 7, 7, 7, 9, 2, 6, 0,\n",
              "         6, 7, 6, 1, 8, 0, 3, 8]),\n",
              " tensor([5, 0, 5, 6, 9, 1, 1, 2, 6, 8, 9, 7, 7, 5, 8, 6, 1, 4, 0, 1, 8, 4, 3, 4,\n",
              "         7, 9, 3, 7, 5, 5, 3, 9]),\n",
              " tensor([1, 2, 1, 2, 7, 4, 6, 9, 3, 4, 6, 1, 7, 8, 1, 6, 5, 9, 0, 0, 9, 5, 3, 8,\n",
              "         8, 2, 8, 5, 7, 0, 7, 0]),\n",
              " tensor([9, 6, 9, 2, 9, 4, 8, 5, 4, 0, 3, 6, 4, 4, 7, 3, 1, 7, 7, 8, 5, 7, 0, 4,\n",
              "         4, 2, 1, 3, 8, 0, 3, 2]),\n",
              " tensor([7, 5, 9, 1, 0, 4, 3, 7, 6, 6, 3, 1, 8, 4, 7, 2, 5, 7, 3, 1, 7, 1, 9, 2,\n",
              "         9, 6, 2, 6, 1, 8, 3, 9]),\n",
              " tensor([8, 4, 0, 3, 8, 4, 5, 1, 2, 2, 6, 4, 6, 8, 5, 7, 7, 7, 6, 5, 5, 7, 9, 9,\n",
              "         6, 2, 8, 2, 1, 3, 3, 4]),\n",
              " tensor([8, 9, 4, 0, 7, 3, 6, 8, 3, 2, 6, 1, 6, 5, 2, 9, 7, 2, 8, 7, 3, 7, 2, 3,\n",
              "         2, 1, 7, 4, 8, 5, 5, 0]),\n",
              " tensor([2, 3, 6, 1, 6, 6, 5, 0, 1, 5, 5, 4, 5, 1, 7, 8, 7, 1, 2, 7, 0, 9, 3, 3,\n",
              "         9, 0, 4, 6, 6, 5, 9, 9]),\n",
              " tensor([3, 2, 7, 3, 8, 1, 4, 2, 3, 7, 8, 4, 6, 4, 5, 4, 2, 9, 3, 5, 8, 0, 1, 9,\n",
              "         6, 7, 3, 7, 4, 4, 6, 6]),\n",
              " tensor([2, 1, 3, 3, 6, 7, 0, 5, 9, 8, 9, 3, 7, 9, 9, 6, 8, 8, 0, 1, 4, 4, 0, 2,\n",
              "         8, 3, 2, 1, 3, 3, 2, 7]),\n",
              " tensor([8, 7, 0, 4, 3, 4, 4, 5, 7, 9, 4, 8, 2, 4, 8, 0, 1, 7, 6, 7, 6, 0, 0, 3,\n",
              "         5, 1, 1, 2, 3, 6, 9, 8]),\n",
              " tensor([1, 6, 1, 6, 8, 5, 4, 0, 4, 0, 4, 9, 3, 8, 5, 4, 8, 6, 2, 8, 6, 4, 4, 0,\n",
              "         8, 7, 5, 2, 8, 7, 2, 9]),\n",
              " tensor([5, 9, 2, 1, 6, 4, 1, 9, 7, 1, 7, 3, 5, 8, 7, 2, 5, 3, 5, 2, 0, 6, 0, 1,\n",
              "         2, 4, 4, 8, 0, 3, 2, 6]),\n",
              " tensor([3, 5, 1, 3, 3, 6, 5, 1, 8, 3, 1, 8, 7, 8, 4, 2, 0, 3, 7, 8, 1, 3, 9, 6,\n",
              "         2, 8, 1, 4, 8, 8, 3, 0]),\n",
              " tensor([8, 5, 7, 5, 4, 7, 7, 6, 1, 8, 1, 7, 7, 0, 3, 1, 6, 5, 5, 3, 8, 9, 4, 0,\n",
              "         9, 5, 1, 7, 2, 1, 5, 2]),\n",
              " tensor([0, 1, 2, 0, 7, 1, 3, 4, 4, 5, 7, 0, 6, 7, 3, 3, 7, 8, 8, 2, 5, 6, 9, 7,\n",
              "         1, 2, 9, 3, 0, 5, 5, 6]),\n",
              " tensor([9, 1, 2, 3, 5, 6, 4, 1, 4, 6, 3, 3, 6, 3, 2, 8, 6, 7, 5, 5, 7, 0, 7, 9,\n",
              "         4, 3, 2, 9, 2, 9, 1, 8]),\n",
              " tensor([8, 8, 9, 8, 3, 8, 9, 3, 6, 0, 2, 1, 8, 4, 6, 6, 6, 9, 5, 3, 1, 5, 1, 3,\n",
              "         5, 6, 6, 2, 1, 7, 3, 6]),\n",
              " tensor([8, 2, 3, 3, 9, 6, 0, 4, 1, 2, 6, 2, 3, 1, 3, 9, 7, 3, 2, 6, 2, 9, 7, 8,\n",
              "         5, 0, 9, 3, 0, 3, 8, 1]),\n",
              " tensor([3, 2, 7, 5, 0, 4, 5, 6, 8, 9, 1, 9, 3, 8, 1, 7])]"
            ]
          },
          "metadata": {},
          "execution_count": 53
        }
      ]
    },
    {
      "cell_type": "code",
      "source": [],
      "metadata": {
        "id": "MjcZ7iZ-ShMg"
      },
      "execution_count": null,
      "outputs": []
    }
  ]
}